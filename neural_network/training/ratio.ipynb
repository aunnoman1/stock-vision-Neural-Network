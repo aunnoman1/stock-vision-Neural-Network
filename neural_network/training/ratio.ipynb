{
 "cells": [
  {
   "cell_type": "code",
   "execution_count": 1,
   "metadata": {},
   "outputs": [
    {
     "name": "stderr",
     "output_type": "stream",
     "text": [
      "2024-11-24 22:25:36.892341: E external/local_xla/xla/stream_executor/cuda/cuda_fft.cc:477] Unable to register cuFFT factory: Attempting to register factory for plugin cuFFT when one has already been registered\n",
      "WARNING: All log messages before absl::InitializeLog() is called are written to STDERR\n",
      "E0000 00:00:1732469136.938562   89423 cuda_dnn.cc:8310] Unable to register cuDNN factory: Attempting to register factory for plugin cuDNN when one has already been registered\n",
      "E0000 00:00:1732469136.951952   89423 cuda_blas.cc:1418] Unable to register cuBLAS factory: Attempting to register factory for plugin cuBLAS when one has already been registered\n",
      "2024-11-24 22:25:37.065626: I tensorflow/core/platform/cpu_feature_guard.cc:210] This TensorFlow binary is optimized to use available CPU instructions in performance-critical operations.\n",
      "To enable the following instructions: AVX2 FMA, in other operations, rebuild TensorFlow with the appropriate compiler flags.\n"
     ]
    }
   ],
   "source": [
    "import os\n",
    "import pandas as pd\n",
    "import numpy as np\n",
    "import matplotlib.pyplot as plt\n",
    "import tensorflow as tf\n",
    "from tqdm import tqdm\n",
    "from sklearn.preprocessing import StandardScaler\n",
    "from sklearn.model_selection import train_test_split\n",
    "import joblib\n",
    "from tensorflow.keras import mixed_precision\n"
   ]
  },
  {
   "cell_type": "code",
   "execution_count": 2,
   "metadata": {},
   "outputs": [],
   "source": [
    "mixed_precision.set_global_policy('mixed_float16')"
   ]
  },
  {
   "cell_type": "code",
   "execution_count": 3,
   "metadata": {},
   "outputs": [
    {
     "data": {
      "text/plain": [
       "(8666, 20, 5)"
      ]
     },
     "execution_count": 3,
     "metadata": {},
     "output_type": "execute_result"
    }
   ],
   "source": [
    "X=np.load(os.path.join(os.path.dirname(os.getcwd()), 'dataset_prep','all_ratio','ratio_X.npy'))\n",
    "X.shape"
   ]
  },
  {
   "cell_type": "code",
   "execution_count": 5,
   "metadata": {},
   "outputs": [
    {
     "data": {
      "text/plain": [
       "(8666,)"
      ]
     },
     "execution_count": 5,
     "metadata": {},
     "output_type": "execute_result"
    }
   ],
   "source": [
    "y=np.load(os.path.join(os.path.dirname(os.getcwd()), 'dataset_prep','all_ratio','ratio_y.npy'))\n",
    "y.shape"
   ]
  },
  {
   "cell_type": "code",
   "execution_count": 6,
   "metadata": {},
   "outputs": [
    {
     "data": {
      "text/plain": [
       "(8666, 1)"
      ]
     },
     "execution_count": 6,
     "metadata": {},
     "output_type": "execute_result"
    }
   ],
   "source": [
    "y=np.reshape(y,(8666,1))\n",
    "y.shape\n"
   ]
  },
  {
   "cell_type": "code",
   "execution_count": 7,
   "metadata": {},
   "outputs": [
    {
     "data": {
      "text/plain": [
       "(8666, 20, 2)"
      ]
     },
     "execution_count": 7,
     "metadata": {},
     "output_type": "execute_result"
    }
   ],
   "source": [
    "X.shape"
   ]
  },
  {
   "cell_type": "code",
   "execution_count": 8,
   "metadata": {},
   "outputs": [],
   "source": [
    "train_size=int(0.9*len(X))\n",
    "val_size=int(0.05*len(X))"
   ]
  },
  {
   "cell_type": "code",
   "execution_count": 9,
   "metadata": {},
   "outputs": [],
   "source": [
    "# input_dataset = tf.data.Dataset.from_tensor_slices((X))\n",
    "# output_dataset = tf.data.Dataset.from_tensor_slices((y))"
   ]
  },
  {
   "cell_type": "code",
   "execution_count": 10,
   "metadata": {},
   "outputs": [
    {
     "name": "stderr",
     "output_type": "stream",
     "text": [
      "I0000 00:00:1732469190.666320   89423 gpu_device.cc:2022] Created device /job:localhost/replica:0/task:0/device:GPU:0 with 9580 MB memory:  -> device: 0, name: NVIDIA GeForce RTX 3060, pci bus id: 0000:29:00.0, compute capability: 8.6\n"
     ]
    }
   ],
   "source": [
    "# dataset = tf.data.Dataset.zip((input_dataset, output_dataset))\n",
    "dataset = tf.data.Dataset.from_tensor_slices((X, y))"
   ]
  },
  {
   "cell_type": "code",
   "execution_count": 11,
   "metadata": {},
   "outputs": [
    {
     "data": {
      "text/plain": [
       "<tf.Tensor: shape=(), dtype=int64, numpy=8666>"
      ]
     },
     "execution_count": 11,
     "metadata": {},
     "output_type": "execute_result"
    }
   ],
   "source": [
    "dataset.cardinality()"
   ]
  },
  {
   "cell_type": "code",
   "execution_count": 12,
   "metadata": {},
   "outputs": [],
   "source": [
    "batch_size = 32"
   ]
  },
  {
   "cell_type": "code",
   "execution_count": 13,
   "metadata": {},
   "outputs": [],
   "source": [
    "dataset = dataset.shuffle(buffer_size=dataset.cardinality().numpy())"
   ]
  },
  {
   "cell_type": "code",
   "execution_count": 14,
   "metadata": {},
   "outputs": [],
   "source": [
    "train_dataset=dataset.take(train_size)\n",
    "val_dataset=dataset.skip(train_size).take(val_size)\n",
    "test_dataset=dataset.skip(train_size+val_size)"
   ]
  },
  {
   "cell_type": "code",
   "execution_count": 15,
   "metadata": {},
   "outputs": [
    {
     "name": "stdout",
     "output_type": "stream",
     "text": [
      "train_dataset: 7799, val_dataset: 433, test_dataset: 434\n"
     ]
    }
   ],
   "source": [
    "print(f'train_dataset: {train_dataset.cardinality()}, val_dataset: {val_dataset.cardinality()}, test_dataset: {test_dataset.cardinality()}')"
   ]
  },
  {
   "cell_type": "code",
   "execution_count": 16,
   "metadata": {},
   "outputs": [],
   "source": [
    "train_dataset = (train_dataset\n",
    "                 .shuffle(buffer_size=train_dataset.cardinality().numpy())\n",
    "                 .batch(batch_size=batch_size)\n",
    "                 .prefetch(tf.data.AUTOTUNE)\n",
    "                 )"
   ]
  },
  {
   "cell_type": "code",
   "execution_count": 17,
   "metadata": {},
   "outputs": [
    {
     "data": {
      "text/plain": [
       "<tf.Tensor: shape=(), dtype=int64, numpy=244>"
      ]
     },
     "execution_count": 17,
     "metadata": {},
     "output_type": "execute_result"
    }
   ],
   "source": [
    "train_dataset.cardinality()"
   ]
  },
  {
   "cell_type": "code",
   "execution_count": 18,
   "metadata": {},
   "outputs": [],
   "source": [
    "val_dataset=(val_dataset\n",
    "             .shuffle(buffer_size=val_dataset.cardinality().numpy())\n",
    "             .batch(batch_size=batch_size)\n",
    "             )"
   ]
  },
  {
   "cell_type": "code",
   "execution_count": 19,
   "metadata": {},
   "outputs": [],
   "source": [
    "test_dataset=(test_dataset\n",
    "              .shuffle(buffer_size=test_dataset.cardinality().numpy())\n",
    "                .batch(batch_size=batch_size)\n",
    "                )"
   ]
  },
  {
   "cell_type": "code",
   "execution_count": 20,
   "metadata": {},
   "outputs": [
    {
     "name": "stdout",
     "output_type": "stream",
     "text": [
      "Input shape for the model: (32, 20, 2)\n"
     ]
    },
    {
     "name": "stderr",
     "output_type": "stream",
     "text": [
      "2024-11-24 22:26:42.085330: I tensorflow/core/framework/local_rendezvous.cc:405] Local rendezvous is aborting with status: OUT_OF_RANGE: End of sequence\n"
     ]
    }
   ],
   "source": [
    "for x_batch, y_batch in train_dataset.take(1):\n",
    "    input_shape = x_batch.shape[:]  # Extract shape of a single batch's inputs\n",
    "    print(f\"Input shape for the model: {input_shape}\")"
   ]
  },
  {
   "cell_type": "code",
   "execution_count": 21,
   "metadata": {},
   "outputs": [
    {
     "data": {
      "text/plain": [
       "TensorShape([32, 20, 2])"
      ]
     },
     "execution_count": 21,
     "metadata": {},
     "output_type": "execute_result"
    }
   ],
   "source": [
    "input_shape"
   ]
  },
  {
   "cell_type": "code",
   "execution_count": null,
   "metadata": {},
   "outputs": [],
   "source": [
    "\n",
    "model = tf.keras.models.Sequential([\n",
    "    tf.keras.layers.Input(shape=[20,5]),\n",
    "    tf.keras.layers.LSTM(128, activation='tanh',return_sequences=True,dropout=0.2),\n",
    "    tf.keras.layers.LSTM(64, activation='tanh',return_sequences=True,dropout=0.2 ),\n",
    "    tf.keras.layers.LSTM(32, activation='tanh',return_sequences=False, ),\n",
    "    tf.keras.layers.Dropout(0.2),\n",
    "    tf.keras.layers.Dense(1)\n",
    "])\n"
   ]
  },
  {
   "cell_type": "code",
   "execution_count": 23,
   "metadata": {},
   "outputs": [],
   "source": [
    "model.compile(optimizer='adam', loss='mean_squared_error', metrics=['mean_squared_error'])"
   ]
  },
  {
   "cell_type": "code",
   "execution_count": 24,
   "metadata": {},
   "outputs": [
    {
     "data": {
      "text/html": [
       "<pre style=\"white-space:pre;overflow-x:auto;line-height:normal;font-family:Menlo,'DejaVu Sans Mono',consolas,'Courier New',monospace\"><span style=\"font-weight: bold\">Model: \"sequential\"</span>\n",
       "</pre>\n"
      ],
      "text/plain": [
       "\u001b[1mModel: \"sequential\"\u001b[0m\n"
      ]
     },
     "metadata": {},
     "output_type": "display_data"
    },
    {
     "data": {
      "text/html": [
       "<pre style=\"white-space:pre;overflow-x:auto;line-height:normal;font-family:Menlo,'DejaVu Sans Mono',consolas,'Courier New',monospace\">┏━━━━━━━━━━━━━━━━━━━━━━━━━━━━━━━━━┳━━━━━━━━━━━━━━━━━━━━━━━━┳━━━━━━━━━━━━━━━┓\n",
       "┃<span style=\"font-weight: bold\"> Layer (type)                    </span>┃<span style=\"font-weight: bold\"> Output Shape           </span>┃<span style=\"font-weight: bold\">       Param # </span>┃\n",
       "┡━━━━━━━━━━━━━━━━━━━━━━━━━━━━━━━━━╇━━━━━━━━━━━━━━━━━━━━━━━━╇━━━━━━━━━━━━━━━┩\n",
       "│ lstm (<span style=\"color: #0087ff; text-decoration-color: #0087ff\">LSTM</span>)                     │ (<span style=\"color: #00d7ff; text-decoration-color: #00d7ff\">None</span>, <span style=\"color: #00af00; text-decoration-color: #00af00\">20</span>, <span style=\"color: #00af00; text-decoration-color: #00af00\">128</span>)        │        <span style=\"color: #00af00; text-decoration-color: #00af00\">67,072</span> │\n",
       "├─────────────────────────────────┼────────────────────────┼───────────────┤\n",
       "│ lstm_1 (<span style=\"color: #0087ff; text-decoration-color: #0087ff\">LSTM</span>)                   │ (<span style=\"color: #00d7ff; text-decoration-color: #00d7ff\">None</span>, <span style=\"color: #00af00; text-decoration-color: #00af00\">20</span>, <span style=\"color: #00af00; text-decoration-color: #00af00\">64</span>)         │        <span style=\"color: #00af00; text-decoration-color: #00af00\">49,408</span> │\n",
       "├─────────────────────────────────┼────────────────────────┼───────────────┤\n",
       "│ lstm_2 (<span style=\"color: #0087ff; text-decoration-color: #0087ff\">LSTM</span>)                   │ (<span style=\"color: #00d7ff; text-decoration-color: #00d7ff\">None</span>, <span style=\"color: #00af00; text-decoration-color: #00af00\">32</span>)             │        <span style=\"color: #00af00; text-decoration-color: #00af00\">12,416</span> │\n",
       "├─────────────────────────────────┼────────────────────────┼───────────────┤\n",
       "│ dropout (<span style=\"color: #0087ff; text-decoration-color: #0087ff\">Dropout</span>)               │ (<span style=\"color: #00d7ff; text-decoration-color: #00d7ff\">None</span>, <span style=\"color: #00af00; text-decoration-color: #00af00\">32</span>)             │             <span style=\"color: #00af00; text-decoration-color: #00af00\">0</span> │\n",
       "├─────────────────────────────────┼────────────────────────┼───────────────┤\n",
       "│ dense (<span style=\"color: #0087ff; text-decoration-color: #0087ff\">Dense</span>)                   │ (<span style=\"color: #00d7ff; text-decoration-color: #00d7ff\">None</span>, <span style=\"color: #00af00; text-decoration-color: #00af00\">1</span>)              │            <span style=\"color: #00af00; text-decoration-color: #00af00\">33</span> │\n",
       "└─────────────────────────────────┴────────────────────────┴───────────────┘\n",
       "</pre>\n"
      ],
      "text/plain": [
       "┏━━━━━━━━━━━━━━━━━━━━━━━━━━━━━━━━━┳━━━━━━━━━━━━━━━━━━━━━━━━┳━━━━━━━━━━━━━━━┓\n",
       "┃\u001b[1m \u001b[0m\u001b[1mLayer (type)                   \u001b[0m\u001b[1m \u001b[0m┃\u001b[1m \u001b[0m\u001b[1mOutput Shape          \u001b[0m\u001b[1m \u001b[0m┃\u001b[1m \u001b[0m\u001b[1m      Param #\u001b[0m\u001b[1m \u001b[0m┃\n",
       "┡━━━━━━━━━━━━━━━━━━━━━━━━━━━━━━━━━╇━━━━━━━━━━━━━━━━━━━━━━━━╇━━━━━━━━━━━━━━━┩\n",
       "│ lstm (\u001b[38;5;33mLSTM\u001b[0m)                     │ (\u001b[38;5;45mNone\u001b[0m, \u001b[38;5;34m20\u001b[0m, \u001b[38;5;34m128\u001b[0m)        │        \u001b[38;5;34m67,072\u001b[0m │\n",
       "├─────────────────────────────────┼────────────────────────┼───────────────┤\n",
       "│ lstm_1 (\u001b[38;5;33mLSTM\u001b[0m)                   │ (\u001b[38;5;45mNone\u001b[0m, \u001b[38;5;34m20\u001b[0m, \u001b[38;5;34m64\u001b[0m)         │        \u001b[38;5;34m49,408\u001b[0m │\n",
       "├─────────────────────────────────┼────────────────────────┼───────────────┤\n",
       "│ lstm_2 (\u001b[38;5;33mLSTM\u001b[0m)                   │ (\u001b[38;5;45mNone\u001b[0m, \u001b[38;5;34m32\u001b[0m)             │        \u001b[38;5;34m12,416\u001b[0m │\n",
       "├─────────────────────────────────┼────────────────────────┼───────────────┤\n",
       "│ dropout (\u001b[38;5;33mDropout\u001b[0m)               │ (\u001b[38;5;45mNone\u001b[0m, \u001b[38;5;34m32\u001b[0m)             │             \u001b[38;5;34m0\u001b[0m │\n",
       "├─────────────────────────────────┼────────────────────────┼───────────────┤\n",
       "│ dense (\u001b[38;5;33mDense\u001b[0m)                   │ (\u001b[38;5;45mNone\u001b[0m, \u001b[38;5;34m1\u001b[0m)              │            \u001b[38;5;34m33\u001b[0m │\n",
       "└─────────────────────────────────┴────────────────────────┴───────────────┘\n"
      ]
     },
     "metadata": {},
     "output_type": "display_data"
    },
    {
     "data": {
      "text/html": [
       "<pre style=\"white-space:pre;overflow-x:auto;line-height:normal;font-family:Menlo,'DejaVu Sans Mono',consolas,'Courier New',monospace\"><span style=\"font-weight: bold\"> Total params: </span><span style=\"color: #00af00; text-decoration-color: #00af00\">128,929</span> (503.63 KB)\n",
       "</pre>\n"
      ],
      "text/plain": [
       "\u001b[1m Total params: \u001b[0m\u001b[38;5;34m128,929\u001b[0m (503.63 KB)\n"
      ]
     },
     "metadata": {},
     "output_type": "display_data"
    },
    {
     "data": {
      "text/html": [
       "<pre style=\"white-space:pre;overflow-x:auto;line-height:normal;font-family:Menlo,'DejaVu Sans Mono',consolas,'Courier New',monospace\"><span style=\"font-weight: bold\"> Trainable params: </span><span style=\"color: #00af00; text-decoration-color: #00af00\">128,929</span> (503.63 KB)\n",
       "</pre>\n"
      ],
      "text/plain": [
       "\u001b[1m Trainable params: \u001b[0m\u001b[38;5;34m128,929\u001b[0m (503.63 KB)\n"
      ]
     },
     "metadata": {},
     "output_type": "display_data"
    },
    {
     "data": {
      "text/html": [
       "<pre style=\"white-space:pre;overflow-x:auto;line-height:normal;font-family:Menlo,'DejaVu Sans Mono',consolas,'Courier New',monospace\"><span style=\"font-weight: bold\"> Non-trainable params: </span><span style=\"color: #00af00; text-decoration-color: #00af00\">0</span> (0.00 B)\n",
       "</pre>\n"
      ],
      "text/plain": [
       "\u001b[1m Non-trainable params: \u001b[0m\u001b[38;5;34m0\u001b[0m (0.00 B)\n"
      ]
     },
     "metadata": {},
     "output_type": "display_data"
    }
   ],
   "source": [
    "model.summary()"
   ]
  },
  {
   "cell_type": "code",
   "execution_count": 25,
   "metadata": {},
   "outputs": [],
   "source": [
    "epochs = 400"
   ]
  },
  {
   "cell_type": "code",
   "execution_count": 26,
   "metadata": {},
   "outputs": [
    {
     "name": "stdout",
     "output_type": "stream",
     "text": [
      "Epoch 1/400\n"
     ]
    },
    {
     "name": "stderr",
     "output_type": "stream",
     "text": [
      "I0000 00:00:1732469219.827128   89926 cuda_dnn.cc:529] Loaded cuDNN version 90300\n"
     ]
    },
    {
     "name": "stdout",
     "output_type": "stream",
     "text": [
      "\u001b[1m244/244\u001b[0m \u001b[32m━━━━━━━━━━━━━━━━━━━━\u001b[0m\u001b[37m\u001b[0m \u001b[1m6s\u001b[0m 11ms/step - loss: 0.9750 - mean_squared_error: 0.9748 - val_loss: 0.8324 - val_mean_squared_error: 0.8323\n",
      "Epoch 2/400\n",
      "\u001b[1m244/244\u001b[0m \u001b[32m━━━━━━━━━━━━━━━━━━━━\u001b[0m\u001b[37m\u001b[0m \u001b[1m2s\u001b[0m 9ms/step - loss: 1.1191 - mean_squared_error: 1.1190 - val_loss: 1.2441 - val_mean_squared_error: 1.2440\n",
      "Epoch 3/400\n",
      "\u001b[1m244/244\u001b[0m \u001b[32m━━━━━━━━━━━━━━━━━━━━\u001b[0m\u001b[37m\u001b[0m \u001b[1m2s\u001b[0m 9ms/step - loss: 1.1576 - mean_squared_error: 1.1574 - val_loss: 1.1099 - val_mean_squared_error: 1.1097\n",
      "Epoch 4/400\n",
      "\u001b[1m244/244\u001b[0m \u001b[32m━━━━━━━━━━━━━━━━━━━━\u001b[0m\u001b[37m\u001b[0m \u001b[1m2s\u001b[0m 9ms/step - loss: 1.0327 - mean_squared_error: 1.0326 - val_loss: 1.0974 - val_mean_squared_error: 1.0975\n",
      "Epoch 5/400\n",
      "\u001b[1m244/244\u001b[0m \u001b[32m━━━━━━━━━━━━━━━━━━━━\u001b[0m\u001b[37m\u001b[0m \u001b[1m2s\u001b[0m 9ms/step - loss: 0.9960 - mean_squared_error: 0.9960 - val_loss: 0.7171 - val_mean_squared_error: 0.7172\n",
      "Epoch 6/400\n",
      "\u001b[1m244/244\u001b[0m \u001b[32m━━━━━━━━━━━━━━━━━━━━\u001b[0m\u001b[37m\u001b[0m \u001b[1m2s\u001b[0m 9ms/step - loss: 1.0342 - mean_squared_error: 1.0340 - val_loss: 0.7146 - val_mean_squared_error: 0.7147\n",
      "Epoch 7/400\n",
      "\u001b[1m244/244\u001b[0m \u001b[32m━━━━━━━━━━━━━━━━━━━━\u001b[0m\u001b[37m\u001b[0m \u001b[1m2s\u001b[0m 8ms/step - loss: 1.0903 - mean_squared_error: 1.0902 - val_loss: 0.7029 - val_mean_squared_error: 0.7029\n",
      "Epoch 8/400\n",
      "\u001b[1m244/244\u001b[0m \u001b[32m━━━━━━━━━━━━━━━━━━━━\u001b[0m\u001b[37m\u001b[0m \u001b[1m2s\u001b[0m 9ms/step - loss: 0.8756 - mean_squared_error: 0.8755 - val_loss: 0.4869 - val_mean_squared_error: 0.4869\n",
      "Epoch 9/400\n",
      "\u001b[1m244/244\u001b[0m \u001b[32m━━━━━━━━━━━━━━━━━━━━\u001b[0m\u001b[37m\u001b[0m \u001b[1m2s\u001b[0m 9ms/step - loss: 0.9620 - mean_squared_error: 0.9619 - val_loss: 1.0958 - val_mean_squared_error: 1.0955\n",
      "Epoch 10/400\n",
      "\u001b[1m244/244\u001b[0m \u001b[32m━━━━━━━━━━━━━━━━━━━━\u001b[0m\u001b[37m\u001b[0m \u001b[1m2s\u001b[0m 9ms/step - loss: 1.0792 - mean_squared_error: 1.0792 - val_loss: 1.0271 - val_mean_squared_error: 1.0272\n",
      "Epoch 11/400\n",
      "\u001b[1m244/244\u001b[0m \u001b[32m━━━━━━━━━━━━━━━━━━━━\u001b[0m\u001b[37m\u001b[0m \u001b[1m2s\u001b[0m 8ms/step - loss: 0.9785 - mean_squared_error: 0.9785 - val_loss: 0.8426 - val_mean_squared_error: 0.8425\n",
      "Epoch 12/400\n",
      "\u001b[1m244/244\u001b[0m \u001b[32m━━━━━━━━━━━━━━━━━━━━\u001b[0m\u001b[37m\u001b[0m \u001b[1m2s\u001b[0m 9ms/step - loss: 0.9914 - mean_squared_error: 0.9913 - val_loss: 1.6641 - val_mean_squared_error: 1.6639\n",
      "Epoch 13/400\n",
      "\u001b[1m244/244\u001b[0m \u001b[32m━━━━━━━━━━━━━━━━━━━━\u001b[0m\u001b[37m\u001b[0m \u001b[1m2s\u001b[0m 8ms/step - loss: 1.1186 - mean_squared_error: 1.1185 - val_loss: 0.6396 - val_mean_squared_error: 0.6396\n",
      "Epoch 14/400\n",
      "\u001b[1m244/244\u001b[0m \u001b[32m━━━━━━━━━━━━━━━━━━━━\u001b[0m\u001b[37m\u001b[0m \u001b[1m2s\u001b[0m 9ms/step - loss: 0.8501 - mean_squared_error: 0.8501 - val_loss: 0.6482 - val_mean_squared_error: 0.6482\n",
      "Epoch 15/400\n",
      "\u001b[1m244/244\u001b[0m \u001b[32m━━━━━━━━━━━━━━━━━━━━\u001b[0m\u001b[37m\u001b[0m \u001b[1m2s\u001b[0m 9ms/step - loss: 1.0042 - mean_squared_error: 1.0041 - val_loss: 0.6766 - val_mean_squared_error: 0.6766\n",
      "Epoch 16/400\n",
      "\u001b[1m244/244\u001b[0m \u001b[32m━━━━━━━━━━━━━━━━━━━━\u001b[0m\u001b[37m\u001b[0m \u001b[1m2s\u001b[0m 9ms/step - loss: 0.9273 - mean_squared_error: 0.9272 - val_loss: 0.5721 - val_mean_squared_error: 0.5721\n",
      "Epoch 17/400\n",
      "\u001b[1m244/244\u001b[0m \u001b[32m━━━━━━━━━━━━━━━━━━━━\u001b[0m\u001b[37m\u001b[0m \u001b[1m2s\u001b[0m 9ms/step - loss: 0.8832 - mean_squared_error: 0.8832 - val_loss: 0.6148 - val_mean_squared_error: 0.6147\n",
      "Epoch 18/400\n",
      "\u001b[1m244/244\u001b[0m \u001b[32m━━━━━━━━━━━━━━━━━━━━\u001b[0m\u001b[37m\u001b[0m \u001b[1m2s\u001b[0m 9ms/step - loss: 0.8604 - mean_squared_error: 0.8604 - val_loss: 2.4082 - val_mean_squared_error: 2.4071\n",
      "Epoch 19/400\n",
      "\u001b[1m244/244\u001b[0m \u001b[32m━━━━━━━━━━━━━━━━━━━━\u001b[0m\u001b[37m\u001b[0m \u001b[1m2s\u001b[0m 9ms/step - loss: 1.0629 - mean_squared_error: 1.0628 - val_loss: 1.7911 - val_mean_squared_error: 1.7902\n",
      "Epoch 20/400\n",
      "\u001b[1m244/244\u001b[0m \u001b[32m━━━━━━━━━━━━━━━━━━━━\u001b[0m\u001b[37m\u001b[0m \u001b[1m2s\u001b[0m 9ms/step - loss: 0.8440 - mean_squared_error: 0.8440 - val_loss: 0.7076 - val_mean_squared_error: 0.7076\n",
      "Epoch 21/400\n",
      "\u001b[1m244/244\u001b[0m \u001b[32m━━━━━━━━━━━━━━━━━━━━\u001b[0m\u001b[37m\u001b[0m \u001b[1m2s\u001b[0m 9ms/step - loss: 0.9480 - mean_squared_error: 0.9479 - val_loss: 0.6735 - val_mean_squared_error: 0.6735\n",
      "Epoch 22/400\n",
      "\u001b[1m244/244\u001b[0m \u001b[32m━━━━━━━━━━━━━━━━━━━━\u001b[0m\u001b[37m\u001b[0m \u001b[1m2s\u001b[0m 9ms/step - loss: 0.9680 - mean_squared_error: 0.9680 - val_loss: 1.5774 - val_mean_squared_error: 1.5773\n",
      "Epoch 23/400\n",
      "\u001b[1m244/244\u001b[0m \u001b[32m━━━━━━━━━━━━━━━━━━━━\u001b[0m\u001b[37m\u001b[0m \u001b[1m2s\u001b[0m 9ms/step - loss: 1.1336 - mean_squared_error: 1.1334 - val_loss: 0.8137 - val_mean_squared_error: 0.8138\n",
      "Epoch 24/400\n",
      "\u001b[1m244/244\u001b[0m \u001b[32m━━━━━━━━━━━━━━━━━━━━\u001b[0m\u001b[37m\u001b[0m \u001b[1m2s\u001b[0m 9ms/step - loss: 1.0675 - mean_squared_error: 1.0674 - val_loss: 0.7872 - val_mean_squared_error: 0.7872\n",
      "Epoch 25/400\n",
      "\u001b[1m244/244\u001b[0m \u001b[32m━━━━━━━━━━━━━━━━━━━━\u001b[0m\u001b[37m\u001b[0m \u001b[1m2s\u001b[0m 9ms/step - loss: 0.8970 - mean_squared_error: 0.8970 - val_loss: 0.9701 - val_mean_squared_error: 0.9702\n",
      "Epoch 26/400\n",
      "\u001b[1m244/244\u001b[0m \u001b[32m━━━━━━━━━━━━━━━━━━━━\u001b[0m\u001b[37m\u001b[0m \u001b[1m2s\u001b[0m 9ms/step - loss: 1.0325 - mean_squared_error: 1.0325 - val_loss: 0.7175 - val_mean_squared_error: 0.7174\n",
      "Epoch 27/400\n",
      "\u001b[1m244/244\u001b[0m \u001b[32m━━━━━━━━━━━━━━━━━━━━\u001b[0m\u001b[37m\u001b[0m \u001b[1m2s\u001b[0m 9ms/step - loss: 1.0112 - mean_squared_error: 1.0111 - val_loss: 0.9090 - val_mean_squared_error: 0.9089\n",
      "Epoch 28/400\n",
      "\u001b[1m244/244\u001b[0m \u001b[32m━━━━━━━━━━━━━━━━━━━━\u001b[0m\u001b[37m\u001b[0m \u001b[1m2s\u001b[0m 9ms/step - loss: 1.0165 - mean_squared_error: 1.0163 - val_loss: 1.6535 - val_mean_squared_error: 1.6538\n",
      "Epoch 29/400\n",
      "\u001b[1m244/244\u001b[0m \u001b[32m━━━━━━━━━━━━━━━━━━━━\u001b[0m\u001b[37m\u001b[0m \u001b[1m2s\u001b[0m 9ms/step - loss: 0.8046 - mean_squared_error: 0.8046 - val_loss: 0.6283 - val_mean_squared_error: 0.6284\n",
      "Epoch 30/400\n",
      "\u001b[1m244/244\u001b[0m \u001b[32m━━━━━━━━━━━━━━━━━━━━\u001b[0m\u001b[37m\u001b[0m \u001b[1m2s\u001b[0m 9ms/step - loss: 0.8807 - mean_squared_error: 0.8807 - val_loss: 0.6543 - val_mean_squared_error: 0.6543\n",
      "Epoch 31/400\n",
      "\u001b[1m244/244\u001b[0m \u001b[32m━━━━━━━━━━━━━━━━━━━━\u001b[0m\u001b[37m\u001b[0m \u001b[1m2s\u001b[0m 9ms/step - loss: 0.8834 - mean_squared_error: 0.8834 - val_loss: 1.7561 - val_mean_squared_error: 1.7556\n",
      "Epoch 32/400\n",
      "\u001b[1m244/244\u001b[0m \u001b[32m━━━━━━━━━━━━━━━━━━━━\u001b[0m\u001b[37m\u001b[0m \u001b[1m2s\u001b[0m 9ms/step - loss: 1.0120 - mean_squared_error: 1.0120 - val_loss: 0.4497 - val_mean_squared_error: 0.4497\n",
      "Epoch 33/400\n",
      "\u001b[1m244/244\u001b[0m \u001b[32m━━━━━━━━━━━━━━━━━━━━\u001b[0m\u001b[37m\u001b[0m \u001b[1m2s\u001b[0m 9ms/step - loss: 0.9974 - mean_squared_error: 0.9973 - val_loss: 0.8638 - val_mean_squared_error: 0.8639\n",
      "Epoch 34/400\n",
      "\u001b[1m244/244\u001b[0m \u001b[32m━━━━━━━━━━━━━━━━━━━━\u001b[0m\u001b[37m\u001b[0m \u001b[1m2s\u001b[0m 9ms/step - loss: 1.0189 - mean_squared_error: 1.0189 - val_loss: 1.4051 - val_mean_squared_error: 1.4046\n",
      "Epoch 35/400\n",
      "\u001b[1m244/244\u001b[0m \u001b[32m━━━━━━━━━━━━━━━━━━━━\u001b[0m\u001b[37m\u001b[0m \u001b[1m2s\u001b[0m 9ms/step - loss: 0.8831 - mean_squared_error: 0.8831 - val_loss: 0.7757 - val_mean_squared_error: 0.7756\n",
      "Epoch 36/400\n",
      "\u001b[1m244/244\u001b[0m \u001b[32m━━━━━━━━━━━━━━━━━━━━\u001b[0m\u001b[37m\u001b[0m \u001b[1m2s\u001b[0m 9ms/step - loss: 0.8595 - mean_squared_error: 0.8594 - val_loss: 0.8714 - val_mean_squared_error: 0.8714\n",
      "Epoch 37/400\n",
      "\u001b[1m244/244\u001b[0m \u001b[32m━━━━━━━━━━━━━━━━━━━━\u001b[0m\u001b[37m\u001b[0m \u001b[1m2s\u001b[0m 9ms/step - loss: 0.8507 - mean_squared_error: 0.8506 - val_loss: 0.6879 - val_mean_squared_error: 0.6879\n",
      "Epoch 38/400\n",
      "\u001b[1m244/244\u001b[0m \u001b[32m━━━━━━━━━━━━━━━━━━━━\u001b[0m\u001b[37m\u001b[0m \u001b[1m2s\u001b[0m 9ms/step - loss: 1.0028 - mean_squared_error: 1.0028 - val_loss: 0.7388 - val_mean_squared_error: 0.7389\n",
      "Epoch 39/400\n",
      "\u001b[1m244/244\u001b[0m \u001b[32m━━━━━━━━━━━━━━━━━━━━\u001b[0m\u001b[37m\u001b[0m \u001b[1m2s\u001b[0m 8ms/step - loss: 0.9501 - mean_squared_error: 0.9501 - val_loss: 1.3056 - val_mean_squared_error: 1.3051\n",
      "Epoch 40/400\n",
      "\u001b[1m244/244\u001b[0m \u001b[32m━━━━━━━━━━━━━━━━━━━━\u001b[0m\u001b[37m\u001b[0m \u001b[1m2s\u001b[0m 9ms/step - loss: 0.9771 - mean_squared_error: 0.9772 - val_loss: 0.5606 - val_mean_squared_error: 0.5606\n",
      "Epoch 41/400\n",
      "\u001b[1m244/244\u001b[0m \u001b[32m━━━━━━━━━━━━━━━━━━━━\u001b[0m\u001b[37m\u001b[0m \u001b[1m2s\u001b[0m 9ms/step - loss: 0.9232 - mean_squared_error: 0.9231 - val_loss: 0.6780 - val_mean_squared_error: 0.6782\n",
      "Epoch 42/400\n",
      "\u001b[1m244/244\u001b[0m \u001b[32m━━━━━━━━━━━━━━━━━━━━\u001b[0m\u001b[37m\u001b[0m \u001b[1m2s\u001b[0m 8ms/step - loss: 0.8818 - mean_squared_error: 0.8818 - val_loss: 1.1287 - val_mean_squared_error: 1.1288\n",
      "Epoch 43/400\n",
      "\u001b[1m244/244\u001b[0m \u001b[32m━━━━━━━━━━━━━━━━━━━━\u001b[0m\u001b[37m\u001b[0m \u001b[1m2s\u001b[0m 9ms/step - loss: 0.9044 - mean_squared_error: 0.9044 - val_loss: 0.5686 - val_mean_squared_error: 0.5687\n",
      "Epoch 44/400\n",
      "\u001b[1m244/244\u001b[0m \u001b[32m━━━━━━━━━━━━━━━━━━━━\u001b[0m\u001b[37m\u001b[0m \u001b[1m2s\u001b[0m 9ms/step - loss: 0.9134 - mean_squared_error: 0.9134 - val_loss: 0.4681 - val_mean_squared_error: 0.4681\n",
      "Epoch 45/400\n",
      "\u001b[1m244/244\u001b[0m \u001b[32m━━━━━━━━━━━━━━━━━━━━\u001b[0m\u001b[37m\u001b[0m \u001b[1m2s\u001b[0m 9ms/step - loss: 1.0294 - mean_squared_error: 1.0295 - val_loss: 0.7612 - val_mean_squared_error: 0.7612\n",
      "Epoch 46/400\n",
      "\u001b[1m244/244\u001b[0m \u001b[32m━━━━━━━━━━━━━━━━━━━━\u001b[0m\u001b[37m\u001b[0m \u001b[1m2s\u001b[0m 8ms/step - loss: 0.8342 - mean_squared_error: 0.8342 - val_loss: 0.4594 - val_mean_squared_error: 0.4595\n",
      "Epoch 47/400\n",
      "\u001b[1m244/244\u001b[0m \u001b[32m━━━━━━━━━━━━━━━━━━━━\u001b[0m\u001b[37m\u001b[0m \u001b[1m2s\u001b[0m 9ms/step - loss: 0.8936 - mean_squared_error: 0.8936 - val_loss: 0.9574 - val_mean_squared_error: 0.9570\n",
      "Epoch 48/400\n",
      "\u001b[1m244/244\u001b[0m \u001b[32m━━━━━━━━━━━━━━━━━━━━\u001b[0m\u001b[37m\u001b[0m \u001b[1m2s\u001b[0m 9ms/step - loss: 0.7486 - mean_squared_error: 0.7486 - val_loss: 0.8454 - val_mean_squared_error: 0.8453\n",
      "Epoch 49/400\n",
      "\u001b[1m244/244\u001b[0m \u001b[32m━━━━━━━━━━━━━━━━━━━━\u001b[0m\u001b[37m\u001b[0m \u001b[1m2s\u001b[0m 9ms/step - loss: 0.8509 - mean_squared_error: 0.8509 - val_loss: 1.0479 - val_mean_squared_error: 1.0478\n",
      "Epoch 50/400\n",
      "\u001b[1m244/244\u001b[0m \u001b[32m━━━━━━━━━━━━━━━━━━━━\u001b[0m\u001b[37m\u001b[0m \u001b[1m2s\u001b[0m 9ms/step - loss: 0.8643 - mean_squared_error: 0.8643 - val_loss: 0.6051 - val_mean_squared_error: 0.6052\n",
      "Epoch 51/400\n",
      "\u001b[1m244/244\u001b[0m \u001b[32m━━━━━━━━━━━━━━━━━━━━\u001b[0m\u001b[37m\u001b[0m \u001b[1m2s\u001b[0m 9ms/step - loss: 0.8578 - mean_squared_error: 0.8576 - val_loss: 1.6516 - val_mean_squared_error: 1.6505\n",
      "Epoch 52/400\n",
      "\u001b[1m244/244\u001b[0m \u001b[32m━━━━━━━━━━━━━━━━━━━━\u001b[0m\u001b[37m\u001b[0m \u001b[1m2s\u001b[0m 9ms/step - loss: 1.0147 - mean_squared_error: 1.0145 - val_loss: 1.0496 - val_mean_squared_error: 1.0493\n",
      "Epoch 53/400\n",
      "\u001b[1m244/244\u001b[0m \u001b[32m━━━━━━━━━━━━━━━━━━━━\u001b[0m\u001b[37m\u001b[0m \u001b[1m2s\u001b[0m 9ms/step - loss: 0.8752 - mean_squared_error: 0.8751 - val_loss: 1.0185 - val_mean_squared_error: 1.0187\n",
      "Epoch 54/400\n",
      "\u001b[1m244/244\u001b[0m \u001b[32m━━━━━━━━━━━━━━━━━━━━\u001b[0m\u001b[37m\u001b[0m \u001b[1m2s\u001b[0m 9ms/step - loss: 0.8299 - mean_squared_error: 0.8298 - val_loss: 0.6032 - val_mean_squared_error: 0.6033\n",
      "Epoch 55/400\n",
      "\u001b[1m244/244\u001b[0m \u001b[32m━━━━━━━━━━━━━━━━━━━━\u001b[0m\u001b[37m\u001b[0m \u001b[1m2s\u001b[0m 9ms/step - loss: 0.7977 - mean_squared_error: 0.7976 - val_loss: 0.6277 - val_mean_squared_error: 0.6278\n",
      "Epoch 56/400\n",
      "\u001b[1m244/244\u001b[0m \u001b[32m━━━━━━━━━━━━━━━━━━━━\u001b[0m\u001b[37m\u001b[0m \u001b[1m2s\u001b[0m 9ms/step - loss: 0.8784 - mean_squared_error: 0.8784 - val_loss: 0.7725 - val_mean_squared_error: 0.7724\n",
      "Epoch 57/400\n",
      "\u001b[1m244/244\u001b[0m \u001b[32m━━━━━━━━━━━━━━━━━━━━\u001b[0m\u001b[37m\u001b[0m \u001b[1m2s\u001b[0m 9ms/step - loss: 0.9043 - mean_squared_error: 0.9043 - val_loss: 1.0368 - val_mean_squared_error: 1.0364\n",
      "Epoch 58/400\n",
      "\u001b[1m244/244\u001b[0m \u001b[32m━━━━━━━━━━━━━━━━━━━━\u001b[0m\u001b[37m\u001b[0m \u001b[1m2s\u001b[0m 8ms/step - loss: 0.7189 - mean_squared_error: 0.7189 - val_loss: 0.6932 - val_mean_squared_error: 0.6933\n",
      "Epoch 59/400\n",
      "\u001b[1m244/244\u001b[0m \u001b[32m━━━━━━━━━━━━━━━━━━━━\u001b[0m\u001b[37m\u001b[0m \u001b[1m2s\u001b[0m 8ms/step - loss: 0.7802 - mean_squared_error: 0.7803 - val_loss: 0.6646 - val_mean_squared_error: 0.6647\n",
      "Epoch 60/400\n",
      "\u001b[1m244/244\u001b[0m \u001b[32m━━━━━━━━━━━━━━━━━━━━\u001b[0m\u001b[37m\u001b[0m \u001b[1m2s\u001b[0m 9ms/step - loss: 0.9073 - mean_squared_error: 0.9072 - val_loss: 0.7745 - val_mean_squared_error: 0.7746\n",
      "Epoch 61/400\n",
      "\u001b[1m244/244\u001b[0m \u001b[32m━━━━━━━━━━━━━━━━━━━━\u001b[0m\u001b[37m\u001b[0m \u001b[1m2s\u001b[0m 8ms/step - loss: 0.8398 - mean_squared_error: 0.8398 - val_loss: 0.5628 - val_mean_squared_error: 0.5628\n",
      "Epoch 62/400\n",
      "\u001b[1m244/244\u001b[0m \u001b[32m━━━━━━━━━━━━━━━━━━━━\u001b[0m\u001b[37m\u001b[0m \u001b[1m2s\u001b[0m 9ms/step - loss: 0.8278 - mean_squared_error: 0.8278 - val_loss: 0.6201 - val_mean_squared_error: 0.6201\n",
      "Epoch 63/400\n",
      "\u001b[1m244/244\u001b[0m \u001b[32m━━━━━━━━━━━━━━━━━━━━\u001b[0m\u001b[37m\u001b[0m \u001b[1m2s\u001b[0m 8ms/step - loss: 0.7289 - mean_squared_error: 0.7289 - val_loss: 0.9832 - val_mean_squared_error: 0.9831\n",
      "Epoch 64/400\n",
      "\u001b[1m244/244\u001b[0m \u001b[32m━━━━━━━━━━━━━━━━━━━━\u001b[0m\u001b[37m\u001b[0m \u001b[1m2s\u001b[0m 9ms/step - loss: 0.8373 - mean_squared_error: 0.8373 - val_loss: 0.6135 - val_mean_squared_error: 0.6136\n",
      "Epoch 65/400\n",
      "\u001b[1m244/244\u001b[0m \u001b[32m━━━━━━━━━━━━━━━━━━━━\u001b[0m\u001b[37m\u001b[0m \u001b[1m2s\u001b[0m 9ms/step - loss: 0.7441 - mean_squared_error: 0.7441 - val_loss: 0.8359 - val_mean_squared_error: 0.8359\n",
      "Epoch 66/400\n",
      "\u001b[1m244/244\u001b[0m \u001b[32m━━━━━━━━━━━━━━━━━━━━\u001b[0m\u001b[37m\u001b[0m \u001b[1m2s\u001b[0m 9ms/step - loss: 0.7646 - mean_squared_error: 0.7645 - val_loss: 0.5635 - val_mean_squared_error: 0.5636\n",
      "Epoch 67/400\n",
      "\u001b[1m244/244\u001b[0m \u001b[32m━━━━━━━━━━━━━━━━━━━━\u001b[0m\u001b[37m\u001b[0m \u001b[1m2s\u001b[0m 8ms/step - loss: 0.8026 - mean_squared_error: 0.8025 - val_loss: 0.8466 - val_mean_squared_error: 0.8465\n",
      "Epoch 68/400\n",
      "\u001b[1m244/244\u001b[0m \u001b[32m━━━━━━━━━━━━━━━━━━━━\u001b[0m\u001b[37m\u001b[0m \u001b[1m2s\u001b[0m 9ms/step - loss: 0.7155 - mean_squared_error: 0.7155 - val_loss: 0.5703 - val_mean_squared_error: 0.5702\n",
      "Epoch 69/400\n",
      "\u001b[1m244/244\u001b[0m \u001b[32m━━━━━━━━━━━━━━━━━━━━\u001b[0m\u001b[37m\u001b[0m \u001b[1m2s\u001b[0m 9ms/step - loss: 0.7842 - mean_squared_error: 0.7841 - val_loss: 0.6483 - val_mean_squared_error: 0.6483\n",
      "Epoch 70/400\n",
      "\u001b[1m244/244\u001b[0m \u001b[32m━━━━━━━━━━━━━━━━━━━━\u001b[0m\u001b[37m\u001b[0m \u001b[1m2s\u001b[0m 8ms/step - loss: 0.8426 - mean_squared_error: 0.8425 - val_loss: 1.0227 - val_mean_squared_error: 1.0226\n",
      "Epoch 71/400\n",
      "\u001b[1m244/244\u001b[0m \u001b[32m━━━━━━━━━━━━━━━━━━━━\u001b[0m\u001b[37m\u001b[0m \u001b[1m2s\u001b[0m 9ms/step - loss: 0.7316 - mean_squared_error: 0.7315 - val_loss: 0.6933 - val_mean_squared_error: 0.6934\n",
      "Epoch 72/400\n",
      "\u001b[1m244/244\u001b[0m \u001b[32m━━━━━━━━━━━━━━━━━━━━\u001b[0m\u001b[37m\u001b[0m \u001b[1m2s\u001b[0m 8ms/step - loss: 0.6752 - mean_squared_error: 0.6752 - val_loss: 0.9621 - val_mean_squared_error: 0.9618\n",
      "Epoch 73/400\n",
      "\u001b[1m244/244\u001b[0m \u001b[32m━━━━━━━━━━━━━━━━━━━━\u001b[0m\u001b[37m\u001b[0m \u001b[1m2s\u001b[0m 9ms/step - loss: 0.7151 - mean_squared_error: 0.7150 - val_loss: 0.5428 - val_mean_squared_error: 0.5427\n",
      "Epoch 74/400\n",
      "\u001b[1m244/244\u001b[0m \u001b[32m━━━━━━━━━━━━━━━━━━━━\u001b[0m\u001b[37m\u001b[0m \u001b[1m2s\u001b[0m 9ms/step - loss: 0.7251 - mean_squared_error: 0.7251 - val_loss: 0.6439 - val_mean_squared_error: 0.6438\n",
      "Epoch 75/400\n",
      "\u001b[1m244/244\u001b[0m \u001b[32m━━━━━━━━━━━━━━━━━━━━\u001b[0m\u001b[37m\u001b[0m \u001b[1m2s\u001b[0m 9ms/step - loss: 0.7008 - mean_squared_error: 0.7007 - val_loss: 1.1058 - val_mean_squared_error: 1.1052\n",
      "Epoch 76/400\n",
      "\u001b[1m244/244\u001b[0m \u001b[32m━━━━━━━━━━━━━━━━━━━━\u001b[0m\u001b[37m\u001b[0m \u001b[1m2s\u001b[0m 9ms/step - loss: 0.6505 - mean_squared_error: 0.6504 - val_loss: 0.6810 - val_mean_squared_error: 0.6810\n",
      "Epoch 77/400\n",
      "\u001b[1m244/244\u001b[0m \u001b[32m━━━━━━━━━━━━━━━━━━━━\u001b[0m\u001b[37m\u001b[0m \u001b[1m2s\u001b[0m 9ms/step - loss: 0.7186 - mean_squared_error: 0.7186 - val_loss: 0.7530 - val_mean_squared_error: 0.7529\n",
      "Epoch 78/400\n",
      "\u001b[1m244/244\u001b[0m \u001b[32m━━━━━━━━━━━━━━━━━━━━\u001b[0m\u001b[37m\u001b[0m \u001b[1m2s\u001b[0m 9ms/step - loss: 0.7349 - mean_squared_error: 0.7349 - val_loss: 1.9933 - val_mean_squared_error: 1.9931\n",
      "Epoch 79/400\n",
      "\u001b[1m244/244\u001b[0m \u001b[32m━━━━━━━━━━━━━━━━━━━━\u001b[0m\u001b[37m\u001b[0m \u001b[1m2s\u001b[0m 9ms/step - loss: 0.6618 - mean_squared_error: 0.6618 - val_loss: 0.7665 - val_mean_squared_error: 0.7665\n",
      "Epoch 80/400\n",
      "\u001b[1m244/244\u001b[0m \u001b[32m━━━━━━━━━━━━━━━━━━━━\u001b[0m\u001b[37m\u001b[0m \u001b[1m2s\u001b[0m 9ms/step - loss: 0.6922 - mean_squared_error: 0.6922 - val_loss: 0.5579 - val_mean_squared_error: 0.5579\n",
      "Epoch 81/400\n",
      "\u001b[1m244/244\u001b[0m \u001b[32m━━━━━━━━━━━━━━━━━━━━\u001b[0m\u001b[37m\u001b[0m \u001b[1m2s\u001b[0m 9ms/step - loss: 0.6651 - mean_squared_error: 0.6651 - val_loss: 0.6404 - val_mean_squared_error: 0.6404\n",
      "Epoch 82/400\n",
      "\u001b[1m244/244\u001b[0m \u001b[32m━━━━━━━━━━━━━━━━━━━━\u001b[0m\u001b[37m\u001b[0m \u001b[1m2s\u001b[0m 9ms/step - loss: 0.7054 - mean_squared_error: 0.7054 - val_loss: 0.5404 - val_mean_squared_error: 0.5403\n",
      "Epoch 83/400\n",
      "\u001b[1m244/244\u001b[0m \u001b[32m━━━━━━━━━━━━━━━━━━━━\u001b[0m\u001b[37m\u001b[0m \u001b[1m2s\u001b[0m 9ms/step - loss: 0.9755 - mean_squared_error: 0.9755 - val_loss: 0.5722 - val_mean_squared_error: 0.5722\n",
      "Epoch 84/400\n",
      "\u001b[1m244/244\u001b[0m \u001b[32m━━━━━━━━━━━━━━━━━━━━\u001b[0m\u001b[37m\u001b[0m \u001b[1m2s\u001b[0m 9ms/step - loss: 0.6040 - mean_squared_error: 0.6040 - val_loss: 0.8260 - val_mean_squared_error: 0.8259\n",
      "Epoch 85/400\n",
      "\u001b[1m244/244\u001b[0m \u001b[32m━━━━━━━━━━━━━━━━━━━━\u001b[0m\u001b[37m\u001b[0m \u001b[1m2s\u001b[0m 9ms/step - loss: 0.6312 - mean_squared_error: 0.6311 - val_loss: 0.5007 - val_mean_squared_error: 0.5007\n",
      "Epoch 86/400\n",
      "\u001b[1m244/244\u001b[0m \u001b[32m━━━━━━━━━━━━━━━━━━━━\u001b[0m\u001b[37m\u001b[0m \u001b[1m2s\u001b[0m 9ms/step - loss: 0.6768 - mean_squared_error: 0.6767 - val_loss: 0.6139 - val_mean_squared_error: 0.6138\n",
      "Epoch 87/400\n",
      "\u001b[1m244/244\u001b[0m \u001b[32m━━━━━━━━━━━━━━━━━━━━\u001b[0m\u001b[37m\u001b[0m \u001b[1m2s\u001b[0m 8ms/step - loss: 0.6247 - mean_squared_error: 0.6246 - val_loss: 0.5495 - val_mean_squared_error: 0.5495\n",
      "Epoch 88/400\n",
      "\u001b[1m244/244\u001b[0m \u001b[32m━━━━━━━━━━━━━━━━━━━━\u001b[0m\u001b[37m\u001b[0m \u001b[1m2s\u001b[0m 9ms/step - loss: 0.6468 - mean_squared_error: 0.6467 - val_loss: 0.6423 - val_mean_squared_error: 0.6423\n",
      "Epoch 89/400\n",
      "\u001b[1m244/244\u001b[0m \u001b[32m━━━━━━━━━━━━━━━━━━━━\u001b[0m\u001b[37m\u001b[0m \u001b[1m2s\u001b[0m 9ms/step - loss: 0.6275 - mean_squared_error: 0.6276 - val_loss: 0.7961 - val_mean_squared_error: 0.7961\n",
      "Epoch 90/400\n",
      "\u001b[1m244/244\u001b[0m \u001b[32m━━━━━━━━━━━━━━━━━━━━\u001b[0m\u001b[37m\u001b[0m \u001b[1m2s\u001b[0m 9ms/step - loss: 0.6671 - mean_squared_error: 0.6671 - val_loss: 0.6904 - val_mean_squared_error: 0.6903\n",
      "Epoch 91/400\n",
      "\u001b[1m244/244\u001b[0m \u001b[32m━━━━━━━━━━━━━━━━━━━━\u001b[0m\u001b[37m\u001b[0m \u001b[1m2s\u001b[0m 8ms/step - loss: 0.8586 - mean_squared_error: 0.8585 - val_loss: 0.5265 - val_mean_squared_error: 0.5266\n",
      "Epoch 92/400\n",
      "\u001b[1m244/244\u001b[0m \u001b[32m━━━━━━━━━━━━━━━━━━━━\u001b[0m\u001b[37m\u001b[0m \u001b[1m2s\u001b[0m 9ms/step - loss: 0.6623 - mean_squared_error: 0.6623 - val_loss: 0.8105 - val_mean_squared_error: 0.8106\n",
      "Epoch 93/400\n",
      "\u001b[1m244/244\u001b[0m \u001b[32m━━━━━━━━━━━━━━━━━━━━\u001b[0m\u001b[37m\u001b[0m \u001b[1m2s\u001b[0m 9ms/step - loss: 0.6816 - mean_squared_error: 0.6816 - val_loss: 0.5139 - val_mean_squared_error: 0.5138\n",
      "Epoch 94/400\n",
      "\u001b[1m244/244\u001b[0m \u001b[32m━━━━━━━━━━━━━━━━━━━━\u001b[0m\u001b[37m\u001b[0m \u001b[1m2s\u001b[0m 8ms/step - loss: 0.5939 - mean_squared_error: 0.5939 - val_loss: 0.4317 - val_mean_squared_error: 0.4317\n",
      "Epoch 95/400\n",
      "\u001b[1m244/244\u001b[0m \u001b[32m━━━━━━━━━━━━━━━━━━━━\u001b[0m\u001b[37m\u001b[0m \u001b[1m2s\u001b[0m 9ms/step - loss: 0.8153 - mean_squared_error: 0.8154 - val_loss: 0.6806 - val_mean_squared_error: 0.6808\n",
      "Epoch 96/400\n",
      "\u001b[1m244/244\u001b[0m \u001b[32m━━━━━━━━━━━━━━━━━━━━\u001b[0m\u001b[37m\u001b[0m \u001b[1m2s\u001b[0m 9ms/step - loss: 0.6053 - mean_squared_error: 0.6053 - val_loss: 0.5991 - val_mean_squared_error: 0.5991\n",
      "Epoch 97/400\n",
      "\u001b[1m244/244\u001b[0m \u001b[32m━━━━━━━━━━━━━━━━━━━━\u001b[0m\u001b[37m\u001b[0m \u001b[1m2s\u001b[0m 9ms/step - loss: 0.6314 - mean_squared_error: 0.6314 - val_loss: 0.4833 - val_mean_squared_error: 0.4834\n",
      "Epoch 98/400\n",
      "\u001b[1m244/244\u001b[0m \u001b[32m━━━━━━━━━━━━━━━━━━━━\u001b[0m\u001b[37m\u001b[0m \u001b[1m2s\u001b[0m 8ms/step - loss: 0.8564 - mean_squared_error: 0.8563 - val_loss: 0.5023 - val_mean_squared_error: 0.5023\n",
      "Epoch 99/400\n",
      "\u001b[1m244/244\u001b[0m \u001b[32m━━━━━━━━━━━━━━━━━━━━\u001b[0m\u001b[37m\u001b[0m \u001b[1m2s\u001b[0m 8ms/step - loss: 0.6795 - mean_squared_error: 0.6794 - val_loss: 1.2560 - val_mean_squared_error: 1.2562\n",
      "Epoch 100/400\n",
      "\u001b[1m244/244\u001b[0m \u001b[32m━━━━━━━━━━━━━━━━━━━━\u001b[0m\u001b[37m\u001b[0m \u001b[1m2s\u001b[0m 8ms/step - loss: 0.6547 - mean_squared_error: 0.6547 - val_loss: 0.6109 - val_mean_squared_error: 0.6108\n",
      "Epoch 101/400\n",
      "\u001b[1m244/244\u001b[0m \u001b[32m━━━━━━━━━━━━━━━━━━━━\u001b[0m\u001b[37m\u001b[0m \u001b[1m2s\u001b[0m 9ms/step - loss: 0.5736 - mean_squared_error: 0.5736 - val_loss: 0.8970 - val_mean_squared_error: 0.8969\n",
      "Epoch 102/400\n",
      "\u001b[1m244/244\u001b[0m \u001b[32m━━━━━━━━━━━━━━━━━━━━\u001b[0m\u001b[37m\u001b[0m \u001b[1m2s\u001b[0m 8ms/step - loss: 0.6367 - mean_squared_error: 0.6367 - val_loss: 0.4440 - val_mean_squared_error: 0.4440\n",
      "Epoch 103/400\n",
      "\u001b[1m244/244\u001b[0m \u001b[32m━━━━━━━━━━━━━━━━━━━━\u001b[0m\u001b[37m\u001b[0m \u001b[1m2s\u001b[0m 9ms/step - loss: 0.8361 - mean_squared_error: 0.8359 - val_loss: 0.9443 - val_mean_squared_error: 0.9441\n",
      "Epoch 104/400\n",
      "\u001b[1m244/244\u001b[0m \u001b[32m━━━━━━━━━━━━━━━━━━━━\u001b[0m\u001b[37m\u001b[0m \u001b[1m2s\u001b[0m 9ms/step - loss: 0.6166 - mean_squared_error: 0.6167 - val_loss: 0.4466 - val_mean_squared_error: 0.4466\n",
      "Epoch 105/400\n",
      "\u001b[1m244/244\u001b[0m \u001b[32m━━━━━━━━━━━━━━━━━━━━\u001b[0m\u001b[37m\u001b[0m \u001b[1m2s\u001b[0m 9ms/step - loss: 0.5480 - mean_squared_error: 0.5480 - val_loss: 0.5292 - val_mean_squared_error: 0.5292\n",
      "Epoch 106/400\n",
      "\u001b[1m244/244\u001b[0m \u001b[32m━━━━━━━━━━━━━━━━━━━━\u001b[0m\u001b[37m\u001b[0m \u001b[1m2s\u001b[0m 9ms/step - loss: 0.5780 - mean_squared_error: 0.5780 - val_loss: 0.8760 - val_mean_squared_error: 0.8760\n",
      "Epoch 107/400\n",
      "\u001b[1m244/244\u001b[0m \u001b[32m━━━━━━━━━━━━━━━━━━━━\u001b[0m\u001b[37m\u001b[0m \u001b[1m2s\u001b[0m 8ms/step - loss: 0.6157 - mean_squared_error: 0.6157 - val_loss: 0.5618 - val_mean_squared_error: 0.5620\n",
      "Epoch 108/400\n",
      "\u001b[1m244/244\u001b[0m \u001b[32m━━━━━━━━━━━━━━━━━━━━\u001b[0m\u001b[37m\u001b[0m \u001b[1m2s\u001b[0m 9ms/step - loss: 0.6187 - mean_squared_error: 0.6187 - val_loss: 0.5453 - val_mean_squared_error: 0.5454\n",
      "Epoch 109/400\n",
      "\u001b[1m244/244\u001b[0m \u001b[32m━━━━━━━━━━━━━━━━━━━━\u001b[0m\u001b[37m\u001b[0m \u001b[1m2s\u001b[0m 8ms/step - loss: 0.6531 - mean_squared_error: 0.6530 - val_loss: 0.5259 - val_mean_squared_error: 0.5258\n",
      "Epoch 110/400\n",
      "\u001b[1m244/244\u001b[0m \u001b[32m━━━━━━━━━━━━━━━━━━━━\u001b[0m\u001b[37m\u001b[0m \u001b[1m2s\u001b[0m 9ms/step - loss: 0.5563 - mean_squared_error: 0.5563 - val_loss: 0.5413 - val_mean_squared_error: 0.5413\n",
      "Epoch 111/400\n",
      "\u001b[1m244/244\u001b[0m \u001b[32m━━━━━━━━━━━━━━━━━━━━\u001b[0m\u001b[37m\u001b[0m \u001b[1m2s\u001b[0m 8ms/step - loss: 0.5715 - mean_squared_error: 0.5715 - val_loss: 0.4592 - val_mean_squared_error: 0.4592\n",
      "Epoch 112/400\n",
      "\u001b[1m244/244\u001b[0m \u001b[32m━━━━━━━━━━━━━━━━━━━━\u001b[0m\u001b[37m\u001b[0m \u001b[1m2s\u001b[0m 8ms/step - loss: 0.6282 - mean_squared_error: 0.6281 - val_loss: 0.5108 - val_mean_squared_error: 0.5108\n",
      "Epoch 113/400\n",
      "\u001b[1m244/244\u001b[0m \u001b[32m━━━━━━━━━━━━━━━━━━━━\u001b[0m\u001b[37m\u001b[0m \u001b[1m2s\u001b[0m 8ms/step - loss: 0.6421 - mean_squared_error: 0.6420 - val_loss: 0.4804 - val_mean_squared_error: 0.4804\n",
      "Epoch 114/400\n",
      "\u001b[1m244/244\u001b[0m \u001b[32m━━━━━━━━━━━━━━━━━━━━\u001b[0m\u001b[37m\u001b[0m \u001b[1m2s\u001b[0m 8ms/step - loss: 0.5847 - mean_squared_error: 0.5847 - val_loss: 0.4034 - val_mean_squared_error: 0.4033\n",
      "Epoch 115/400\n",
      "\u001b[1m244/244\u001b[0m \u001b[32m━━━━━━━━━━━━━━━━━━━━\u001b[0m\u001b[37m\u001b[0m \u001b[1m2s\u001b[0m 8ms/step - loss: 0.5587 - mean_squared_error: 0.5587 - val_loss: 0.6329 - val_mean_squared_error: 0.6328\n",
      "Epoch 116/400\n",
      "\u001b[1m244/244\u001b[0m \u001b[32m━━━━━━━━━━━━━━━━━━━━\u001b[0m\u001b[37m\u001b[0m \u001b[1m2s\u001b[0m 9ms/step - loss: 0.5874 - mean_squared_error: 0.5874 - val_loss: 0.5158 - val_mean_squared_error: 0.5158\n",
      "Epoch 117/400\n",
      "\u001b[1m244/244\u001b[0m \u001b[32m━━━━━━━━━━━━━━━━━━━━\u001b[0m\u001b[37m\u001b[0m \u001b[1m2s\u001b[0m 9ms/step - loss: 0.5618 - mean_squared_error: 0.5619 - val_loss: 0.4127 - val_mean_squared_error: 0.4127\n",
      "Epoch 118/400\n",
      "\u001b[1m244/244\u001b[0m \u001b[32m━━━━━━━━━━━━━━━━━━━━\u001b[0m\u001b[37m\u001b[0m \u001b[1m2s\u001b[0m 9ms/step - loss: 0.5850 - mean_squared_error: 0.5849 - val_loss: 0.8504 - val_mean_squared_error: 0.8504\n",
      "Epoch 119/400\n",
      "\u001b[1m244/244\u001b[0m \u001b[32m━━━━━━━━━━━━━━━━━━━━\u001b[0m\u001b[37m\u001b[0m \u001b[1m2s\u001b[0m 8ms/step - loss: 0.5068 - mean_squared_error: 0.5068 - val_loss: 0.5710 - val_mean_squared_error: 0.5710\n",
      "Epoch 120/400\n",
      "\u001b[1m244/244\u001b[0m \u001b[32m━━━━━━━━━━━━━━━━━━━━\u001b[0m\u001b[37m\u001b[0m \u001b[1m2s\u001b[0m 9ms/step - loss: 0.5357 - mean_squared_error: 0.5358 - val_loss: 0.4949 - val_mean_squared_error: 0.4950\n",
      "Epoch 121/400\n",
      "\u001b[1m244/244\u001b[0m \u001b[32m━━━━━━━━━━━━━━━━━━━━\u001b[0m\u001b[37m\u001b[0m \u001b[1m2s\u001b[0m 9ms/step - loss: 0.4872 - mean_squared_error: 0.4873 - val_loss: 0.4148 - val_mean_squared_error: 0.4148\n",
      "Epoch 122/400\n",
      "\u001b[1m244/244\u001b[0m \u001b[32m━━━━━━━━━━━━━━━━━━━━\u001b[0m\u001b[37m\u001b[0m \u001b[1m2s\u001b[0m 9ms/step - loss: 0.4863 - mean_squared_error: 0.4862 - val_loss: 0.4310 - val_mean_squared_error: 0.4310\n",
      "Epoch 123/400\n",
      "\u001b[1m244/244\u001b[0m \u001b[32m━━━━━━━━━━━━━━━━━━━━\u001b[0m\u001b[37m\u001b[0m \u001b[1m2s\u001b[0m 9ms/step - loss: 0.4844 - mean_squared_error: 0.4844 - val_loss: 0.3983 - val_mean_squared_error: 0.3982\n",
      "Epoch 124/400\n",
      "\u001b[1m244/244\u001b[0m \u001b[32m━━━━━━━━━━━━━━━━━━━━\u001b[0m\u001b[37m\u001b[0m \u001b[1m2s\u001b[0m 9ms/step - loss: 0.5391 - mean_squared_error: 0.5392 - val_loss: 0.7500 - val_mean_squared_error: 0.7502\n",
      "Epoch 125/400\n",
      "\u001b[1m244/244\u001b[0m \u001b[32m━━━━━━━━━━━━━━━━━━━━\u001b[0m\u001b[37m\u001b[0m \u001b[1m2s\u001b[0m 8ms/step - loss: 0.4923 - mean_squared_error: 0.4923 - val_loss: 0.3659 - val_mean_squared_error: 0.3659\n",
      "Epoch 126/400\n",
      "\u001b[1m244/244\u001b[0m \u001b[32m━━━━━━━━━━━━━━━━━━━━\u001b[0m\u001b[37m\u001b[0m \u001b[1m2s\u001b[0m 8ms/step - loss: 0.5832 - mean_squared_error: 0.5832 - val_loss: 0.4095 - val_mean_squared_error: 0.4095\n",
      "Epoch 127/400\n",
      "\u001b[1m244/244\u001b[0m \u001b[32m━━━━━━━━━━━━━━━━━━━━\u001b[0m\u001b[37m\u001b[0m \u001b[1m2s\u001b[0m 8ms/step - loss: 0.4644 - mean_squared_error: 0.4644 - val_loss: 0.5220 - val_mean_squared_error: 0.5220\n",
      "Epoch 128/400\n",
      "\u001b[1m244/244\u001b[0m \u001b[32m━━━━━━━━━━━━━━━━━━━━\u001b[0m\u001b[37m\u001b[0m \u001b[1m2s\u001b[0m 9ms/step - loss: 0.5052 - mean_squared_error: 0.5052 - val_loss: 0.4089 - val_mean_squared_error: 0.4089\n",
      "Epoch 129/400\n",
      "\u001b[1m244/244\u001b[0m \u001b[32m━━━━━━━━━━━━━━━━━━━━\u001b[0m\u001b[37m\u001b[0m \u001b[1m2s\u001b[0m 9ms/step - loss: 0.5340 - mean_squared_error: 0.5339 - val_loss: 0.4787 - val_mean_squared_error: 0.4786\n",
      "Epoch 130/400\n",
      "\u001b[1m244/244\u001b[0m \u001b[32m━━━━━━━━━━━━━━━━━━━━\u001b[0m\u001b[37m\u001b[0m \u001b[1m2s\u001b[0m 8ms/step - loss: 0.5254 - mean_squared_error: 0.5254 - val_loss: 0.5002 - val_mean_squared_error: 0.5003\n",
      "Epoch 131/400\n",
      "\u001b[1m244/244\u001b[0m \u001b[32m━━━━━━━━━━━━━━━━━━━━\u001b[0m\u001b[37m\u001b[0m \u001b[1m2s\u001b[0m 9ms/step - loss: 0.5595 - mean_squared_error: 0.5595 - val_loss: 0.4674 - val_mean_squared_error: 0.4675\n",
      "Epoch 132/400\n",
      "\u001b[1m244/244\u001b[0m \u001b[32m━━━━━━━━━━━━━━━━━━━━\u001b[0m\u001b[37m\u001b[0m \u001b[1m2s\u001b[0m 8ms/step - loss: 0.4425 - mean_squared_error: 0.4425 - val_loss: 0.3984 - val_mean_squared_error: 0.3984\n",
      "Epoch 133/400\n",
      "\u001b[1m244/244\u001b[0m \u001b[32m━━━━━━━━━━━━━━━━━━━━\u001b[0m\u001b[37m\u001b[0m \u001b[1m2s\u001b[0m 8ms/step - loss: 0.4465 - mean_squared_error: 0.4465 - val_loss: 0.3023 - val_mean_squared_error: 0.3023\n",
      "Epoch 134/400\n",
      "\u001b[1m244/244\u001b[0m \u001b[32m━━━━━━━━━━━━━━━━━━━━\u001b[0m\u001b[37m\u001b[0m \u001b[1m2s\u001b[0m 9ms/step - loss: 0.5037 - mean_squared_error: 0.5038 - val_loss: 0.4080 - val_mean_squared_error: 0.4080\n",
      "Epoch 135/400\n",
      "\u001b[1m244/244\u001b[0m \u001b[32m━━━━━━━━━━━━━━━━━━━━\u001b[0m\u001b[37m\u001b[0m \u001b[1m2s\u001b[0m 8ms/step - loss: 0.4910 - mean_squared_error: 0.4910 - val_loss: 0.4453 - val_mean_squared_error: 0.4453\n",
      "Epoch 136/400\n",
      "\u001b[1m244/244\u001b[0m \u001b[32m━━━━━━━━━━━━━━━━━━━━\u001b[0m\u001b[37m\u001b[0m \u001b[1m2s\u001b[0m 9ms/step - loss: 0.5695 - mean_squared_error: 0.5695 - val_loss: 0.5666 - val_mean_squared_error: 0.5666\n",
      "Epoch 137/400\n",
      "\u001b[1m244/244\u001b[0m \u001b[32m━━━━━━━━━━━━━━━━━━━━\u001b[0m\u001b[37m\u001b[0m \u001b[1m2s\u001b[0m 9ms/step - loss: 0.6764 - mean_squared_error: 0.6762 - val_loss: 0.3931 - val_mean_squared_error: 0.3931\n",
      "Epoch 138/400\n",
      "\u001b[1m244/244\u001b[0m \u001b[32m━━━━━━━━━━━━━━━━━━━━\u001b[0m\u001b[37m\u001b[0m \u001b[1m2s\u001b[0m 9ms/step - loss: 0.4630 - mean_squared_error: 0.4630 - val_loss: 0.6770 - val_mean_squared_error: 0.6770\n",
      "Epoch 139/400\n",
      "\u001b[1m244/244\u001b[0m \u001b[32m━━━━━━━━━━━━━━━━━━━━\u001b[0m\u001b[37m\u001b[0m \u001b[1m2s\u001b[0m 9ms/step - loss: 0.4629 - mean_squared_error: 0.4629 - val_loss: 0.4368 - val_mean_squared_error: 0.4368\n",
      "Epoch 140/400\n",
      "\u001b[1m244/244\u001b[0m \u001b[32m━━━━━━━━━━━━━━━━━━━━\u001b[0m\u001b[37m\u001b[0m \u001b[1m2s\u001b[0m 8ms/step - loss: 0.4259 - mean_squared_error: 0.4259 - val_loss: 0.4184 - val_mean_squared_error: 0.4184\n",
      "Epoch 141/400\n",
      "\u001b[1m244/244\u001b[0m \u001b[32m━━━━━━━━━━━━━━━━━━━━\u001b[0m\u001b[37m\u001b[0m \u001b[1m2s\u001b[0m 9ms/step - loss: 0.5444 - mean_squared_error: 0.5444 - val_loss: 0.4985 - val_mean_squared_error: 0.4986\n",
      "Epoch 142/400\n",
      "\u001b[1m244/244\u001b[0m \u001b[32m━━━━━━━━━━━━━━━━━━━━\u001b[0m\u001b[37m\u001b[0m \u001b[1m2s\u001b[0m 8ms/step - loss: 0.5108 - mean_squared_error: 0.5107 - val_loss: 0.5629 - val_mean_squared_error: 0.5628\n",
      "Epoch 143/400\n",
      "\u001b[1m244/244\u001b[0m \u001b[32m━━━━━━━━━━━━━━━━━━━━\u001b[0m\u001b[37m\u001b[0m \u001b[1m2s\u001b[0m 9ms/step - loss: 0.4166 - mean_squared_error: 0.4166 - val_loss: 0.4437 - val_mean_squared_error: 0.4438\n",
      "Epoch 144/400\n",
      "\u001b[1m244/244\u001b[0m \u001b[32m━━━━━━━━━━━━━━━━━━━━\u001b[0m\u001b[37m\u001b[0m \u001b[1m2s\u001b[0m 9ms/step - loss: 0.4292 - mean_squared_error: 0.4292 - val_loss: 0.3813 - val_mean_squared_error: 0.3813\n",
      "Epoch 145/400\n",
      "\u001b[1m244/244\u001b[0m \u001b[32m━━━━━━━━━━━━━━━━━━━━\u001b[0m\u001b[37m\u001b[0m \u001b[1m2s\u001b[0m 9ms/step - loss: 0.4295 - mean_squared_error: 0.4295 - val_loss: 0.4530 - val_mean_squared_error: 0.4531\n",
      "Epoch 146/400\n",
      "\u001b[1m244/244\u001b[0m \u001b[32m━━━━━━━━━━━━━━━━━━━━\u001b[0m\u001b[37m\u001b[0m \u001b[1m2s\u001b[0m 9ms/step - loss: 0.4266 - mean_squared_error: 0.4266 - val_loss: 0.3656 - val_mean_squared_error: 0.3656\n",
      "Epoch 147/400\n",
      "\u001b[1m244/244\u001b[0m \u001b[32m━━━━━━━━━━━━━━━━━━━━\u001b[0m\u001b[37m\u001b[0m \u001b[1m2s\u001b[0m 9ms/step - loss: 0.3980 - mean_squared_error: 0.3980 - val_loss: 0.4448 - val_mean_squared_error: 0.4448\n",
      "Epoch 148/400\n",
      "\u001b[1m244/244\u001b[0m \u001b[32m━━━━━━━━━━━━━━━━━━━━\u001b[0m\u001b[37m\u001b[0m \u001b[1m2s\u001b[0m 8ms/step - loss: 0.4347 - mean_squared_error: 0.4348 - val_loss: 0.2864 - val_mean_squared_error: 0.2864\n",
      "Epoch 149/400\n",
      "\u001b[1m244/244\u001b[0m \u001b[32m━━━━━━━━━━━━━━━━━━━━\u001b[0m\u001b[37m\u001b[0m \u001b[1m2s\u001b[0m 9ms/step - loss: 0.4033 - mean_squared_error: 0.4033 - val_loss: 0.3408 - val_mean_squared_error: 0.3409\n",
      "Epoch 150/400\n",
      "\u001b[1m244/244\u001b[0m \u001b[32m━━━━━━━━━━━━━━━━━━━━\u001b[0m\u001b[37m\u001b[0m \u001b[1m2s\u001b[0m 8ms/step - loss: 0.4096 - mean_squared_error: 0.4096 - val_loss: 0.4753 - val_mean_squared_error: 0.4754\n",
      "Epoch 151/400\n",
      "\u001b[1m244/244\u001b[0m \u001b[32m━━━━━━━━━━━━━━━━━━━━\u001b[0m\u001b[37m\u001b[0m \u001b[1m2s\u001b[0m 8ms/step - loss: 0.4319 - mean_squared_error: 0.4319 - val_loss: 0.4271 - val_mean_squared_error: 0.4271\n",
      "Epoch 152/400\n",
      "\u001b[1m244/244\u001b[0m \u001b[32m━━━━━━━━━━━━━━━━━━━━\u001b[0m\u001b[37m\u001b[0m \u001b[1m2s\u001b[0m 9ms/step - loss: 0.3986 - mean_squared_error: 0.3986 - val_loss: 0.3070 - val_mean_squared_error: 0.3070\n",
      "Epoch 153/400\n",
      "\u001b[1m244/244\u001b[0m \u001b[32m━━━━━━━━━━━━━━━━━━━━\u001b[0m\u001b[37m\u001b[0m \u001b[1m2s\u001b[0m 8ms/step - loss: 0.4420 - mean_squared_error: 0.4419 - val_loss: 0.3438 - val_mean_squared_error: 0.3438\n",
      "Epoch 154/400\n",
      "\u001b[1m244/244\u001b[0m \u001b[32m━━━━━━━━━━━━━━━━━━━━\u001b[0m\u001b[37m\u001b[0m \u001b[1m2s\u001b[0m 9ms/step - loss: 0.3746 - mean_squared_error: 0.3746 - val_loss: 0.4080 - val_mean_squared_error: 0.4080\n",
      "Epoch 155/400\n",
      "\u001b[1m244/244\u001b[0m \u001b[32m━━━━━━━━━━━━━━━━━━━━\u001b[0m\u001b[37m\u001b[0m \u001b[1m2s\u001b[0m 8ms/step - loss: 0.3959 - mean_squared_error: 0.3959 - val_loss: 0.4243 - val_mean_squared_error: 0.4244\n",
      "Epoch 156/400\n",
      "\u001b[1m244/244\u001b[0m \u001b[32m━━━━━━━━━━━━━━━━━━━━\u001b[0m\u001b[37m\u001b[0m \u001b[1m2s\u001b[0m 8ms/step - loss: 0.3853 - mean_squared_error: 0.3853 - val_loss: 0.4407 - val_mean_squared_error: 0.4407\n",
      "Epoch 157/400\n",
      "\u001b[1m244/244\u001b[0m \u001b[32m━━━━━━━━━━━━━━━━━━━━\u001b[0m\u001b[37m\u001b[0m \u001b[1m2s\u001b[0m 9ms/step - loss: 0.3627 - mean_squared_error: 0.3626 - val_loss: 0.4334 - val_mean_squared_error: 0.4333\n",
      "Epoch 158/400\n",
      "\u001b[1m244/244\u001b[0m \u001b[32m━━━━━━━━━━━━━━━━━━━━\u001b[0m\u001b[37m\u001b[0m \u001b[1m2s\u001b[0m 9ms/step - loss: 0.5276 - mean_squared_error: 0.5276 - val_loss: 0.4162 - val_mean_squared_error: 0.4162\n",
      "Epoch 159/400\n",
      "\u001b[1m244/244\u001b[0m \u001b[32m━━━━━━━━━━━━━━━━━━━━\u001b[0m\u001b[37m\u001b[0m \u001b[1m2s\u001b[0m 8ms/step - loss: 0.3718 - mean_squared_error: 0.3718 - val_loss: 1.0291 - val_mean_squared_error: 1.0288\n",
      "Epoch 160/400\n",
      "\u001b[1m244/244\u001b[0m \u001b[32m━━━━━━━━━━━━━━━━━━━━\u001b[0m\u001b[37m\u001b[0m \u001b[1m2s\u001b[0m 9ms/step - loss: 0.3923 - mean_squared_error: 0.3923 - val_loss: 0.3611 - val_mean_squared_error: 0.3611\n",
      "Epoch 161/400\n",
      "\u001b[1m244/244\u001b[0m \u001b[32m━━━━━━━━━━━━━━━━━━━━\u001b[0m\u001b[37m\u001b[0m \u001b[1m2s\u001b[0m 9ms/step - loss: 0.3873 - mean_squared_error: 0.3873 - val_loss: 0.3667 - val_mean_squared_error: 0.3666\n",
      "Epoch 162/400\n",
      "\u001b[1m244/244\u001b[0m \u001b[32m━━━━━━━━━━━━━━━━━━━━\u001b[0m\u001b[37m\u001b[0m \u001b[1m2s\u001b[0m 9ms/step - loss: 0.3808 - mean_squared_error: 0.3807 - val_loss: 0.3590 - val_mean_squared_error: 0.3590\n",
      "Epoch 163/400\n",
      "\u001b[1m244/244\u001b[0m \u001b[32m━━━━━━━━━━━━━━━━━━━━\u001b[0m\u001b[37m\u001b[0m \u001b[1m2s\u001b[0m 9ms/step - loss: 0.3568 - mean_squared_error: 0.3567 - val_loss: 0.4487 - val_mean_squared_error: 0.4487\n",
      "Epoch 164/400\n",
      "\u001b[1m244/244\u001b[0m \u001b[32m━━━━━━━━━━━━━━━━━━━━\u001b[0m\u001b[37m\u001b[0m \u001b[1m2s\u001b[0m 9ms/step - loss: 0.3669 - mean_squared_error: 0.3669 - val_loss: 0.4295 - val_mean_squared_error: 0.4295\n",
      "Epoch 165/400\n",
      "\u001b[1m244/244\u001b[0m \u001b[32m━━━━━━━━━━━━━━━━━━━━\u001b[0m\u001b[37m\u001b[0m \u001b[1m2s\u001b[0m 9ms/step - loss: 0.4210 - mean_squared_error: 0.4210 - val_loss: 0.3641 - val_mean_squared_error: 0.3641\n",
      "Epoch 166/400\n",
      "\u001b[1m244/244\u001b[0m \u001b[32m━━━━━━━━━━━━━━━━━━━━\u001b[0m\u001b[37m\u001b[0m \u001b[1m2s\u001b[0m 8ms/step - loss: 0.3862 - mean_squared_error: 0.3862 - val_loss: 0.3314 - val_mean_squared_error: 0.3314\n",
      "Epoch 167/400\n",
      "\u001b[1m244/244\u001b[0m \u001b[32m━━━━━━━━━━━━━━━━━━━━\u001b[0m\u001b[37m\u001b[0m \u001b[1m2s\u001b[0m 9ms/step - loss: 0.3837 - mean_squared_error: 0.3837 - val_loss: 0.2770 - val_mean_squared_error: 0.2770\n",
      "Epoch 168/400\n",
      "\u001b[1m244/244\u001b[0m \u001b[32m━━━━━━━━━━━━━━━━━━━━\u001b[0m\u001b[37m\u001b[0m \u001b[1m2s\u001b[0m 9ms/step - loss: 0.3617 - mean_squared_error: 0.3617 - val_loss: 0.2868 - val_mean_squared_error: 0.2868\n",
      "Epoch 169/400\n",
      "\u001b[1m244/244\u001b[0m \u001b[32m━━━━━━━━━━━━━━━━━━━━\u001b[0m\u001b[37m\u001b[0m \u001b[1m2s\u001b[0m 9ms/step - loss: 0.4663 - mean_squared_error: 0.4664 - val_loss: 0.2919 - val_mean_squared_error: 0.2918\n",
      "Epoch 170/400\n",
      "\u001b[1m244/244\u001b[0m \u001b[32m━━━━━━━━━━━━━━━━━━━━\u001b[0m\u001b[37m\u001b[0m \u001b[1m2s\u001b[0m 8ms/step - loss: 0.3300 - mean_squared_error: 0.3300 - val_loss: 0.3339 - val_mean_squared_error: 0.3339\n",
      "Epoch 171/400\n",
      "\u001b[1m244/244\u001b[0m \u001b[32m━━━━━━━━━━━━━━━━━━━━\u001b[0m\u001b[37m\u001b[0m \u001b[1m2s\u001b[0m 9ms/step - loss: 0.4685 - mean_squared_error: 0.4685 - val_loss: 0.3331 - val_mean_squared_error: 0.3331\n",
      "Epoch 172/400\n",
      "\u001b[1m244/244\u001b[0m \u001b[32m━━━━━━━━━━━━━━━━━━━━\u001b[0m\u001b[37m\u001b[0m \u001b[1m2s\u001b[0m 9ms/step - loss: 0.3404 - mean_squared_error: 0.3403 - val_loss: 0.2760 - val_mean_squared_error: 0.2759\n",
      "Epoch 173/400\n",
      "\u001b[1m244/244\u001b[0m \u001b[32m━━━━━━━━━━━━━━━━━━━━\u001b[0m\u001b[37m\u001b[0m \u001b[1m2s\u001b[0m 8ms/step - loss: 0.3929 - mean_squared_error: 0.3929 - val_loss: 0.3595 - val_mean_squared_error: 0.3595\n",
      "Epoch 174/400\n",
      "\u001b[1m244/244\u001b[0m \u001b[32m━━━━━━━━━━━━━━━━━━━━\u001b[0m\u001b[37m\u001b[0m \u001b[1m2s\u001b[0m 9ms/step - loss: 0.4057 - mean_squared_error: 0.4057 - val_loss: 0.3070 - val_mean_squared_error: 0.3070\n",
      "Epoch 175/400\n",
      "\u001b[1m244/244\u001b[0m \u001b[32m━━━━━━━━━━━━━━━━━━━━\u001b[0m\u001b[37m\u001b[0m \u001b[1m2s\u001b[0m 8ms/step - loss: 0.4001 - mean_squared_error: 0.4001 - val_loss: 0.2603 - val_mean_squared_error: 0.2603\n",
      "Epoch 176/400\n",
      "\u001b[1m244/244\u001b[0m \u001b[32m━━━━━━━━━━━━━━━━━━━━\u001b[0m\u001b[37m\u001b[0m \u001b[1m2s\u001b[0m 8ms/step - loss: 0.3706 - mean_squared_error: 0.3706 - val_loss: 0.3112 - val_mean_squared_error: 0.3112\n",
      "Epoch 177/400\n",
      "\u001b[1m244/244\u001b[0m \u001b[32m━━━━━━━━━━━━━━━━━━━━\u001b[0m\u001b[37m\u001b[0m \u001b[1m2s\u001b[0m 9ms/step - loss: 0.3949 - mean_squared_error: 0.3949 - val_loss: 0.3699 - val_mean_squared_error: 0.3699\n",
      "Epoch 178/400\n",
      "\u001b[1m244/244\u001b[0m \u001b[32m━━━━━━━━━━━━━━━━━━━━\u001b[0m\u001b[37m\u001b[0m \u001b[1m2s\u001b[0m 9ms/step - loss: 0.3253 - mean_squared_error: 0.3253 - val_loss: 0.2952 - val_mean_squared_error: 0.2952\n",
      "Epoch 179/400\n",
      "\u001b[1m244/244\u001b[0m \u001b[32m━━━━━━━━━━━━━━━━━━━━\u001b[0m\u001b[37m\u001b[0m \u001b[1m2s\u001b[0m 9ms/step - loss: 0.3376 - mean_squared_error: 0.3376 - val_loss: 0.6348 - val_mean_squared_error: 0.6348\n",
      "Epoch 180/400\n",
      "\u001b[1m244/244\u001b[0m \u001b[32m━━━━━━━━━━━━━━━━━━━━\u001b[0m\u001b[37m\u001b[0m \u001b[1m2s\u001b[0m 9ms/step - loss: 0.3045 - mean_squared_error: 0.3045 - val_loss: 0.2602 - val_mean_squared_error: 0.2602\n",
      "Epoch 181/400\n",
      "\u001b[1m244/244\u001b[0m \u001b[32m━━━━━━━━━━━━━━━━━━━━\u001b[0m\u001b[37m\u001b[0m \u001b[1m2s\u001b[0m 8ms/step - loss: 0.3118 - mean_squared_error: 0.3118 - val_loss: 0.2602 - val_mean_squared_error: 0.2602\n",
      "Epoch 182/400\n",
      "\u001b[1m244/244\u001b[0m \u001b[32m━━━━━━━━━━━━━━━━━━━━\u001b[0m\u001b[37m\u001b[0m \u001b[1m2s\u001b[0m 8ms/step - loss: 0.3473 - mean_squared_error: 0.3472 - val_loss: 0.3221 - val_mean_squared_error: 0.3221\n",
      "Epoch 183/400\n",
      "\u001b[1m244/244\u001b[0m \u001b[32m━━━━━━━━━━━━━━━━━━━━\u001b[0m\u001b[37m\u001b[0m \u001b[1m2s\u001b[0m 9ms/step - loss: 0.3126 - mean_squared_error: 0.3126 - val_loss: 0.2836 - val_mean_squared_error: 0.2836\n",
      "Epoch 184/400\n",
      "\u001b[1m244/244\u001b[0m \u001b[32m━━━━━━━━━━━━━━━━━━━━\u001b[0m\u001b[37m\u001b[0m \u001b[1m2s\u001b[0m 8ms/step - loss: 0.3782 - mean_squared_error: 0.3782 - val_loss: 0.3004 - val_mean_squared_error: 0.3004\n",
      "Epoch 185/400\n",
      "\u001b[1m244/244\u001b[0m \u001b[32m━━━━━━━━━━━━━━━━━━━━\u001b[0m\u001b[37m\u001b[0m \u001b[1m2s\u001b[0m 9ms/step - loss: 0.3803 - mean_squared_error: 0.3803 - val_loss: 0.2762 - val_mean_squared_error: 0.2761\n",
      "Epoch 186/400\n",
      "\u001b[1m244/244\u001b[0m \u001b[32m━━━━━━━━━━━━━━━━━━━━\u001b[0m\u001b[37m\u001b[0m \u001b[1m2s\u001b[0m 9ms/step - loss: 0.3172 - mean_squared_error: 0.3172 - val_loss: 0.4435 - val_mean_squared_error: 0.4436\n",
      "Epoch 187/400\n",
      "\u001b[1m244/244\u001b[0m \u001b[32m━━━━━━━━━━━━━━━━━━━━\u001b[0m\u001b[37m\u001b[0m \u001b[1m2s\u001b[0m 8ms/step - loss: 0.3303 - mean_squared_error: 0.3304 - val_loss: 0.3067 - val_mean_squared_error: 0.3068\n",
      "Epoch 188/400\n",
      "\u001b[1m244/244\u001b[0m \u001b[32m━━━━━━━━━━━━━━━━━━━━\u001b[0m\u001b[37m\u001b[0m \u001b[1m2s\u001b[0m 9ms/step - loss: 0.3406 - mean_squared_error: 0.3406 - val_loss: 0.3150 - val_mean_squared_error: 0.3150\n",
      "Epoch 189/400\n",
      "\u001b[1m244/244\u001b[0m \u001b[32m━━━━━━━━━━━━━━━━━━━━\u001b[0m\u001b[37m\u001b[0m \u001b[1m2s\u001b[0m 8ms/step - loss: 0.2944 - mean_squared_error: 0.2944 - val_loss: 0.2840 - val_mean_squared_error: 0.2840\n",
      "Epoch 190/400\n",
      "\u001b[1m244/244\u001b[0m \u001b[32m━━━━━━━━━━━━━━━━━━━━\u001b[0m\u001b[37m\u001b[0m \u001b[1m2s\u001b[0m 9ms/step - loss: 0.3080 - mean_squared_error: 0.3080 - val_loss: 0.3747 - val_mean_squared_error: 0.3748\n",
      "Epoch 191/400\n",
      "\u001b[1m244/244\u001b[0m \u001b[32m━━━━━━━━━━━━━━━━━━━━\u001b[0m\u001b[37m\u001b[0m \u001b[1m2s\u001b[0m 9ms/step - loss: 0.2832 - mean_squared_error: 0.2831 - val_loss: 0.3564 - val_mean_squared_error: 0.3565\n",
      "Epoch 192/400\n",
      "\u001b[1m244/244\u001b[0m \u001b[32m━━━━━━━━━━━━━━━━━━━━\u001b[0m\u001b[37m\u001b[0m \u001b[1m2s\u001b[0m 9ms/step - loss: 0.3671 - mean_squared_error: 0.3671 - val_loss: 0.3105 - val_mean_squared_error: 0.3105\n",
      "Epoch 193/400\n",
      "\u001b[1m244/244\u001b[0m \u001b[32m━━━━━━━━━━━━━━━━━━━━\u001b[0m\u001b[37m\u001b[0m \u001b[1m2s\u001b[0m 9ms/step - loss: 0.3040 - mean_squared_error: 0.3041 - val_loss: 0.3515 - val_mean_squared_error: 0.3515\n",
      "Epoch 194/400\n",
      "\u001b[1m244/244\u001b[0m \u001b[32m━━━━━━━━━━━━━━━━━━━━\u001b[0m\u001b[37m\u001b[0m \u001b[1m2s\u001b[0m 8ms/step - loss: 0.2918 - mean_squared_error: 0.2918 - val_loss: 0.2999 - val_mean_squared_error: 0.3000\n",
      "Epoch 195/400\n",
      "\u001b[1m244/244\u001b[0m \u001b[32m━━━━━━━━━━━━━━━━━━━━\u001b[0m\u001b[37m\u001b[0m \u001b[1m2s\u001b[0m 8ms/step - loss: 0.3007 - mean_squared_error: 0.3007 - val_loss: 0.3078 - val_mean_squared_error: 0.3078\n",
      "Epoch 196/400\n",
      "\u001b[1m244/244\u001b[0m \u001b[32m━━━━━━━━━━━━━━━━━━━━\u001b[0m\u001b[37m\u001b[0m \u001b[1m2s\u001b[0m 8ms/step - loss: 0.3128 - mean_squared_error: 0.3128 - val_loss: 0.2782 - val_mean_squared_error: 0.2781\n",
      "Epoch 197/400\n",
      "\u001b[1m244/244\u001b[0m \u001b[32m━━━━━━━━━━━━━━━━━━━━\u001b[0m\u001b[37m\u001b[0m \u001b[1m2s\u001b[0m 9ms/step - loss: 0.2777 - mean_squared_error: 0.2777 - val_loss: 0.2503 - val_mean_squared_error: 0.2502\n",
      "Epoch 198/400\n",
      "\u001b[1m244/244\u001b[0m \u001b[32m━━━━━━━━━━━━━━━━━━━━\u001b[0m\u001b[37m\u001b[0m \u001b[1m2s\u001b[0m 9ms/step - loss: 0.2945 - mean_squared_error: 0.2945 - val_loss: 0.3145 - val_mean_squared_error: 0.3145\n",
      "Epoch 199/400\n",
      "\u001b[1m244/244\u001b[0m \u001b[32m━━━━━━━━━━━━━━━━━━━━\u001b[0m\u001b[37m\u001b[0m \u001b[1m2s\u001b[0m 8ms/step - loss: 0.3951 - mean_squared_error: 0.3950 - val_loss: 0.3015 - val_mean_squared_error: 0.3015\n",
      "Epoch 200/400\n",
      "\u001b[1m244/244\u001b[0m \u001b[32m━━━━━━━━━━━━━━━━━━━━\u001b[0m\u001b[37m\u001b[0m \u001b[1m2s\u001b[0m 9ms/step - loss: 0.2898 - mean_squared_error: 0.2898 - val_loss: 0.2869 - val_mean_squared_error: 0.2868\n",
      "Epoch 201/400\n",
      "\u001b[1m244/244\u001b[0m \u001b[32m━━━━━━━━━━━━━━━━━━━━\u001b[0m\u001b[37m\u001b[0m \u001b[1m2s\u001b[0m 9ms/step - loss: 0.3073 - mean_squared_error: 0.3074 - val_loss: 0.3971 - val_mean_squared_error: 0.3970\n",
      "Epoch 202/400\n",
      "\u001b[1m244/244\u001b[0m \u001b[32m━━━━━━━━━━━━━━━━━━━━\u001b[0m\u001b[37m\u001b[0m \u001b[1m2s\u001b[0m 9ms/step - loss: 0.2635 - mean_squared_error: 0.2635 - val_loss: 0.3452 - val_mean_squared_error: 0.3451\n",
      "Epoch 203/400\n",
      "\u001b[1m244/244\u001b[0m \u001b[32m━━━━━━━━━━━━━━━━━━━━\u001b[0m\u001b[37m\u001b[0m \u001b[1m2s\u001b[0m 9ms/step - loss: 0.3883 - mean_squared_error: 0.3882 - val_loss: 0.1976 - val_mean_squared_error: 0.1976\n",
      "Epoch 204/400\n",
      "\u001b[1m244/244\u001b[0m \u001b[32m━━━━━━━━━━━━━━━━━━━━\u001b[0m\u001b[37m\u001b[0m \u001b[1m2s\u001b[0m 9ms/step - loss: 0.2803 - mean_squared_error: 0.2803 - val_loss: 0.3085 - val_mean_squared_error: 0.3085\n",
      "Epoch 205/400\n",
      "\u001b[1m244/244\u001b[0m \u001b[32m━━━━━━━━━━━━━━━━━━━━\u001b[0m\u001b[37m\u001b[0m \u001b[1m2s\u001b[0m 9ms/step - loss: 0.2808 - mean_squared_error: 0.2808 - val_loss: 0.2150 - val_mean_squared_error: 0.2150\n",
      "Epoch 206/400\n",
      "\u001b[1m244/244\u001b[0m \u001b[32m━━━━━━━━━━━━━━━━━━━━\u001b[0m\u001b[37m\u001b[0m \u001b[1m2s\u001b[0m 9ms/step - loss: 0.2782 - mean_squared_error: 0.2782 - val_loss: 0.2605 - val_mean_squared_error: 0.2605\n",
      "Epoch 207/400\n",
      "\u001b[1m244/244\u001b[0m \u001b[32m━━━━━━━━━━━━━━━━━━━━\u001b[0m\u001b[37m\u001b[0m \u001b[1m2s\u001b[0m 9ms/step - loss: 0.3682 - mean_squared_error: 0.3682 - val_loss: 0.2022 - val_mean_squared_error: 0.2022\n",
      "Epoch 208/400\n",
      "\u001b[1m244/244\u001b[0m \u001b[32m━━━━━━━━━━━━━━━━━━━━\u001b[0m\u001b[37m\u001b[0m \u001b[1m2s\u001b[0m 9ms/step - loss: 0.3704 - mean_squared_error: 0.3703 - val_loss: 0.2484 - val_mean_squared_error: 0.2484\n",
      "Epoch 209/400\n",
      "\u001b[1m244/244\u001b[0m \u001b[32m━━━━━━━━━━━━━━━━━━━━\u001b[0m\u001b[37m\u001b[0m \u001b[1m2s\u001b[0m 9ms/step - loss: 0.3115 - mean_squared_error: 0.3115 - val_loss: 0.2041 - val_mean_squared_error: 0.2041\n",
      "Epoch 210/400\n",
      "\u001b[1m244/244\u001b[0m \u001b[32m━━━━━━━━━━━━━━━━━━━━\u001b[0m\u001b[37m\u001b[0m \u001b[1m2s\u001b[0m 9ms/step - loss: 0.2521 - mean_squared_error: 0.2521 - val_loss: 0.2287 - val_mean_squared_error: 0.2286\n",
      "Epoch 211/400\n",
      "\u001b[1m244/244\u001b[0m \u001b[32m━━━━━━━━━━━━━━━━━━━━\u001b[0m\u001b[37m\u001b[0m \u001b[1m2s\u001b[0m 9ms/step - loss: 0.2969 - mean_squared_error: 0.2969 - val_loss: 0.2029 - val_mean_squared_error: 0.2029\n",
      "Epoch 212/400\n",
      "\u001b[1m244/244\u001b[0m \u001b[32m━━━━━━━━━━━━━━━━━━━━\u001b[0m\u001b[37m\u001b[0m \u001b[1m2s\u001b[0m 9ms/step - loss: 0.3114 - mean_squared_error: 0.3114 - val_loss: 0.5427 - val_mean_squared_error: 0.5428\n",
      "Epoch 213/400\n",
      "\u001b[1m244/244\u001b[0m \u001b[32m━━━━━━━━━━━━━━━━━━━━\u001b[0m\u001b[37m\u001b[0m \u001b[1m2s\u001b[0m 8ms/step - loss: 0.2908 - mean_squared_error: 0.2908 - val_loss: 0.2761 - val_mean_squared_error: 0.2761\n",
      "Epoch 214/400\n",
      "\u001b[1m244/244\u001b[0m \u001b[32m━━━━━━━━━━━━━━━━━━━━\u001b[0m\u001b[37m\u001b[0m \u001b[1m2s\u001b[0m 9ms/step - loss: 0.3070 - mean_squared_error: 0.3070 - val_loss: 0.2111 - val_mean_squared_error: 0.2111\n",
      "Epoch 215/400\n",
      "\u001b[1m244/244\u001b[0m \u001b[32m━━━━━━━━━━━━━━━━━━━━\u001b[0m\u001b[37m\u001b[0m \u001b[1m2s\u001b[0m 9ms/step - loss: 0.2869 - mean_squared_error: 0.2869 - val_loss: 0.2544 - val_mean_squared_error: 0.2543\n",
      "Epoch 216/400\n",
      "\u001b[1m244/244\u001b[0m \u001b[32m━━━━━━━━━━━━━━━━━━━━\u001b[0m\u001b[37m\u001b[0m \u001b[1m2s\u001b[0m 9ms/step - loss: 0.2959 - mean_squared_error: 0.2959 - val_loss: 0.3416 - val_mean_squared_error: 0.3417\n",
      "Epoch 217/400\n",
      "\u001b[1m244/244\u001b[0m \u001b[32m━━━━━━━━━━━━━━━━━━━━\u001b[0m\u001b[37m\u001b[0m \u001b[1m2s\u001b[0m 9ms/step - loss: 0.2687 - mean_squared_error: 0.2687 - val_loss: 0.4852 - val_mean_squared_error: 0.4852\n",
      "Epoch 218/400\n",
      "\u001b[1m244/244\u001b[0m \u001b[32m━━━━━━━━━━━━━━━━━━━━\u001b[0m\u001b[37m\u001b[0m \u001b[1m2s\u001b[0m 9ms/step - loss: 0.2740 - mean_squared_error: 0.2740 - val_loss: 0.1702 - val_mean_squared_error: 0.1702\n",
      "Epoch 219/400\n",
      "\u001b[1m244/244\u001b[0m \u001b[32m━━━━━━━━━━━━━━━━━━━━\u001b[0m\u001b[37m\u001b[0m \u001b[1m2s\u001b[0m 9ms/step - loss: 0.2740 - mean_squared_error: 0.2740 - val_loss: 0.1807 - val_mean_squared_error: 0.1807\n",
      "Epoch 220/400\n",
      "\u001b[1m244/244\u001b[0m \u001b[32m━━━━━━━━━━━━━━━━━━━━\u001b[0m\u001b[37m\u001b[0m \u001b[1m2s\u001b[0m 9ms/step - loss: 0.2770 - mean_squared_error: 0.2770 - val_loss: 0.2819 - val_mean_squared_error: 0.2819\n",
      "Epoch 221/400\n",
      "\u001b[1m244/244\u001b[0m \u001b[32m━━━━━━━━━━━━━━━━━━━━\u001b[0m\u001b[37m\u001b[0m \u001b[1m2s\u001b[0m 9ms/step - loss: 0.2826 - mean_squared_error: 0.2826 - val_loss: 0.2006 - val_mean_squared_error: 0.2006\n",
      "Epoch 222/400\n",
      "\u001b[1m244/244\u001b[0m \u001b[32m━━━━━━━━━━━━━━━━━━━━\u001b[0m\u001b[37m\u001b[0m \u001b[1m2s\u001b[0m 9ms/step - loss: 0.2567 - mean_squared_error: 0.2567 - val_loss: 0.2493 - val_mean_squared_error: 0.2493\n",
      "Epoch 223/400\n",
      "\u001b[1m244/244\u001b[0m \u001b[32m━━━━━━━━━━━━━━━━━━━━\u001b[0m\u001b[37m\u001b[0m \u001b[1m2s\u001b[0m 9ms/step - loss: 0.2818 - mean_squared_error: 0.2818 - val_loss: 0.8557 - val_mean_squared_error: 0.8553\n",
      "Epoch 224/400\n",
      "\u001b[1m244/244\u001b[0m \u001b[32m━━━━━━━━━━━━━━━━━━━━\u001b[0m\u001b[37m\u001b[0m \u001b[1m2s\u001b[0m 9ms/step - loss: 0.2344 - mean_squared_error: 0.2344 - val_loss: 0.2292 - val_mean_squared_error: 0.2292\n",
      "Epoch 225/400\n",
      "\u001b[1m244/244\u001b[0m \u001b[32m━━━━━━━━━━━━━━━━━━━━\u001b[0m\u001b[37m\u001b[0m \u001b[1m2s\u001b[0m 9ms/step - loss: 0.2441 - mean_squared_error: 0.2441 - val_loss: 0.2619 - val_mean_squared_error: 0.2618\n",
      "Epoch 226/400\n",
      "\u001b[1m244/244\u001b[0m \u001b[32m━━━━━━━━━━━━━━━━━━━━\u001b[0m\u001b[37m\u001b[0m \u001b[1m2s\u001b[0m 9ms/step - loss: 0.2345 - mean_squared_error: 0.2345 - val_loss: 0.1798 - val_mean_squared_error: 0.1798\n",
      "Epoch 227/400\n",
      "\u001b[1m244/244\u001b[0m \u001b[32m━━━━━━━━━━━━━━━━━━━━\u001b[0m\u001b[37m\u001b[0m \u001b[1m2s\u001b[0m 9ms/step - loss: 0.2463 - mean_squared_error: 0.2462 - val_loss: 0.1864 - val_mean_squared_error: 0.1864\n",
      "Epoch 228/400\n",
      "\u001b[1m244/244\u001b[0m \u001b[32m━━━━━━━━━━━━━━━━━━━━\u001b[0m\u001b[37m\u001b[0m \u001b[1m2s\u001b[0m 9ms/step - loss: 0.3251 - mean_squared_error: 0.3251 - val_loss: 0.2185 - val_mean_squared_error: 0.2184\n",
      "Epoch 229/400\n",
      "\u001b[1m244/244\u001b[0m \u001b[32m━━━━━━━━━━━━━━━━━━━━\u001b[0m\u001b[37m\u001b[0m \u001b[1m2s\u001b[0m 9ms/step - loss: 0.2620 - mean_squared_error: 0.2620 - val_loss: 0.5038 - val_mean_squared_error: 0.5038\n",
      "Epoch 230/400\n",
      "\u001b[1m244/244\u001b[0m \u001b[32m━━━━━━━━━━━━━━━━━━━━\u001b[0m\u001b[37m\u001b[0m \u001b[1m2s\u001b[0m 9ms/step - loss: 0.2675 - mean_squared_error: 0.2675 - val_loss: 0.2412 - val_mean_squared_error: 0.2412\n",
      "Epoch 231/400\n",
      "\u001b[1m244/244\u001b[0m \u001b[32m━━━━━━━━━━━━━━━━━━━━\u001b[0m\u001b[37m\u001b[0m \u001b[1m2s\u001b[0m 9ms/step - loss: 0.2351 - mean_squared_error: 0.2351 - val_loss: 0.1913 - val_mean_squared_error: 0.1914\n",
      "Epoch 232/400\n",
      "\u001b[1m244/244\u001b[0m \u001b[32m━━━━━━━━━━━━━━━━━━━━\u001b[0m\u001b[37m\u001b[0m \u001b[1m2s\u001b[0m 9ms/step - loss: 0.2476 - mean_squared_error: 0.2476 - val_loss: 0.1793 - val_mean_squared_error: 0.1794\n",
      "Epoch 233/400\n",
      "\u001b[1m244/244\u001b[0m \u001b[32m━━━━━━━━━━━━━━━━━━━━\u001b[0m\u001b[37m\u001b[0m \u001b[1m2s\u001b[0m 9ms/step - loss: 0.3672 - mean_squared_error: 0.3672 - val_loss: 0.1932 - val_mean_squared_error: 0.1932\n",
      "Epoch 234/400\n",
      "\u001b[1m244/244\u001b[0m \u001b[32m━━━━━━━━━━━━━━━━━━━━\u001b[0m\u001b[37m\u001b[0m \u001b[1m2s\u001b[0m 9ms/step - loss: 0.2548 - mean_squared_error: 0.2548 - val_loss: 0.2208 - val_mean_squared_error: 0.2208\n",
      "Epoch 235/400\n",
      "\u001b[1m244/244\u001b[0m \u001b[32m━━━━━━━━━━━━━━━━━━━━\u001b[0m\u001b[37m\u001b[0m \u001b[1m2s\u001b[0m 9ms/step - loss: 0.2509 - mean_squared_error: 0.2509 - val_loss: 0.2003 - val_mean_squared_error: 0.2003\n",
      "Epoch 236/400\n",
      "\u001b[1m244/244\u001b[0m \u001b[32m━━━━━━━━━━━━━━━━━━━━\u001b[0m\u001b[37m\u001b[0m \u001b[1m2s\u001b[0m 9ms/step - loss: 0.2827 - mean_squared_error: 0.2827 - val_loss: 0.2293 - val_mean_squared_error: 0.2294\n",
      "Epoch 237/400\n",
      "\u001b[1m244/244\u001b[0m \u001b[32m━━━━━━━━━━━━━━━━━━━━\u001b[0m\u001b[37m\u001b[0m \u001b[1m2s\u001b[0m 9ms/step - loss: 0.2335 - mean_squared_error: 0.2335 - val_loss: 0.2286 - val_mean_squared_error: 0.2286\n",
      "Epoch 238/400\n",
      "\u001b[1m244/244\u001b[0m \u001b[32m━━━━━━━━━━━━━━━━━━━━\u001b[0m\u001b[37m\u001b[0m \u001b[1m2s\u001b[0m 9ms/step - loss: 0.2352 - mean_squared_error: 0.2352 - val_loss: 0.2368 - val_mean_squared_error: 0.2368\n",
      "Epoch 239/400\n",
      "\u001b[1m244/244\u001b[0m \u001b[32m━━━━━━━━━━━━━━━━━━━━\u001b[0m\u001b[37m\u001b[0m \u001b[1m2s\u001b[0m 9ms/step - loss: 0.2270 - mean_squared_error: 0.2270 - val_loss: 0.1736 - val_mean_squared_error: 0.1736\n",
      "Epoch 240/400\n",
      "\u001b[1m244/244\u001b[0m \u001b[32m━━━━━━━━━━━━━━━━━━━━\u001b[0m\u001b[37m\u001b[0m \u001b[1m2s\u001b[0m 9ms/step - loss: 0.2172 - mean_squared_error: 0.2172 - val_loss: 0.2223 - val_mean_squared_error: 0.2223\n",
      "Epoch 241/400\n",
      "\u001b[1m244/244\u001b[0m \u001b[32m━━━━━━━━━━━━━━━━━━━━\u001b[0m\u001b[37m\u001b[0m \u001b[1m2s\u001b[0m 9ms/step - loss: 0.2654 - mean_squared_error: 0.2654 - val_loss: 0.2789 - val_mean_squared_error: 0.2790\n",
      "Epoch 242/400\n",
      "\u001b[1m244/244\u001b[0m \u001b[32m━━━━━━━━━━━━━━━━━━━━\u001b[0m\u001b[37m\u001b[0m \u001b[1m2s\u001b[0m 9ms/step - loss: 0.2360 - mean_squared_error: 0.2360 - val_loss: 0.2406 - val_mean_squared_error: 0.2405\n",
      "Epoch 243/400\n",
      "\u001b[1m244/244\u001b[0m \u001b[32m━━━━━━━━━━━━━━━━━━━━\u001b[0m\u001b[37m\u001b[0m \u001b[1m2s\u001b[0m 9ms/step - loss: 0.2382 - mean_squared_error: 0.2382 - val_loss: 0.2072 - val_mean_squared_error: 0.2072\n",
      "Epoch 244/400\n",
      "\u001b[1m244/244\u001b[0m \u001b[32m━━━━━━━━━━━━━━━━━━━━\u001b[0m\u001b[37m\u001b[0m \u001b[1m2s\u001b[0m 9ms/step - loss: 0.2555 - mean_squared_error: 0.2555 - val_loss: 0.2444 - val_mean_squared_error: 0.2444\n",
      "Epoch 245/400\n",
      "\u001b[1m244/244\u001b[0m \u001b[32m━━━━━━━━━━━━━━━━━━━━\u001b[0m\u001b[37m\u001b[0m \u001b[1m2s\u001b[0m 9ms/step - loss: 0.2271 - mean_squared_error: 0.2271 - val_loss: 0.1792 - val_mean_squared_error: 0.1791\n",
      "Epoch 246/400\n",
      "\u001b[1m244/244\u001b[0m \u001b[32m━━━━━━━━━━━━━━━━━━━━\u001b[0m\u001b[37m\u001b[0m \u001b[1m2s\u001b[0m 9ms/step - loss: 0.2103 - mean_squared_error: 0.2103 - val_loss: 0.1711 - val_mean_squared_error: 0.1711\n",
      "Epoch 247/400\n",
      "\u001b[1m244/244\u001b[0m \u001b[32m━━━━━━━━━━━━━━━━━━━━\u001b[0m\u001b[37m\u001b[0m \u001b[1m2s\u001b[0m 9ms/step - loss: 0.2287 - mean_squared_error: 0.2287 - val_loss: 0.2127 - val_mean_squared_error: 0.2128\n",
      "Epoch 248/400\n",
      "\u001b[1m244/244\u001b[0m \u001b[32m━━━━━━━━━━━━━━━━━━━━\u001b[0m\u001b[37m\u001b[0m \u001b[1m2s\u001b[0m 9ms/step - loss: 0.2549 - mean_squared_error: 0.2549 - val_loss: 0.2755 - val_mean_squared_error: 0.2756\n",
      "Epoch 249/400\n",
      "\u001b[1m244/244\u001b[0m \u001b[32m━━━━━━━━━━━━━━━━━━━━\u001b[0m\u001b[37m\u001b[0m \u001b[1m2s\u001b[0m 9ms/step - loss: 0.2160 - mean_squared_error: 0.2160 - val_loss: 0.2025 - val_mean_squared_error: 0.2025\n",
      "Epoch 250/400\n",
      "\u001b[1m244/244\u001b[0m \u001b[32m━━━━━━━━━━━━━━━━━━━━\u001b[0m\u001b[37m\u001b[0m \u001b[1m2s\u001b[0m 9ms/step - loss: 0.2668 - mean_squared_error: 0.2667 - val_loss: 0.1834 - val_mean_squared_error: 0.1834\n",
      "Epoch 251/400\n",
      "\u001b[1m244/244\u001b[0m \u001b[32m━━━━━━━━━━━━━━━━━━━━\u001b[0m\u001b[37m\u001b[0m \u001b[1m2s\u001b[0m 9ms/step - loss: 0.2217 - mean_squared_error: 0.2217 - val_loss: 0.2929 - val_mean_squared_error: 0.2928\n",
      "Epoch 252/400\n",
      "\u001b[1m244/244\u001b[0m \u001b[32m━━━━━━━━━━━━━━━━━━━━\u001b[0m\u001b[37m\u001b[0m \u001b[1m2s\u001b[0m 9ms/step - loss: 0.2284 - mean_squared_error: 0.2284 - val_loss: 0.2066 - val_mean_squared_error: 0.2066\n",
      "Epoch 253/400\n",
      "\u001b[1m244/244\u001b[0m \u001b[32m━━━━━━━━━━━━━━━━━━━━\u001b[0m\u001b[37m\u001b[0m \u001b[1m2s\u001b[0m 9ms/step - loss: 0.2394 - mean_squared_error: 0.2394 - val_loss: 0.3121 - val_mean_squared_error: 0.3121\n",
      "Epoch 254/400\n",
      "\u001b[1m244/244\u001b[0m \u001b[32m━━━━━━━━━━━━━━━━━━━━\u001b[0m\u001b[37m\u001b[0m \u001b[1m2s\u001b[0m 9ms/step - loss: 0.2396 - mean_squared_error: 0.2396 - val_loss: 0.1514 - val_mean_squared_error: 0.1514\n",
      "Epoch 255/400\n",
      "\u001b[1m244/244\u001b[0m \u001b[32m━━━━━━━━━━━━━━━━━━━━\u001b[0m\u001b[37m\u001b[0m \u001b[1m2s\u001b[0m 9ms/step - loss: 0.2217 - mean_squared_error: 0.2217 - val_loss: 0.2176 - val_mean_squared_error: 0.2176\n",
      "Epoch 256/400\n",
      "\u001b[1m244/244\u001b[0m \u001b[32m━━━━━━━━━━━━━━━━━━━━\u001b[0m\u001b[37m\u001b[0m \u001b[1m2s\u001b[0m 9ms/step - loss: 0.2082 - mean_squared_error: 0.2082 - val_loss: 0.1514 - val_mean_squared_error: 0.1515\n",
      "Epoch 257/400\n",
      "\u001b[1m244/244\u001b[0m \u001b[32m━━━━━━━━━━━━━━━━━━━━\u001b[0m\u001b[37m\u001b[0m \u001b[1m2s\u001b[0m 9ms/step - loss: 0.2102 - mean_squared_error: 0.2102 - val_loss: 0.2135 - val_mean_squared_error: 0.2135\n",
      "Epoch 258/400\n",
      "\u001b[1m244/244\u001b[0m \u001b[32m━━━━━━━━━━━━━━━━━━━━\u001b[0m\u001b[37m\u001b[0m \u001b[1m2s\u001b[0m 9ms/step - loss: 0.2025 - mean_squared_error: 0.2025 - val_loss: 0.1814 - val_mean_squared_error: 0.1814\n",
      "Epoch 259/400\n",
      "\u001b[1m244/244\u001b[0m \u001b[32m━━━━━━━━━━━━━━━━━━━━\u001b[0m\u001b[37m\u001b[0m \u001b[1m2s\u001b[0m 9ms/step - loss: 0.1998 - mean_squared_error: 0.1998 - val_loss: 0.1604 - val_mean_squared_error: 0.1604\n",
      "Epoch 260/400\n",
      "\u001b[1m244/244\u001b[0m \u001b[32m━━━━━━━━━━━━━━━━━━━━\u001b[0m\u001b[37m\u001b[0m \u001b[1m2s\u001b[0m 9ms/step - loss: 0.2754 - mean_squared_error: 0.2754 - val_loss: 0.2324 - val_mean_squared_error: 0.2324\n",
      "Epoch 261/400\n",
      "\u001b[1m244/244\u001b[0m \u001b[32m━━━━━━━━━━━━━━━━━━━━\u001b[0m\u001b[37m\u001b[0m \u001b[1m2s\u001b[0m 9ms/step - loss: 0.2099 - mean_squared_error: 0.2099 - val_loss: 0.1936 - val_mean_squared_error: 0.1937\n",
      "Epoch 262/400\n",
      "\u001b[1m244/244\u001b[0m \u001b[32m━━━━━━━━━━━━━━━━━━━━\u001b[0m\u001b[37m\u001b[0m \u001b[1m2s\u001b[0m 9ms/step - loss: 0.2176 - mean_squared_error: 0.2176 - val_loss: 0.2202 - val_mean_squared_error: 0.2201\n",
      "Epoch 263/400\n",
      "\u001b[1m244/244\u001b[0m \u001b[32m━━━━━━━━━━━━━━━━━━━━\u001b[0m\u001b[37m\u001b[0m \u001b[1m2s\u001b[0m 9ms/step - loss: 0.2041 - mean_squared_error: 0.2041 - val_loss: 0.2121 - val_mean_squared_error: 0.2121\n",
      "Epoch 264/400\n",
      "\u001b[1m244/244\u001b[0m \u001b[32m━━━━━━━━━━━━━━━━━━━━\u001b[0m\u001b[37m\u001b[0m \u001b[1m2s\u001b[0m 9ms/step - loss: 0.2323 - mean_squared_error: 0.2323 - val_loss: 0.1611 - val_mean_squared_error: 0.1611\n",
      "Epoch 265/400\n",
      "\u001b[1m244/244\u001b[0m \u001b[32m━━━━━━━━━━━━━━━━━━━━\u001b[0m\u001b[37m\u001b[0m \u001b[1m2s\u001b[0m 9ms/step - loss: 0.1937 - mean_squared_error: 0.1937 - val_loss: 0.2065 - val_mean_squared_error: 0.2065\n",
      "Epoch 266/400\n",
      "\u001b[1m244/244\u001b[0m \u001b[32m━━━━━━━━━━━━━━━━━━━━\u001b[0m\u001b[37m\u001b[0m \u001b[1m2s\u001b[0m 9ms/step - loss: 0.2012 - mean_squared_error: 0.2012 - val_loss: 0.2504 - val_mean_squared_error: 0.2504\n",
      "Epoch 267/400\n",
      "\u001b[1m244/244\u001b[0m \u001b[32m━━━━━━━━━━━━━━━━━━━━\u001b[0m\u001b[37m\u001b[0m \u001b[1m2s\u001b[0m 9ms/step - loss: 0.2279 - mean_squared_error: 0.2279 - val_loss: 1.3643 - val_mean_squared_error: 1.3634\n",
      "Epoch 268/400\n",
      "\u001b[1m244/244\u001b[0m \u001b[32m━━━━━━━━━━━━━━━━━━━━\u001b[0m\u001b[37m\u001b[0m \u001b[1m2s\u001b[0m 9ms/step - loss: 0.2142 - mean_squared_error: 0.2142 - val_loss: 0.2225 - val_mean_squared_error: 0.2226\n",
      "Epoch 269/400\n",
      "\u001b[1m244/244\u001b[0m \u001b[32m━━━━━━━━━━━━━━━━━━━━\u001b[0m\u001b[37m\u001b[0m \u001b[1m2s\u001b[0m 9ms/step - loss: 0.2170 - mean_squared_error: 0.2170 - val_loss: 0.1678 - val_mean_squared_error: 0.1678\n",
      "Epoch 270/400\n",
      "\u001b[1m244/244\u001b[0m \u001b[32m━━━━━━━━━━━━━━━━━━━━\u001b[0m\u001b[37m\u001b[0m \u001b[1m2s\u001b[0m 9ms/step - loss: 0.2183 - mean_squared_error: 0.2183 - val_loss: 0.1801 - val_mean_squared_error: 0.1801\n",
      "Epoch 271/400\n",
      "\u001b[1m244/244\u001b[0m \u001b[32m━━━━━━━━━━━━━━━━━━━━\u001b[0m\u001b[37m\u001b[0m \u001b[1m2s\u001b[0m 9ms/step - loss: 0.2134 - mean_squared_error: 0.2134 - val_loss: 0.1484 - val_mean_squared_error: 0.1484\n",
      "Epoch 272/400\n",
      "\u001b[1m244/244\u001b[0m \u001b[32m━━━━━━━━━━━━━━━━━━━━\u001b[0m\u001b[37m\u001b[0m \u001b[1m2s\u001b[0m 9ms/step - loss: 0.2309 - mean_squared_error: 0.2309 - val_loss: 0.1553 - val_mean_squared_error: 0.1553\n",
      "Epoch 273/400\n",
      "\u001b[1m244/244\u001b[0m \u001b[32m━━━━━━━━━━━━━━━━━━━━\u001b[0m\u001b[37m\u001b[0m \u001b[1m2s\u001b[0m 9ms/step - loss: 0.1990 - mean_squared_error: 0.1990 - val_loss: 0.2510 - val_mean_squared_error: 0.2511\n",
      "Epoch 274/400\n",
      "\u001b[1m244/244\u001b[0m \u001b[32m━━━━━━━━━━━━━━━━━━━━\u001b[0m\u001b[37m\u001b[0m \u001b[1m2s\u001b[0m 9ms/step - loss: 0.2051 - mean_squared_error: 0.2051 - val_loss: 0.1470 - val_mean_squared_error: 0.1470\n",
      "Epoch 275/400\n",
      "\u001b[1m244/244\u001b[0m \u001b[32m━━━━━━━━━━━━━━━━━━━━\u001b[0m\u001b[37m\u001b[0m \u001b[1m2s\u001b[0m 9ms/step - loss: 0.1915 - mean_squared_error: 0.1916 - val_loss: 0.2179 - val_mean_squared_error: 0.2179\n",
      "Epoch 276/400\n",
      "\u001b[1m244/244\u001b[0m \u001b[32m━━━━━━━━━━━━━━━━━━━━\u001b[0m\u001b[37m\u001b[0m \u001b[1m2s\u001b[0m 9ms/step - loss: 0.1933 - mean_squared_error: 0.1933 - val_loss: 0.1935 - val_mean_squared_error: 0.1934\n",
      "Epoch 277/400\n",
      "\u001b[1m244/244\u001b[0m \u001b[32m━━━━━━━━━━━━━━━━━━━━\u001b[0m\u001b[37m\u001b[0m \u001b[1m2s\u001b[0m 9ms/step - loss: 0.1909 - mean_squared_error: 0.1909 - val_loss: 0.1727 - val_mean_squared_error: 0.1727\n",
      "Epoch 278/400\n",
      "\u001b[1m244/244\u001b[0m \u001b[32m━━━━━━━━━━━━━━━━━━━━\u001b[0m\u001b[37m\u001b[0m \u001b[1m2s\u001b[0m 9ms/step - loss: 0.1696 - mean_squared_error: 0.1695 - val_loss: 0.1486 - val_mean_squared_error: 0.1486\n",
      "Epoch 279/400\n",
      "\u001b[1m244/244\u001b[0m \u001b[32m━━━━━━━━━━━━━━━━━━━━\u001b[0m\u001b[37m\u001b[0m \u001b[1m2s\u001b[0m 9ms/step - loss: 0.2013 - mean_squared_error: 0.2012 - val_loss: 0.1761 - val_mean_squared_error: 0.1761\n",
      "Epoch 280/400\n",
      "\u001b[1m244/244\u001b[0m \u001b[32m━━━━━━━━━━━━━━━━━━━━\u001b[0m\u001b[37m\u001b[0m \u001b[1m2s\u001b[0m 9ms/step - loss: 0.2005 - mean_squared_error: 0.2005 - val_loss: 0.1951 - val_mean_squared_error: 0.1950\n",
      "Epoch 281/400\n",
      "\u001b[1m244/244\u001b[0m \u001b[32m━━━━━━━━━━━━━━━━━━━━\u001b[0m\u001b[37m\u001b[0m \u001b[1m2s\u001b[0m 9ms/step - loss: 0.1962 - mean_squared_error: 0.1962 - val_loss: 0.1701 - val_mean_squared_error: 0.1701\n",
      "Epoch 282/400\n",
      "\u001b[1m244/244\u001b[0m \u001b[32m━━━━━━━━━━━━━━━━━━━━\u001b[0m\u001b[37m\u001b[0m \u001b[1m2s\u001b[0m 9ms/step - loss: 0.1803 - mean_squared_error: 0.1803 - val_loss: 0.1440 - val_mean_squared_error: 0.1440\n",
      "Epoch 283/400\n",
      "\u001b[1m244/244\u001b[0m \u001b[32m━━━━━━━━━━━━━━━━━━━━\u001b[0m\u001b[37m\u001b[0m \u001b[1m2s\u001b[0m 9ms/step - loss: 0.1680 - mean_squared_error: 0.1680 - val_loss: 0.1965 - val_mean_squared_error: 0.1965\n",
      "Epoch 284/400\n",
      "\u001b[1m244/244\u001b[0m \u001b[32m━━━━━━━━━━━━━━━━━━━━\u001b[0m\u001b[37m\u001b[0m \u001b[1m2s\u001b[0m 9ms/step - loss: 0.2000 - mean_squared_error: 0.2000 - val_loss: 0.1530 - val_mean_squared_error: 0.1530\n",
      "Epoch 285/400\n",
      "\u001b[1m244/244\u001b[0m \u001b[32m━━━━━━━━━━━━━━━━━━━━\u001b[0m\u001b[37m\u001b[0m \u001b[1m2s\u001b[0m 9ms/step - loss: 0.1910 - mean_squared_error: 0.1910 - val_loss: 0.1771 - val_mean_squared_error: 0.1771\n",
      "Epoch 286/400\n",
      "\u001b[1m244/244\u001b[0m \u001b[32m━━━━━━━━━━━━━━━━━━━━\u001b[0m\u001b[37m\u001b[0m \u001b[1m2s\u001b[0m 9ms/step - loss: 0.2389 - mean_squared_error: 0.2389 - val_loss: 0.1649 - val_mean_squared_error: 0.1649\n",
      "Epoch 287/400\n",
      "\u001b[1m244/244\u001b[0m \u001b[32m━━━━━━━━━━━━━━━━━━━━\u001b[0m\u001b[37m\u001b[0m \u001b[1m2s\u001b[0m 9ms/step - loss: 0.2172 - mean_squared_error: 0.2172 - val_loss: 0.1843 - val_mean_squared_error: 0.1843\n",
      "Epoch 288/400\n",
      "\u001b[1m244/244\u001b[0m \u001b[32m━━━━━━━━━━━━━━━━━━━━\u001b[0m\u001b[37m\u001b[0m \u001b[1m2s\u001b[0m 9ms/step - loss: 0.2294 - mean_squared_error: 0.2294 - val_loss: 0.1883 - val_mean_squared_error: 0.1883\n",
      "Epoch 289/400\n",
      "\u001b[1m244/244\u001b[0m \u001b[32m━━━━━━━━━━━━━━━━━━━━\u001b[0m\u001b[37m\u001b[0m \u001b[1m2s\u001b[0m 9ms/step - loss: 0.1871 - mean_squared_error: 0.1871 - val_loss: 0.1821 - val_mean_squared_error: 0.1821\n",
      "Epoch 290/400\n",
      "\u001b[1m244/244\u001b[0m \u001b[32m━━━━━━━━━━━━━━━━━━━━\u001b[0m\u001b[37m\u001b[0m \u001b[1m2s\u001b[0m 9ms/step - loss: 0.1827 - mean_squared_error: 0.1826 - val_loss: 0.1326 - val_mean_squared_error: 0.1326\n",
      "Epoch 291/400\n",
      "\u001b[1m244/244\u001b[0m \u001b[32m━━━━━━━━━━━━━━━━━━━━\u001b[0m\u001b[37m\u001b[0m \u001b[1m2s\u001b[0m 8ms/step - loss: 0.2199 - mean_squared_error: 0.2199 - val_loss: 0.1751 - val_mean_squared_error: 0.1751\n",
      "Epoch 292/400\n",
      "\u001b[1m244/244\u001b[0m \u001b[32m━━━━━━━━━━━━━━━━━━━━\u001b[0m\u001b[37m\u001b[0m \u001b[1m2s\u001b[0m 8ms/step - loss: 0.2114 - mean_squared_error: 0.2114 - val_loss: 0.1899 - val_mean_squared_error: 0.1899\n",
      "Epoch 293/400\n",
      "\u001b[1m244/244\u001b[0m \u001b[32m━━━━━━━━━━━━━━━━━━━━\u001b[0m\u001b[37m\u001b[0m \u001b[1m2s\u001b[0m 8ms/step - loss: 0.1849 - mean_squared_error: 0.1849 - val_loss: 0.1503 - val_mean_squared_error: 0.1503\n",
      "Epoch 294/400\n",
      "\u001b[1m244/244\u001b[0m \u001b[32m━━━━━━━━━━━━━━━━━━━━\u001b[0m\u001b[37m\u001b[0m \u001b[1m2s\u001b[0m 9ms/step - loss: 0.1734 - mean_squared_error: 0.1734 - val_loss: 0.1360 - val_mean_squared_error: 0.1360\n",
      "Epoch 295/400\n",
      "\u001b[1m244/244\u001b[0m \u001b[32m━━━━━━━━━━━━━━━━━━━━\u001b[0m\u001b[37m\u001b[0m \u001b[1m2s\u001b[0m 9ms/step - loss: 0.2994 - mean_squared_error: 0.2993 - val_loss: 0.1335 - val_mean_squared_error: 0.1335\n",
      "Epoch 296/400\n",
      "\u001b[1m244/244\u001b[0m \u001b[32m━━━━━━━━━━━━━━━━━━━━\u001b[0m\u001b[37m\u001b[0m \u001b[1m2s\u001b[0m 9ms/step - loss: 0.1787 - mean_squared_error: 0.1787 - val_loss: 0.1306 - val_mean_squared_error: 0.1306\n",
      "Epoch 297/400\n",
      "\u001b[1m244/244\u001b[0m \u001b[32m━━━━━━━━━━━━━━━━━━━━\u001b[0m\u001b[37m\u001b[0m \u001b[1m2s\u001b[0m 9ms/step - loss: 0.1799 - mean_squared_error: 0.1799 - val_loss: 0.1732 - val_mean_squared_error: 0.1733\n",
      "Epoch 298/400\n",
      "\u001b[1m244/244\u001b[0m \u001b[32m━━━━━━━━━━━━━━━━━━━━\u001b[0m\u001b[37m\u001b[0m \u001b[1m2s\u001b[0m 9ms/step - loss: 0.1853 - mean_squared_error: 0.1853 - val_loss: 0.2250 - val_mean_squared_error: 0.2251\n",
      "Epoch 299/400\n",
      "\u001b[1m244/244\u001b[0m \u001b[32m━━━━━━━━━━━━━━━━━━━━\u001b[0m\u001b[37m\u001b[0m \u001b[1m2s\u001b[0m 9ms/step - loss: 0.2277 - mean_squared_error: 0.2277 - val_loss: 0.1545 - val_mean_squared_error: 0.1545\n",
      "Epoch 300/400\n",
      "\u001b[1m244/244\u001b[0m \u001b[32m━━━━━━━━━━━━━━━━━━━━\u001b[0m\u001b[37m\u001b[0m \u001b[1m2s\u001b[0m 9ms/step - loss: 0.1792 - mean_squared_error: 0.1792 - val_loss: 0.1906 - val_mean_squared_error: 0.1906\n",
      "Epoch 301/400\n",
      "\u001b[1m244/244\u001b[0m \u001b[32m━━━━━━━━━━━━━━━━━━━━\u001b[0m\u001b[37m\u001b[0m \u001b[1m2s\u001b[0m 9ms/step - loss: 0.1949 - mean_squared_error: 0.1949 - val_loss: 0.1455 - val_mean_squared_error: 0.1455\n",
      "Epoch 302/400\n",
      "\u001b[1m244/244\u001b[0m \u001b[32m━━━━━━━━━━━━━━━━━━━━\u001b[0m\u001b[37m\u001b[0m \u001b[1m2s\u001b[0m 9ms/step - loss: 0.1660 - mean_squared_error: 0.1660 - val_loss: 0.1722 - val_mean_squared_error: 0.1722\n",
      "Epoch 303/400\n",
      "\u001b[1m244/244\u001b[0m \u001b[32m━━━━━━━━━━━━━━━━━━━━\u001b[0m\u001b[37m\u001b[0m \u001b[1m2s\u001b[0m 9ms/step - loss: 0.1695 - mean_squared_error: 0.1695 - val_loss: 0.2552 - val_mean_squared_error: 0.2552\n",
      "Epoch 304/400\n",
      "\u001b[1m244/244\u001b[0m \u001b[32m━━━━━━━━━━━━━━━━━━━━\u001b[0m\u001b[37m\u001b[0m \u001b[1m2s\u001b[0m 9ms/step - loss: 0.1669 - mean_squared_error: 0.1669 - val_loss: 0.1419 - val_mean_squared_error: 0.1419\n",
      "Epoch 305/400\n",
      "\u001b[1m244/244\u001b[0m \u001b[32m━━━━━━━━━━━━━━━━━━━━\u001b[0m\u001b[37m\u001b[0m \u001b[1m2s\u001b[0m 9ms/step - loss: 0.1667 - mean_squared_error: 0.1667 - val_loss: 0.2001 - val_mean_squared_error: 0.2001\n",
      "Epoch 306/400\n",
      "\u001b[1m244/244\u001b[0m \u001b[32m━━━━━━━━━━━━━━━━━━━━\u001b[0m\u001b[37m\u001b[0m \u001b[1m2s\u001b[0m 9ms/step - loss: 0.2058 - mean_squared_error: 0.2058 - val_loss: 0.1618 - val_mean_squared_error: 0.1618\n",
      "Epoch 307/400\n",
      "\u001b[1m244/244\u001b[0m \u001b[32m━━━━━━━━━━━━━━━━━━━━\u001b[0m\u001b[37m\u001b[0m \u001b[1m2s\u001b[0m 9ms/step - loss: 0.1936 - mean_squared_error: 0.1936 - val_loss: 0.3075 - val_mean_squared_error: 0.3075\n",
      "Epoch 308/400\n",
      "\u001b[1m244/244\u001b[0m \u001b[32m━━━━━━━━━━━━━━━━━━━━\u001b[0m\u001b[37m\u001b[0m \u001b[1m2s\u001b[0m 9ms/step - loss: 0.1759 - mean_squared_error: 0.1759 - val_loss: 0.1800 - val_mean_squared_error: 0.1800\n",
      "Epoch 309/400\n",
      "\u001b[1m244/244\u001b[0m \u001b[32m━━━━━━━━━━━━━━━━━━━━\u001b[0m\u001b[37m\u001b[0m \u001b[1m2s\u001b[0m 9ms/step - loss: 0.1735 - mean_squared_error: 0.1735 - val_loss: 0.1279 - val_mean_squared_error: 0.1279\n",
      "Epoch 310/400\n",
      "\u001b[1m244/244\u001b[0m \u001b[32m━━━━━━━━━━━━━━━━━━━━\u001b[0m\u001b[37m\u001b[0m \u001b[1m2s\u001b[0m 9ms/step - loss: 0.1711 - mean_squared_error: 0.1711 - val_loss: 0.1917 - val_mean_squared_error: 0.1917\n",
      "Epoch 311/400\n",
      "\u001b[1m244/244\u001b[0m \u001b[32m━━━━━━━━━━━━━━━━━━━━\u001b[0m\u001b[37m\u001b[0m \u001b[1m2s\u001b[0m 9ms/step - loss: 0.1586 - mean_squared_error: 0.1586 - val_loss: 0.3124 - val_mean_squared_error: 0.3124\n",
      "Epoch 312/400\n",
      "\u001b[1m244/244\u001b[0m \u001b[32m━━━━━━━━━━━━━━━━━━━━\u001b[0m\u001b[37m\u001b[0m \u001b[1m2s\u001b[0m 9ms/step - loss: 0.1848 - mean_squared_error: 0.1848 - val_loss: 0.1583 - val_mean_squared_error: 0.1583\n",
      "Epoch 313/400\n",
      "\u001b[1m244/244\u001b[0m \u001b[32m━━━━━━━━━━━━━━━━━━━━\u001b[0m\u001b[37m\u001b[0m \u001b[1m2s\u001b[0m 9ms/step - loss: 0.1517 - mean_squared_error: 0.1517 - val_loss: 0.2556 - val_mean_squared_error: 0.2556\n",
      "Epoch 314/400\n",
      "\u001b[1m244/244\u001b[0m \u001b[32m━━━━━━━━━━━━━━━━━━━━\u001b[0m\u001b[37m\u001b[0m \u001b[1m2s\u001b[0m 9ms/step - loss: 0.1764 - mean_squared_error: 0.1765 - val_loss: 0.2281 - val_mean_squared_error: 0.2281\n",
      "Epoch 315/400\n",
      "\u001b[1m244/244\u001b[0m \u001b[32m━━━━━━━━━━━━━━━━━━━━\u001b[0m\u001b[37m\u001b[0m \u001b[1m2s\u001b[0m 9ms/step - loss: 0.1730 - mean_squared_error: 0.1730 - val_loss: 0.1130 - val_mean_squared_error: 0.1130\n",
      "Epoch 316/400\n",
      "\u001b[1m244/244\u001b[0m \u001b[32m━━━━━━━━━━━━━━━━━━━━\u001b[0m\u001b[37m\u001b[0m \u001b[1m2s\u001b[0m 8ms/step - loss: 0.1676 - mean_squared_error: 0.1676 - val_loss: 0.1927 - val_mean_squared_error: 0.1927\n",
      "Epoch 317/400\n",
      "\u001b[1m244/244\u001b[0m \u001b[32m━━━━━━━━━━━━━━━━━━━━\u001b[0m\u001b[37m\u001b[0m \u001b[1m2s\u001b[0m 9ms/step - loss: 0.1687 - mean_squared_error: 0.1687 - val_loss: 0.6070 - val_mean_squared_error: 0.6069\n",
      "Epoch 318/400\n",
      "\u001b[1m244/244\u001b[0m \u001b[32m━━━━━━━━━━━━━━━━━━━━\u001b[0m\u001b[37m\u001b[0m \u001b[1m2s\u001b[0m 9ms/step - loss: 0.1759 - mean_squared_error: 0.1759 - val_loss: 0.1469 - val_mean_squared_error: 0.1469\n",
      "Epoch 319/400\n",
      "\u001b[1m244/244\u001b[0m \u001b[32m━━━━━━━━━━━━━━━━━━━━\u001b[0m\u001b[37m\u001b[0m \u001b[1m2s\u001b[0m 9ms/step - loss: 0.1762 - mean_squared_error: 0.1762 - val_loss: 0.4647 - val_mean_squared_error: 0.4646\n",
      "Epoch 320/400\n",
      "\u001b[1m244/244\u001b[0m \u001b[32m━━━━━━━━━━━━━━━━━━━━\u001b[0m\u001b[37m\u001b[0m \u001b[1m2s\u001b[0m 9ms/step - loss: 0.1610 - mean_squared_error: 0.1609 - val_loss: 0.1843 - val_mean_squared_error: 0.1843\n",
      "Epoch 321/400\n",
      "\u001b[1m244/244\u001b[0m \u001b[32m━━━━━━━━━━━━━━━━━━━━\u001b[0m\u001b[37m\u001b[0m \u001b[1m2s\u001b[0m 9ms/step - loss: 0.2238 - mean_squared_error: 0.2238 - val_loss: 0.1279 - val_mean_squared_error: 0.1279\n",
      "Epoch 322/400\n",
      "\u001b[1m244/244\u001b[0m \u001b[32m━━━━━━━━━━━━━━━━━━━━\u001b[0m\u001b[37m\u001b[0m \u001b[1m2s\u001b[0m 9ms/step - loss: 0.1978 - mean_squared_error: 0.1978 - val_loss: 0.1419 - val_mean_squared_error: 0.1419\n",
      "Epoch 323/400\n",
      "\u001b[1m244/244\u001b[0m \u001b[32m━━━━━━━━━━━━━━━━━━━━\u001b[0m\u001b[37m\u001b[0m \u001b[1m2s\u001b[0m 9ms/step - loss: 0.1815 - mean_squared_error: 0.1816 - val_loss: 0.1607 - val_mean_squared_error: 0.1607\n",
      "Epoch 324/400\n",
      "\u001b[1m244/244\u001b[0m \u001b[32m━━━━━━━━━━━━━━━━━━━━\u001b[0m\u001b[37m\u001b[0m \u001b[1m2s\u001b[0m 9ms/step - loss: 0.1749 - mean_squared_error: 0.1749 - val_loss: 0.1971 - val_mean_squared_error: 0.1972\n",
      "Epoch 325/400\n",
      "\u001b[1m244/244\u001b[0m \u001b[32m━━━━━━━━━━━━━━━━━━━━\u001b[0m\u001b[37m\u001b[0m \u001b[1m2s\u001b[0m 9ms/step - loss: 0.2263 - mean_squared_error: 0.2263 - val_loss: 0.1269 - val_mean_squared_error: 0.1269\n",
      "Epoch 326/400\n",
      "\u001b[1m244/244\u001b[0m \u001b[32m━━━━━━━━━━━━━━━━━━━━\u001b[0m\u001b[37m\u001b[0m \u001b[1m2s\u001b[0m 9ms/step - loss: 0.1911 - mean_squared_error: 0.1911 - val_loss: 0.2204 - val_mean_squared_error: 0.2204\n",
      "Epoch 327/400\n",
      "\u001b[1m244/244\u001b[0m \u001b[32m━━━━━━━━━━━━━━━━━━━━\u001b[0m\u001b[37m\u001b[0m \u001b[1m2s\u001b[0m 9ms/step - loss: 0.2393 - mean_squared_error: 0.2393 - val_loss: 0.1471 - val_mean_squared_error: 0.1471\n",
      "Epoch 328/400\n",
      "\u001b[1m244/244\u001b[0m \u001b[32m━━━━━━━━━━━━━━━━━━━━\u001b[0m\u001b[37m\u001b[0m \u001b[1m2s\u001b[0m 9ms/step - loss: 0.2077 - mean_squared_error: 0.2077 - val_loss: 0.1452 - val_mean_squared_error: 0.1451\n",
      "Epoch 329/400\n",
      "\u001b[1m244/244\u001b[0m \u001b[32m━━━━━━━━━━━━━━━━━━━━\u001b[0m\u001b[37m\u001b[0m \u001b[1m2s\u001b[0m 9ms/step - loss: 0.1603 - mean_squared_error: 0.1603 - val_loss: 0.1353 - val_mean_squared_error: 0.1353\n",
      "Epoch 330/400\n",
      "\u001b[1m244/244\u001b[0m \u001b[32m━━━━━━━━━━━━━━━━━━━━\u001b[0m\u001b[37m\u001b[0m \u001b[1m2s\u001b[0m 9ms/step - loss: 0.1612 - mean_squared_error: 0.1613 - val_loss: 0.1742 - val_mean_squared_error: 0.1742\n",
      "Epoch 331/400\n",
      "\u001b[1m244/244\u001b[0m \u001b[32m━━━━━━━━━━━━━━━━━━━━\u001b[0m\u001b[37m\u001b[0m \u001b[1m2s\u001b[0m 9ms/step - loss: 0.1604 - mean_squared_error: 0.1605 - val_loss: 0.1699 - val_mean_squared_error: 0.1699\n",
      "Epoch 332/400\n",
      "\u001b[1m244/244\u001b[0m \u001b[32m━━━━━━━━━━━━━━━━━━━━\u001b[0m\u001b[37m\u001b[0m \u001b[1m2s\u001b[0m 9ms/step - loss: 0.1624 - mean_squared_error: 0.1624 - val_loss: 0.1601 - val_mean_squared_error: 0.1601\n",
      "Epoch 333/400\n",
      "\u001b[1m244/244\u001b[0m \u001b[32m━━━━━━━━━━━━━━━━━━━━\u001b[0m\u001b[37m\u001b[0m \u001b[1m2s\u001b[0m 9ms/step - loss: 0.2474 - mean_squared_error: 0.2474 - val_loss: 0.0917 - val_mean_squared_error: 0.0917\n",
      "Epoch 334/400\n",
      "\u001b[1m244/244\u001b[0m \u001b[32m━━━━━━━━━━━━━━━━━━━━\u001b[0m\u001b[37m\u001b[0m \u001b[1m2s\u001b[0m 9ms/step - loss: 0.2048 - mean_squared_error: 0.2048 - val_loss: 0.1350 - val_mean_squared_error: 0.1349\n",
      "Epoch 335/400\n",
      "\u001b[1m244/244\u001b[0m \u001b[32m━━━━━━━━━━━━━━━━━━━━\u001b[0m\u001b[37m\u001b[0m \u001b[1m2s\u001b[0m 9ms/step - loss: 0.1504 - mean_squared_error: 0.1504 - val_loss: 0.1120 - val_mean_squared_error: 0.1120\n",
      "Epoch 336/400\n",
      "\u001b[1m244/244\u001b[0m \u001b[32m━━━━━━━━━━━━━━━━━━━━\u001b[0m\u001b[37m\u001b[0m \u001b[1m2s\u001b[0m 9ms/step - loss: 0.1489 - mean_squared_error: 0.1489 - val_loss: 0.1187 - val_mean_squared_error: 0.1187\n",
      "Epoch 337/400\n",
      "\u001b[1m244/244\u001b[0m \u001b[32m━━━━━━━━━━━━━━━━━━━━\u001b[0m\u001b[37m\u001b[0m \u001b[1m2s\u001b[0m 9ms/step - loss: 0.1712 - mean_squared_error: 0.1713 - val_loss: 0.1100 - val_mean_squared_error: 0.1100\n",
      "Epoch 338/400\n",
      "\u001b[1m244/244\u001b[0m \u001b[32m━━━━━━━━━━━━━━━━━━━━\u001b[0m\u001b[37m\u001b[0m \u001b[1m2s\u001b[0m 9ms/step - loss: 0.1567 - mean_squared_error: 0.1567 - val_loss: 0.1316 - val_mean_squared_error: 0.1315\n",
      "Epoch 339/400\n",
      "\u001b[1m244/244\u001b[0m \u001b[32m━━━━━━━━━━━━━━━━━━━━\u001b[0m\u001b[37m\u001b[0m \u001b[1m2s\u001b[0m 9ms/step - loss: 0.1670 - mean_squared_error: 0.1670 - val_loss: 0.2018 - val_mean_squared_error: 0.2019\n",
      "Epoch 340/400\n",
      "\u001b[1m244/244\u001b[0m \u001b[32m━━━━━━━━━━━━━━━━━━━━\u001b[0m\u001b[37m\u001b[0m \u001b[1m2s\u001b[0m 9ms/step - loss: 0.2713 - mean_squared_error: 0.2713 - val_loss: 0.1379 - val_mean_squared_error: 0.1379\n",
      "Epoch 341/400\n",
      "\u001b[1m244/244\u001b[0m \u001b[32m━━━━━━━━━━━━━━━━━━━━\u001b[0m\u001b[37m\u001b[0m \u001b[1m2s\u001b[0m 9ms/step - loss: 0.1726 - mean_squared_error: 0.1725 - val_loss: 0.1475 - val_mean_squared_error: 0.1476\n",
      "Epoch 342/400\n",
      "\u001b[1m244/244\u001b[0m \u001b[32m━━━━━━━━━━━━━━━━━━━━\u001b[0m\u001b[37m\u001b[0m \u001b[1m2s\u001b[0m 9ms/step - loss: 0.1621 - mean_squared_error: 0.1621 - val_loss: 0.1127 - val_mean_squared_error: 0.1127\n",
      "Epoch 343/400\n",
      "\u001b[1m244/244\u001b[0m \u001b[32m━━━━━━━━━━━━━━━━━━━━\u001b[0m\u001b[37m\u001b[0m \u001b[1m2s\u001b[0m 9ms/step - loss: 0.2166 - mean_squared_error: 0.2166 - val_loss: 0.1361 - val_mean_squared_error: 0.1361\n",
      "Epoch 344/400\n",
      "\u001b[1m244/244\u001b[0m \u001b[32m━━━━━━━━━━━━━━━━━━━━\u001b[0m\u001b[37m\u001b[0m \u001b[1m2s\u001b[0m 9ms/step - loss: 0.1738 - mean_squared_error: 0.1738 - val_loss: 0.1596 - val_mean_squared_error: 0.1596\n",
      "Epoch 345/400\n",
      "\u001b[1m244/244\u001b[0m \u001b[32m━━━━━━━━━━━━━━━━━━━━\u001b[0m\u001b[37m\u001b[0m \u001b[1m2s\u001b[0m 9ms/step - loss: 0.1627 - mean_squared_error: 0.1626 - val_loss: 0.1437 - val_mean_squared_error: 0.1437\n",
      "Epoch 346/400\n",
      "\u001b[1m244/244\u001b[0m \u001b[32m━━━━━━━━━━━━━━━━━━━━\u001b[0m\u001b[37m\u001b[0m \u001b[1m2s\u001b[0m 9ms/step - loss: 0.1773 - mean_squared_error: 0.1773 - val_loss: 0.1559 - val_mean_squared_error: 0.1559\n",
      "Epoch 347/400\n",
      "\u001b[1m244/244\u001b[0m \u001b[32m━━━━━━━━━━━━━━━━━━━━\u001b[0m\u001b[37m\u001b[0m \u001b[1m2s\u001b[0m 9ms/step - loss: 0.2220 - mean_squared_error: 0.2219 - val_loss: 0.3437 - val_mean_squared_error: 0.3437\n",
      "Epoch 348/400\n",
      "\u001b[1m244/244\u001b[0m \u001b[32m━━━━━━━━━━━━━━━━━━━━\u001b[0m\u001b[37m\u001b[0m \u001b[1m2s\u001b[0m 9ms/step - loss: 0.2077 - mean_squared_error: 0.2076 - val_loss: 0.1179 - val_mean_squared_error: 0.1179\n",
      "Epoch 349/400\n",
      "\u001b[1m244/244\u001b[0m \u001b[32m━━━━━━━━━━━━━━━━━━━━\u001b[0m\u001b[37m\u001b[0m \u001b[1m2s\u001b[0m 9ms/step - loss: 0.1837 - mean_squared_error: 0.1837 - val_loss: 0.1405 - val_mean_squared_error: 0.1405\n",
      "Epoch 350/400\n",
      "\u001b[1m244/244\u001b[0m \u001b[32m━━━━━━━━━━━━━━━━━━━━\u001b[0m\u001b[37m\u001b[0m \u001b[1m2s\u001b[0m 9ms/step - loss: 0.1649 - mean_squared_error: 0.1649 - val_loss: 0.1171 - val_mean_squared_error: 0.1171\n",
      "Epoch 351/400\n",
      "\u001b[1m244/244\u001b[0m \u001b[32m━━━━━━━━━━━━━━━━━━━━\u001b[0m\u001b[37m\u001b[0m \u001b[1m2s\u001b[0m 9ms/step - loss: 0.1973 - mean_squared_error: 0.1973 - val_loss: 0.1843 - val_mean_squared_error: 0.1843\n",
      "Epoch 352/400\n",
      "\u001b[1m244/244\u001b[0m \u001b[32m━━━━━━━━━━━━━━━━━━━━\u001b[0m\u001b[37m\u001b[0m \u001b[1m2s\u001b[0m 9ms/step - loss: 0.2641 - mean_squared_error: 0.2641 - val_loss: 0.1439 - val_mean_squared_error: 0.1440\n",
      "Epoch 353/400\n",
      "\u001b[1m244/244\u001b[0m \u001b[32m━━━━━━━━━━━━━━━━━━━━\u001b[0m\u001b[37m\u001b[0m \u001b[1m2s\u001b[0m 9ms/step - loss: 0.1770 - mean_squared_error: 0.1770 - val_loss: 0.1257 - val_mean_squared_error: 0.1257\n",
      "Epoch 354/400\n",
      "\u001b[1m244/244\u001b[0m \u001b[32m━━━━━━━━━━━━━━━━━━━━\u001b[0m\u001b[37m\u001b[0m \u001b[1m2s\u001b[0m 9ms/step - loss: 0.1726 - mean_squared_error: 0.1727 - val_loss: 0.1301 - val_mean_squared_error: 0.1301\n",
      "Epoch 355/400\n",
      "\u001b[1m244/244\u001b[0m \u001b[32m━━━━━━━━━━━━━━━━━━━━\u001b[0m\u001b[37m\u001b[0m \u001b[1m2s\u001b[0m 9ms/step - loss: 0.1891 - mean_squared_error: 0.1891 - val_loss: 0.1163 - val_mean_squared_error: 0.1163\n",
      "Epoch 356/400\n",
      "\u001b[1m244/244\u001b[0m \u001b[32m━━━━━━━━━━━━━━━━━━━━\u001b[0m\u001b[37m\u001b[0m \u001b[1m2s\u001b[0m 9ms/step - loss: 0.1608 - mean_squared_error: 0.1608 - val_loss: 0.1425 - val_mean_squared_error: 0.1425\n",
      "Epoch 357/400\n",
      "\u001b[1m244/244\u001b[0m \u001b[32m━━━━━━━━━━━━━━━━━━━━\u001b[0m\u001b[37m\u001b[0m \u001b[1m2s\u001b[0m 9ms/step - loss: 0.1471 - mean_squared_error: 0.1471 - val_loss: 0.1305 - val_mean_squared_error: 0.1305\n",
      "Epoch 358/400\n",
      "\u001b[1m244/244\u001b[0m \u001b[32m━━━━━━━━━━━━━━━━━━━━\u001b[0m\u001b[37m\u001b[0m \u001b[1m2s\u001b[0m 9ms/step - loss: 0.2099 - mean_squared_error: 0.2099 - val_loss: 0.1103 - val_mean_squared_error: 0.1103\n",
      "Epoch 359/400\n",
      "\u001b[1m244/244\u001b[0m \u001b[32m━━━━━━━━━━━━━━━━━━━━\u001b[0m\u001b[37m\u001b[0m \u001b[1m2s\u001b[0m 9ms/step - loss: 0.2203 - mean_squared_error: 0.2203 - val_loss: 0.1134 - val_mean_squared_error: 0.1134\n",
      "Epoch 360/400\n",
      "\u001b[1m244/244\u001b[0m \u001b[32m━━━━━━━━━━━━━━━━━━━━\u001b[0m\u001b[37m\u001b[0m \u001b[1m2s\u001b[0m 9ms/step - loss: 0.3210 - mean_squared_error: 0.3210 - val_loss: 0.1056 - val_mean_squared_error: 0.1056\n",
      "Epoch 361/400\n",
      "\u001b[1m244/244\u001b[0m \u001b[32m━━━━━━━━━━━━━━━━━━━━\u001b[0m\u001b[37m\u001b[0m \u001b[1m2s\u001b[0m 9ms/step - loss: 0.2177 - mean_squared_error: 0.2177 - val_loss: 0.2594 - val_mean_squared_error: 0.2594\n",
      "Epoch 362/400\n",
      "\u001b[1m244/244\u001b[0m \u001b[32m━━━━━━━━━━━━━━━━━━━━\u001b[0m\u001b[37m\u001b[0m \u001b[1m2s\u001b[0m 9ms/step - loss: 0.2366 - mean_squared_error: 0.2366 - val_loss: 0.1337 - val_mean_squared_error: 0.1337\n",
      "Epoch 363/400\n",
      "\u001b[1m244/244\u001b[0m \u001b[32m━━━━━━━━━━━━━━━━━━━━\u001b[0m\u001b[37m\u001b[0m \u001b[1m2s\u001b[0m 8ms/step - loss: 0.1878 - mean_squared_error: 0.1878 - val_loss: 0.2533 - val_mean_squared_error: 0.2533\n",
      "Epoch 364/400\n",
      "\u001b[1m244/244\u001b[0m \u001b[32m━━━━━━━━━━━━━━━━━━━━\u001b[0m\u001b[37m\u001b[0m \u001b[1m2s\u001b[0m 9ms/step - loss: 0.5883 - mean_squared_error: 0.5882 - val_loss: 0.1193 - val_mean_squared_error: 0.1193\n",
      "Epoch 365/400\n",
      "\u001b[1m244/244\u001b[0m \u001b[32m━━━━━━━━━━━━━━━━━━━━\u001b[0m\u001b[37m\u001b[0m \u001b[1m2s\u001b[0m 9ms/step - loss: 0.1573 - mean_squared_error: 0.1573 - val_loss: 0.2301 - val_mean_squared_error: 0.2302\n",
      "Epoch 366/400\n",
      "\u001b[1m244/244\u001b[0m \u001b[32m━━━━━━━━━━━━━━━━━━━━\u001b[0m\u001b[37m\u001b[0m \u001b[1m2s\u001b[0m 8ms/step - loss: 0.1411 - mean_squared_error: 0.1411 - val_loss: 0.2178 - val_mean_squared_error: 0.2178\n",
      "Epoch 367/400\n",
      "\u001b[1m244/244\u001b[0m \u001b[32m━━━━━━━━━━━━━━━━━━━━\u001b[0m\u001b[37m\u001b[0m \u001b[1m2s\u001b[0m 9ms/step - loss: 0.1412 - mean_squared_error: 0.1413 - val_loss: 0.1271 - val_mean_squared_error: 0.1271\n",
      "Epoch 368/400\n",
      "\u001b[1m244/244\u001b[0m \u001b[32m━━━━━━━━━━━━━━━━━━━━\u001b[0m\u001b[37m\u001b[0m \u001b[1m2s\u001b[0m 8ms/step - loss: 0.1309 - mean_squared_error: 0.1309 - val_loss: 0.1938 - val_mean_squared_error: 0.1938\n",
      "Epoch 369/400\n",
      "\u001b[1m244/244\u001b[0m \u001b[32m━━━━━━━━━━━━━━━━━━━━\u001b[0m\u001b[37m\u001b[0m \u001b[1m2s\u001b[0m 9ms/step - loss: 0.1675 - mean_squared_error: 0.1675 - val_loss: 0.1287 - val_mean_squared_error: 0.1288\n",
      "Epoch 370/400\n",
      "\u001b[1m244/244\u001b[0m \u001b[32m━━━━━━━━━━━━━━━━━━━━\u001b[0m\u001b[37m\u001b[0m \u001b[1m2s\u001b[0m 9ms/step - loss: 0.1379 - mean_squared_error: 0.1379 - val_loss: 0.1028 - val_mean_squared_error: 0.1028\n",
      "Epoch 371/400\n",
      "\u001b[1m244/244\u001b[0m \u001b[32m━━━━━━━━━━━━━━━━━━━━\u001b[0m\u001b[37m\u001b[0m \u001b[1m2s\u001b[0m 9ms/step - loss: 0.1381 - mean_squared_error: 0.1382 - val_loss: 0.1100 - val_mean_squared_error: 0.1100\n",
      "Epoch 372/400\n",
      "\u001b[1m244/244\u001b[0m \u001b[32m━━━━━━━━━━━━━━━━━━━━\u001b[0m\u001b[37m\u001b[0m \u001b[1m2s\u001b[0m 9ms/step - loss: 0.1428 - mean_squared_error: 0.1428 - val_loss: 0.1375 - val_mean_squared_error: 0.1375\n",
      "Epoch 373/400\n",
      "\u001b[1m244/244\u001b[0m \u001b[32m━━━━━━━━━━━━━━━━━━━━\u001b[0m\u001b[37m\u001b[0m \u001b[1m2s\u001b[0m 9ms/step - loss: 0.1407 - mean_squared_error: 0.1407 - val_loss: 0.1177 - val_mean_squared_error: 0.1177\n",
      "Epoch 374/400\n",
      "\u001b[1m244/244\u001b[0m \u001b[32m━━━━━━━━━━━━━━━━━━━━\u001b[0m\u001b[37m\u001b[0m \u001b[1m2s\u001b[0m 9ms/step - loss: 0.1466 - mean_squared_error: 0.1466 - val_loss: 0.1506 - val_mean_squared_error: 0.1506\n",
      "Epoch 375/400\n",
      "\u001b[1m244/244\u001b[0m \u001b[32m━━━━━━━━━━━━━━━━━━━━\u001b[0m\u001b[37m\u001b[0m \u001b[1m2s\u001b[0m 9ms/step - loss: 0.1466 - mean_squared_error: 0.1465 - val_loss: 0.0921 - val_mean_squared_error: 0.0922\n",
      "Epoch 376/400\n",
      "\u001b[1m244/244\u001b[0m \u001b[32m━━━━━━━━━━━━━━━━━━━━\u001b[0m\u001b[37m\u001b[0m \u001b[1m2s\u001b[0m 8ms/step - loss: 0.1293 - mean_squared_error: 0.1292 - val_loss: 0.1448 - val_mean_squared_error: 0.1448\n",
      "Epoch 377/400\n",
      "\u001b[1m244/244\u001b[0m \u001b[32m━━━━━━━━━━━━━━━━━━━━\u001b[0m\u001b[37m\u001b[0m \u001b[1m2s\u001b[0m 9ms/step - loss: 0.1571 - mean_squared_error: 0.1571 - val_loss: 0.1085 - val_mean_squared_error: 0.1085\n",
      "Epoch 378/400\n",
      "\u001b[1m244/244\u001b[0m \u001b[32m━━━━━━━━━━━━━━━━━━━━\u001b[0m\u001b[37m\u001b[0m \u001b[1m2s\u001b[0m 9ms/step - loss: 0.1460 - mean_squared_error: 0.1460 - val_loss: 0.1396 - val_mean_squared_error: 0.1396\n",
      "Epoch 379/400\n",
      "\u001b[1m244/244\u001b[0m \u001b[32m━━━━━━━━━━━━━━━━━━━━\u001b[0m\u001b[37m\u001b[0m \u001b[1m2s\u001b[0m 9ms/step - loss: 0.1698 - mean_squared_error: 0.1698 - val_loss: 0.1661 - val_mean_squared_error: 0.1661\n",
      "Epoch 380/400\n",
      "\u001b[1m244/244\u001b[0m \u001b[32m━━━━━━━━━━━━━━━━━━━━\u001b[0m\u001b[37m\u001b[0m \u001b[1m2s\u001b[0m 9ms/step - loss: 0.1490 - mean_squared_error: 0.1490 - val_loss: 0.1366 - val_mean_squared_error: 0.1367\n",
      "Epoch 381/400\n",
      "\u001b[1m244/244\u001b[0m \u001b[32m━━━━━━━━━━━━━━━━━━━━\u001b[0m\u001b[37m\u001b[0m \u001b[1m2s\u001b[0m 9ms/step - loss: 0.1443 - mean_squared_error: 0.1443 - val_loss: 0.1096 - val_mean_squared_error: 0.1095\n",
      "Epoch 382/400\n",
      "\u001b[1m244/244\u001b[0m \u001b[32m━━━━━━━━━━━━━━━━━━━━\u001b[0m\u001b[37m\u001b[0m \u001b[1m2s\u001b[0m 9ms/step - loss: 0.1652 - mean_squared_error: 0.1652 - val_loss: 0.1025 - val_mean_squared_error: 0.1025\n",
      "Epoch 383/400\n",
      "\u001b[1m244/244\u001b[0m \u001b[32m━━━━━━━━━━━━━━━━━━━━\u001b[0m\u001b[37m\u001b[0m \u001b[1m2s\u001b[0m 9ms/step - loss: 0.2269 - mean_squared_error: 0.2269 - val_loss: 0.1054 - val_mean_squared_error: 0.1054\n",
      "Epoch 384/400\n",
      "\u001b[1m244/244\u001b[0m \u001b[32m━━━━━━━━━━━━━━━━━━━━\u001b[0m\u001b[37m\u001b[0m \u001b[1m2s\u001b[0m 9ms/step - loss: 0.1559 - mean_squared_error: 0.1559 - val_loss: 0.1283 - val_mean_squared_error: 0.1283\n",
      "Epoch 385/400\n",
      "\u001b[1m244/244\u001b[0m \u001b[32m━━━━━━━━━━━━━━━━━━━━\u001b[0m\u001b[37m\u001b[0m \u001b[1m2s\u001b[0m 9ms/step - loss: 0.1789 - mean_squared_error: 0.1789 - val_loss: 0.1200 - val_mean_squared_error: 0.1200\n",
      "Epoch 386/400\n",
      "\u001b[1m244/244\u001b[0m \u001b[32m━━━━━━━━━━━━━━━━━━━━\u001b[0m\u001b[37m\u001b[0m \u001b[1m2s\u001b[0m 9ms/step - loss: 0.1770 - mean_squared_error: 0.1770 - val_loss: 0.1676 - val_mean_squared_error: 0.1676\n",
      "Epoch 387/400\n",
      "\u001b[1m244/244\u001b[0m \u001b[32m━━━━━━━━━━━━━━━━━━━━\u001b[0m\u001b[37m\u001b[0m \u001b[1m2s\u001b[0m 8ms/step - loss: 0.1427 - mean_squared_error: 0.1427 - val_loss: 0.1126 - val_mean_squared_error: 0.1127\n",
      "Epoch 388/400\n",
      "\u001b[1m244/244\u001b[0m \u001b[32m━━━━━━━━━━━━━━━━━━━━\u001b[0m\u001b[37m\u001b[0m \u001b[1m2s\u001b[0m 9ms/step - loss: 0.1442 - mean_squared_error: 0.1442 - val_loss: 0.1513 - val_mean_squared_error: 0.1513\n",
      "Epoch 389/400\n",
      "\u001b[1m244/244\u001b[0m \u001b[32m━━━━━━━━━━━━━━━━━━━━\u001b[0m\u001b[37m\u001b[0m \u001b[1m2s\u001b[0m 9ms/step - loss: 0.1551 - mean_squared_error: 0.1551 - val_loss: 0.1432 - val_mean_squared_error: 0.1432\n",
      "Epoch 390/400\n",
      "\u001b[1m244/244\u001b[0m \u001b[32m━━━━━━━━━━━━━━━━━━━━\u001b[0m\u001b[37m\u001b[0m \u001b[1m2s\u001b[0m 9ms/step - loss: 0.1685 - mean_squared_error: 0.1685 - val_loss: 0.1278 - val_mean_squared_error: 0.1278\n",
      "Epoch 391/400\n",
      "\u001b[1m244/244\u001b[0m \u001b[32m━━━━━━━━━━━━━━━━━━━━\u001b[0m\u001b[37m\u001b[0m \u001b[1m2s\u001b[0m 8ms/step - loss: 0.1490 - mean_squared_error: 0.1490 - val_loss: 0.1142 - val_mean_squared_error: 0.1142\n",
      "Epoch 392/400\n",
      "\u001b[1m244/244\u001b[0m \u001b[32m━━━━━━━━━━━━━━━━━━━━\u001b[0m\u001b[37m\u001b[0m \u001b[1m2s\u001b[0m 9ms/step - loss: 0.1359 - mean_squared_error: 0.1359 - val_loss: 0.1914 - val_mean_squared_error: 0.1914\n",
      "Epoch 393/400\n",
      "\u001b[1m244/244\u001b[0m \u001b[32m━━━━━━━━━━━━━━━━━━━━\u001b[0m\u001b[37m\u001b[0m \u001b[1m2s\u001b[0m 9ms/step - loss: 0.1399 - mean_squared_error: 0.1399 - val_loss: 0.1365 - val_mean_squared_error: 0.1365\n",
      "Epoch 394/400\n",
      "\u001b[1m244/244\u001b[0m \u001b[32m━━━━━━━━━━━━━━━━━━━━\u001b[0m\u001b[37m\u001b[0m \u001b[1m2s\u001b[0m 9ms/step - loss: 0.1544 - mean_squared_error: 0.1544 - val_loss: 0.1401 - val_mean_squared_error: 0.1401\n",
      "Epoch 395/400\n",
      "\u001b[1m244/244\u001b[0m \u001b[32m━━━━━━━━━━━━━━━━━━━━\u001b[0m\u001b[37m\u001b[0m \u001b[1m2s\u001b[0m 9ms/step - loss: 0.2524 - mean_squared_error: 0.2523 - val_loss: 0.1157 - val_mean_squared_error: 0.1157\n",
      "Epoch 396/400\n",
      "\u001b[1m244/244\u001b[0m \u001b[32m━━━━━━━━━━━━━━━━━━━━\u001b[0m\u001b[37m\u001b[0m \u001b[1m2s\u001b[0m 9ms/step - loss: 0.1354 - mean_squared_error: 0.1354 - val_loss: 0.1317 - val_mean_squared_error: 0.1317\n",
      "Epoch 397/400\n",
      "\u001b[1m244/244\u001b[0m \u001b[32m━━━━━━━━━━━━━━━━━━━━\u001b[0m\u001b[37m\u001b[0m \u001b[1m2s\u001b[0m 9ms/step - loss: 0.1904 - mean_squared_error: 0.1903 - val_loss: 0.1293 - val_mean_squared_error: 0.1292\n",
      "Epoch 398/400\n",
      "\u001b[1m244/244\u001b[0m \u001b[32m━━━━━━━━━━━━━━━━━━━━\u001b[0m\u001b[37m\u001b[0m \u001b[1m2s\u001b[0m 9ms/step - loss: 0.1375 - mean_squared_error: 0.1375 - val_loss: 0.1701 - val_mean_squared_error: 0.1701\n",
      "Epoch 399/400\n",
      "\u001b[1m244/244\u001b[0m \u001b[32m━━━━━━━━━━━━━━━━━━━━\u001b[0m\u001b[37m\u001b[0m \u001b[1m2s\u001b[0m 9ms/step - loss: 0.1562 - mean_squared_error: 0.1562 - val_loss: 0.1213 - val_mean_squared_error: 0.1213\n",
      "Epoch 400/400\n",
      "\u001b[1m244/244\u001b[0m \u001b[32m━━━━━━━━━━━━━━━━━━━━\u001b[0m\u001b[37m\u001b[0m \u001b[1m2s\u001b[0m 9ms/step - loss: 0.1403 - mean_squared_error: 0.1403 - val_loss: 0.1574 - val_mean_squared_error: 0.1574\n"
     ]
    }
   ],
   "source": [
    "history = model.fit(\n",
    "    train_dataset,  \n",
    "    validation_data=val_dataset, \n",
    "    epochs=epochs\n",
    ")"
   ]
  },
  {
   "cell_type": "code",
   "execution_count": 27,
   "metadata": {},
   "outputs": [
    {
     "data": {
      "image/png": "[encoded data removed]",
      "text/plain": [
       "<Figure size 1000x500 with 1 Axes>"
      ]
     },
     "metadata": {},
     "output_type": "display_data"
    }
   ],
   "source": [
    "# Plot training loss and validation loss\n",
    "plt.figure(figsize=(10, 5))\n",
    "plt.plot(history.history['loss'][:], label='Training Loss')\n",
    "plt.plot(history.history['val_loss'][:], label='Validation Loss')\n",
    "plt.title('Training and Validation Loss')\n",
    "plt.xlabel('Epoch')\n",
    "plt.ylabel('Loss')\n",
    "plt.legend()\n",
    "plt.show()"
   ]
  },
  {
   "cell_type": "code",
   "execution_count": 28,
   "metadata": {},
   "outputs": [
    {
     "name": "stdout",
     "output_type": "stream",
     "text": [
      "\u001b[1m 1/14\u001b[0m \u001b[32m━\u001b[0m\u001b[37m━━━━━━━━━━━━━━━━━━━\u001b[0m \u001b[1m0s\u001b[0m 23ms/step - loss: 0.0626 - mean_squared_error: 0.0626"
     ]
    },
    {
     "name": "stdout",
     "output_type": "stream",
     "text": [
      "\u001b[1m14/14\u001b[0m \u001b[32m━━━━━━━━━━━━━━━━━━━━\u001b[0m\u001b[37m\u001b[0m \u001b[1m0s\u001b[0m 3ms/step - loss: 0.5260 - mean_squared_error: 0.5260 \n"
     ]
    },
    {
     "data": {
      "text/plain": [
       "[1.2757898569107056, 1.2755833864212036]"
      ]
     },
     "execution_count": 28,
     "metadata": {},
     "output_type": "execute_result"
    }
   ],
   "source": [
    "model.evaluate(test_dataset)"
   ]
  },
  {
   "cell_type": "code",
   "execution_count": 30,
   "metadata": {},
   "outputs": [],
   "source": [
    "model.save(os.path.join(os.path.dirname(os.getcwd()), 'models','ratio_lstm_model.keras'))"
   ]
  },
  {
   "cell_type": "code",
   "execution_count": null,
   "metadata": {},
   "outputs": [],
   "source": []
  }
 ],
 "metadata": {
  "kernelspec": {
   "display_name": "env",
   "language": "python",
   "name": "python3"
  },
  "language_info": {
   "codemirror_mode": {
    "name": "ipython",
    "version": 3
   },
   "file_extension": ".py",
   "mimetype": "text/x-python",
   "name": "python",
   "nbconvert_exporter": "python",
   "pygments_lexer": "ipython3",
   "version": "3.12.7"
  }
 },
 "nbformat": 4,
 "nbformat_minor": 2
}
