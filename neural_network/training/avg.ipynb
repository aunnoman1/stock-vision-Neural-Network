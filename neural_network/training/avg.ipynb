{
 "cells": [
  {
   "cell_type": "code",
   "execution_count": 1,
   "metadata": {},
   "outputs": [
    {
     "name": "stderr",
     "output_type": "stream",
     "text": [
      "2024-11-24 20:49:13.717653: E external/local_xla/xla/stream_executor/cuda/cuda_fft.cc:477] Unable to register cuFFT factory: Attempting to register factory for plugin cuFFT when one has already been registered\n",
      "WARNING: All log messages before absl::InitializeLog() is called are written to STDERR\n",
      "E0000 00:00:1732463353.734679   48512 cuda_dnn.cc:8310] Unable to register cuDNN factory: Attempting to register factory for plugin cuDNN when one has already been registered\n",
      "E0000 00:00:1732463353.739709   48512 cuda_blas.cc:1418] Unable to register cuBLAS factory: Attempting to register factory for plugin cuBLAS when one has already been registered\n",
      "2024-11-24 20:49:13.757920: I tensorflow/core/platform/cpu_feature_guard.cc:210] This TensorFlow binary is optimized to use available CPU instructions in performance-critical operations.\n",
      "To enable the following instructions: AVX2 FMA, in other operations, rebuild TensorFlow with the appropriate compiler flags.\n"
     ]
    }
   ],
   "source": [
    "import os\n",
    "import pandas as pd\n",
    "import numpy as np\n",
    "import matplotlib.pyplot as plt\n",
    "import tensorflow as tf\n",
    "from tqdm import tqdm\n",
    "from sklearn.preprocessing import StandardScaler\n",
    "from sklearn.model_selection import train_test_split\n",
    "import joblib\n",
    "from tensorflow.keras import mixed_precision\n"
   ]
  },
  {
   "cell_type": "code",
   "execution_count": 2,
   "metadata": {},
   "outputs": [],
   "source": [
    "mixed_precision.set_global_policy('mixed_float16')"
   ]
  },
  {
   "cell_type": "code",
   "execution_count": 3,
   "metadata": {},
   "outputs": [
    {
     "data": {
      "text/plain": [
       "(8666, 20, 5)"
      ]
     },
     "execution_count": 3,
     "metadata": {},
     "output_type": "execute_result"
    }
   ],
   "source": [
    "X=np.load(os.path.join(os.path.dirname(os.getcwd()), 'dataset_prep','all_avg','avg_X.npy'))\n",
    "X.shape"
   ]
  },
  {
   "cell_type": "code",
   "execution_count": 4,
   "metadata": {},
   "outputs": [
    {
     "data": {
      "text/plain": [
       "(8666,)"
      ]
     },
     "execution_count": 4,
     "metadata": {},
     "output_type": "execute_result"
    }
   ],
   "source": [
    "y=np.load(os.path.join(os.path.dirname(os.getcwd()), 'dataset_prep','all_avg','avg_y.npy'))\n",
    "y.shape"
   ]
  },
  {
   "cell_type": "code",
   "execution_count": 5,
   "metadata": {},
   "outputs": [
    {
     "data": {
      "text/plain": [
       "(8666, 1)"
      ]
     },
     "execution_count": 5,
     "metadata": {},
     "output_type": "execute_result"
    }
   ],
   "source": [
    "y=np.reshape(y,(8666,1))\n",
    "y.shape\n"
   ]
  },
  {
   "cell_type": "code",
   "execution_count": 6,
   "metadata": {},
   "outputs": [
    {
     "data": {
      "text/plain": [
       "(8666, 20, 5)"
      ]
     },
     "execution_count": 6,
     "metadata": {},
     "output_type": "execute_result"
    }
   ],
   "source": [
    "X.shape"
   ]
  },
  {
   "cell_type": "code",
   "execution_count": 7,
   "metadata": {},
   "outputs": [],
   "source": [
    "train_size=int(0.9*len(X))\n",
    "val_size=int(0.05*len(X))"
   ]
  },
  {
   "cell_type": "code",
   "execution_count": 8,
   "metadata": {},
   "outputs": [],
   "source": [
    "# input_dataset = tf.data.Dataset.from_tensor_slices((X))\n",
    "# output_dataset = tf.data.Dataset.from_tensor_slices((y))"
   ]
  },
  {
   "cell_type": "code",
   "execution_count": 9,
   "metadata": {},
   "outputs": [
    {
     "name": "stderr",
     "output_type": "stream",
     "text": [
      "I0000 00:00:1732463364.219101   48512 gpu_device.cc:2022] Created device /job:localhost/replica:0/task:0/device:GPU:0 with 9579 MB memory:  -> device: 0, name: NVIDIA GeForce RTX 3060, pci bus id: 0000:29:00.0, compute capability: 8.6\n"
     ]
    }
   ],
   "source": [
    "# dataset = tf.data.Dataset.zip((input_dataset, output_dataset))\n",
    "dataset = tf.data.Dataset.from_tensor_slices((X, y))"
   ]
  },
  {
   "cell_type": "code",
   "execution_count": 10,
   "metadata": {},
   "outputs": [
    {
     "data": {
      "text/plain": [
       "<tf.Tensor: shape=(), dtype=int64, numpy=8666>"
      ]
     },
     "execution_count": 10,
     "metadata": {},
     "output_type": "execute_result"
    }
   ],
   "source": [
    "dataset.cardinality()"
   ]
  },
  {
   "cell_type": "code",
   "execution_count": 11,
   "metadata": {},
   "outputs": [],
   "source": [
    "batch_size = 32"
   ]
  },
  {
   "cell_type": "code",
   "execution_count": 12,
   "metadata": {},
   "outputs": [],
   "source": [
    "dataset = dataset.shuffle(buffer_size=dataset.cardinality().numpy())"
   ]
  },
  {
   "cell_type": "code",
   "execution_count": 13,
   "metadata": {},
   "outputs": [],
   "source": [
    "train_dataset=dataset.take(train_size)\n",
    "val_dataset=dataset.skip(train_size).take(val_size)\n",
    "test_dataset=dataset.skip(train_size+val_size)"
   ]
  },
  {
   "cell_type": "code",
   "execution_count": 14,
   "metadata": {},
   "outputs": [
    {
     "name": "stdout",
     "output_type": "stream",
     "text": [
      "train_dataset: 7799, val_dataset: 433, test_dataset: 434\n"
     ]
    }
   ],
   "source": [
    "print(f'train_dataset: {train_dataset.cardinality()}, val_dataset: {val_dataset.cardinality()}, test_dataset: {test_dataset.cardinality()}')"
   ]
  },
  {
   "cell_type": "code",
   "execution_count": 15,
   "metadata": {},
   "outputs": [],
   "source": [
    "train_dataset = (train_dataset\n",
    "                 .shuffle(buffer_size=train_dataset.cardinality().numpy())\n",
    "                 .batch(batch_size=batch_size)\n",
    "                 .prefetch(tf.data.AUTOTUNE)\n",
    "                 )"
   ]
  },
  {
   "cell_type": "code",
   "execution_count": 16,
   "metadata": {},
   "outputs": [
    {
     "data": {
      "text/plain": [
       "<tf.Tensor: shape=(), dtype=int64, numpy=244>"
      ]
     },
     "execution_count": 16,
     "metadata": {},
     "output_type": "execute_result"
    }
   ],
   "source": [
    "train_dataset.cardinality()"
   ]
  },
  {
   "cell_type": "code",
   "execution_count": 17,
   "metadata": {},
   "outputs": [],
   "source": [
    "val_dataset=(val_dataset\n",
    "             .shuffle(buffer_size=val_dataset.cardinality().numpy())\n",
    "             .batch(batch_size=batch_size)\n",
    "             )"
   ]
  },
  {
   "cell_type": "code",
   "execution_count": 18,
   "metadata": {},
   "outputs": [],
   "source": [
    "test_dataset=(test_dataset\n",
    "              .shuffle(buffer_size=test_dataset.cardinality().numpy())\n",
    "                .batch(batch_size=batch_size)\n",
    "                )"
   ]
  },
  {
   "cell_type": "code",
   "execution_count": 19,
   "metadata": {},
   "outputs": [
    {
     "name": "stdout",
     "output_type": "stream",
     "text": [
      "Input shape for the model: (32, 20, 5)\n"
     ]
    },
    {
     "name": "stderr",
     "output_type": "stream",
     "text": [
      "2024-11-24 20:49:28.433682: I tensorflow/core/framework/local_rendezvous.cc:405] Local rendezvous is aborting with status: OUT_OF_RANGE: End of sequence\n"
     ]
    }
   ],
   "source": [
    "for x_batch, y_batch in train_dataset.take(1):\n",
    "    input_shape = x_batch.shape[:]  # Extract shape of a single batch's inputs\n",
    "    print(f\"Input shape for the model: {input_shape}\")"
   ]
  },
  {
   "cell_type": "code",
   "execution_count": 20,
   "metadata": {},
   "outputs": [
    {
     "data": {
      "text/plain": [
       "TensorShape([32, 20, 5])"
      ]
     },
     "execution_count": 20,
     "metadata": {},
     "output_type": "execute_result"
    }
   ],
   "source": [
    "input_shape"
   ]
  },
  {
   "cell_type": "code",
   "execution_count": 21,
   "metadata": {},
   "outputs": [],
   "source": [
    "\n",
    "model = tf.keras.models.Sequential([\n",
    "    tf.keras.layers.Input(shape=[20,5]),\n",
    "    tf.keras.layers.LSTM(128, activation='tanh',return_sequences=True,dropout=0.2),\n",
    "    tf.keras.layers.LSTM(64, activation='tanh',return_sequences=True,dropout=0.2 ),\n",
    "    tf.keras.layers.LSTM(32, activation='tanh',return_sequences=False, ),\n",
    "    tf.keras.layers.Dropout(0.2),\n",
    "    tf.keras.layers.Dense(1)\n",
    "])\n"
   ]
  },
  {
   "cell_type": "code",
   "execution_count": 22,
   "metadata": {},
   "outputs": [],
   "source": [
    "model.compile(optimizer='adam', loss='mean_squared_error', metrics=['mean_squared_error'])"
   ]
  },
  {
   "cell_type": "code",
   "execution_count": 23,
   "metadata": {},
   "outputs": [
    {
     "data": {
      "text/html": [
       "<pre style=\"white-space:pre;overflow-x:auto;line-height:normal;font-family:Menlo,'DejaVu Sans Mono',consolas,'Courier New',monospace\"><span style=\"font-weight: bold\">Model: \"sequential\"</span>\n",
       "</pre>\n"
      ],
      "text/plain": [
       "\u001b[1mModel: \"sequential\"\u001b[0m\n"
      ]
     },
     "metadata": {},
     "output_type": "display_data"
    },
    {
     "data": {
      "text/html": [
       "<pre style=\"white-space:pre;overflow-x:auto;line-height:normal;font-family:Menlo,'DejaVu Sans Mono',consolas,'Courier New',monospace\">┏━━━━━━━━━━━━━━━━━━━━━━━━━━━━━━━━━┳━━━━━━━━━━━━━━━━━━━━━━━━┳━━━━━━━━━━━━━━━┓\n",
       "┃<span style=\"font-weight: bold\"> Layer (type)                    </span>┃<span style=\"font-weight: bold\"> Output Shape           </span>┃<span style=\"font-weight: bold\">       Param # </span>┃\n",
       "┡━━━━━━━━━━━━━━━━━━━━━━━━━━━━━━━━━╇━━━━━━━━━━━━━━━━━━━━━━━━╇━━━━━━━━━━━━━━━┩\n",
       "│ lstm (<span style=\"color: #0087ff; text-decoration-color: #0087ff\">LSTM</span>)                     │ (<span style=\"color: #00d7ff; text-decoration-color: #00d7ff\">None</span>, <span style=\"color: #00af00; text-decoration-color: #00af00\">20</span>, <span style=\"color: #00af00; text-decoration-color: #00af00\">128</span>)        │        <span style=\"color: #00af00; text-decoration-color: #00af00\">68,608</span> │\n",
       "├─────────────────────────────────┼────────────────────────┼───────────────┤\n",
       "│ lstm_1 (<span style=\"color: #0087ff; text-decoration-color: #0087ff\">LSTM</span>)                   │ (<span style=\"color: #00d7ff; text-decoration-color: #00d7ff\">None</span>, <span style=\"color: #00af00; text-decoration-color: #00af00\">20</span>, <span style=\"color: #00af00; text-decoration-color: #00af00\">64</span>)         │        <span style=\"color: #00af00; text-decoration-color: #00af00\">49,408</span> │\n",
       "├─────────────────────────────────┼────────────────────────┼───────────────┤\n",
       "│ lstm_2 (<span style=\"color: #0087ff; text-decoration-color: #0087ff\">LSTM</span>)                   │ (<span style=\"color: #00d7ff; text-decoration-color: #00d7ff\">None</span>, <span style=\"color: #00af00; text-decoration-color: #00af00\">32</span>)             │        <span style=\"color: #00af00; text-decoration-color: #00af00\">12,416</span> │\n",
       "├─────────────────────────────────┼────────────────────────┼───────────────┤\n",
       "│ dropout (<span style=\"color: #0087ff; text-decoration-color: #0087ff\">Dropout</span>)               │ (<span style=\"color: #00d7ff; text-decoration-color: #00d7ff\">None</span>, <span style=\"color: #00af00; text-decoration-color: #00af00\">32</span>)             │             <span style=\"color: #00af00; text-decoration-color: #00af00\">0</span> │\n",
       "├─────────────────────────────────┼────────────────────────┼───────────────┤\n",
       "│ dense (<span style=\"color: #0087ff; text-decoration-color: #0087ff\">Dense</span>)                   │ (<span style=\"color: #00d7ff; text-decoration-color: #00d7ff\">None</span>, <span style=\"color: #00af00; text-decoration-color: #00af00\">1</span>)              │            <span style=\"color: #00af00; text-decoration-color: #00af00\">33</span> │\n",
       "└─────────────────────────────────┴────────────────────────┴───────────────┘\n",
       "</pre>\n"
      ],
      "text/plain": [
       "┏━━━━━━━━━━━━━━━━━━━━━━━━━━━━━━━━━┳━━━━━━━━━━━━━━━━━━━━━━━━┳━━━━━━━━━━━━━━━┓\n",
       "┃\u001b[1m \u001b[0m\u001b[1mLayer (type)                   \u001b[0m\u001b[1m \u001b[0m┃\u001b[1m \u001b[0m\u001b[1mOutput Shape          \u001b[0m\u001b[1m \u001b[0m┃\u001b[1m \u001b[0m\u001b[1m      Param #\u001b[0m\u001b[1m \u001b[0m┃\n",
       "┡━━━━━━━━━━━━━━━━━━━━━━━━━━━━━━━━━╇━━━━━━━━━━━━━━━━━━━━━━━━╇━━━━━━━━━━━━━━━┩\n",
       "│ lstm (\u001b[38;5;33mLSTM\u001b[0m)                     │ (\u001b[38;5;45mNone\u001b[0m, \u001b[38;5;34m20\u001b[0m, \u001b[38;5;34m128\u001b[0m)        │        \u001b[38;5;34m68,608\u001b[0m │\n",
       "├─────────────────────────────────┼────────────────────────┼───────────────┤\n",
       "│ lstm_1 (\u001b[38;5;33mLSTM\u001b[0m)                   │ (\u001b[38;5;45mNone\u001b[0m, \u001b[38;5;34m20\u001b[0m, \u001b[38;5;34m64\u001b[0m)         │        \u001b[38;5;34m49,408\u001b[0m │\n",
       "├─────────────────────────────────┼────────────────────────┼───────────────┤\n",
       "│ lstm_2 (\u001b[38;5;33mLSTM\u001b[0m)                   │ (\u001b[38;5;45mNone\u001b[0m, \u001b[38;5;34m32\u001b[0m)             │        \u001b[38;5;34m12,416\u001b[0m │\n",
       "├─────────────────────────────────┼────────────────────────┼───────────────┤\n",
       "│ dropout (\u001b[38;5;33mDropout\u001b[0m)               │ (\u001b[38;5;45mNone\u001b[0m, \u001b[38;5;34m32\u001b[0m)             │             \u001b[38;5;34m0\u001b[0m │\n",
       "├─────────────────────────────────┼────────────────────────┼───────────────┤\n",
       "│ dense (\u001b[38;5;33mDense\u001b[0m)                   │ (\u001b[38;5;45mNone\u001b[0m, \u001b[38;5;34m1\u001b[0m)              │            \u001b[38;5;34m33\u001b[0m │\n",
       "└─────────────────────────────────┴────────────────────────┴───────────────┘\n"
      ]
     },
     "metadata": {},
     "output_type": "display_data"
    },
    {
     "data": {
      "text/html": [
       "<pre style=\"white-space:pre;overflow-x:auto;line-height:normal;font-family:Menlo,'DejaVu Sans Mono',consolas,'Courier New',monospace\"><span style=\"font-weight: bold\"> Total params: </span><span style=\"color: #00af00; text-decoration-color: #00af00\">130,465</span> (509.63 KB)\n",
       "</pre>\n"
      ],
      "text/plain": [
       "\u001b[1m Total params: \u001b[0m\u001b[38;5;34m130,465\u001b[0m (509.63 KB)\n"
      ]
     },
     "metadata": {},
     "output_type": "display_data"
    },
    {
     "data": {
      "text/html": [
       "<pre style=\"white-space:pre;overflow-x:auto;line-height:normal;font-family:Menlo,'DejaVu Sans Mono',consolas,'Courier New',monospace\"><span style=\"font-weight: bold\"> Trainable params: </span><span style=\"color: #00af00; text-decoration-color: #00af00\">130,465</span> (509.63 KB)\n",
       "</pre>\n"
      ],
      "text/plain": [
       "\u001b[1m Trainable params: \u001b[0m\u001b[38;5;34m130,465\u001b[0m (509.63 KB)\n"
      ]
     },
     "metadata": {},
     "output_type": "display_data"
    },
    {
     "data": {
      "text/html": [
       "<pre style=\"white-space:pre;overflow-x:auto;line-height:normal;font-family:Menlo,'DejaVu Sans Mono',consolas,'Courier New',monospace\"><span style=\"font-weight: bold\"> Non-trainable params: </span><span style=\"color: #00af00; text-decoration-color: #00af00\">0</span> (0.00 B)\n",
       "</pre>\n"
      ],
      "text/plain": [
       "\u001b[1m Non-trainable params: \u001b[0m\u001b[38;5;34m0\u001b[0m (0.00 B)\n"
      ]
     },
     "metadata": {},
     "output_type": "display_data"
    }
   ],
   "source": [
    "model.summary()"
   ]
  },
  {
   "cell_type": "code",
   "execution_count": 24,
   "metadata": {},
   "outputs": [],
   "source": [
    "epochs = 400"
   ]
  },
  {
   "cell_type": "code",
   "execution_count": 25,
   "metadata": {},
   "outputs": [
    {
     "name": "stdout",
     "output_type": "stream",
     "text": [
      "Epoch 1/400\n"
     ]
    },
    {
     "name": "stderr",
     "output_type": "stream",
     "text": [
      "I0000 00:00:1732463388.874604   48586 cuda_dnn.cc:529] Loaded cuDNN version 90300\n"
     ]
    },
    {
     "name": "stdout",
     "output_type": "stream",
     "text": [
      "\u001b[1m244/244\u001b[0m \u001b[32m━━━━━━━━━━━━━━━━━━━━\u001b[0m\u001b[37m\u001b[0m \u001b[1m6s\u001b[0m 10ms/step - loss: 1.0730 - mean_squared_error: 1.0730 - val_loss: 1.9849 - val_mean_squared_error: 1.9837\n",
      "Epoch 2/400\n",
      "\u001b[1m244/244\u001b[0m \u001b[32m━━━━━━━━━━━━━━━━━━━━\u001b[0m\u001b[37m\u001b[0m \u001b[1m2s\u001b[0m 9ms/step - loss: 1.0098 - mean_squared_error: 1.0098 - val_loss: 0.7873 - val_mean_squared_error: 0.7874\n",
      "Epoch 3/400\n",
      "\u001b[1m244/244\u001b[0m \u001b[32m━━━━━━━━━━━━━━━━━━━━\u001b[0m\u001b[37m\u001b[0m \u001b[1m2s\u001b[0m 9ms/step - loss: 1.0410 - mean_squared_error: 1.0410 - val_loss: 2.0332 - val_mean_squared_error: 2.0336\n",
      "Epoch 4/400\n",
      "\u001b[1m244/244\u001b[0m \u001b[32m━━━━━━━━━━━━━━━━━━━━\u001b[0m\u001b[37m\u001b[0m \u001b[1m2s\u001b[0m 8ms/step - loss: 1.1239 - mean_squared_error: 1.1238 - val_loss: 0.7158 - val_mean_squared_error: 0.7159\n",
      "Epoch 5/400\n",
      "\u001b[1m244/244\u001b[0m \u001b[32m━━━━━━━━━━━━━━━━━━━━\u001b[0m\u001b[37m\u001b[0m \u001b[1m2s\u001b[0m 9ms/step - loss: 1.0324 - mean_squared_error: 1.0321 - val_loss: 2.1223 - val_mean_squared_error: 2.1223\n",
      "Epoch 6/400\n",
      "\u001b[1m244/244\u001b[0m \u001b[32m━━━━━━━━━━━━━━━━━━━━\u001b[0m\u001b[37m\u001b[0m \u001b[1m2s\u001b[0m 9ms/step - loss: 0.9173 - mean_squared_error: 0.9172 - val_loss: 1.1127 - val_mean_squared_error: 1.1128\n",
      "Epoch 7/400\n",
      "\u001b[1m244/244\u001b[0m \u001b[32m━━━━━━━━━━━━━━━━━━━━\u001b[0m\u001b[37m\u001b[0m \u001b[1m2s\u001b[0m 9ms/step - loss: 0.8482 - mean_squared_error: 0.8481 - val_loss: 1.2168 - val_mean_squared_error: 1.2168\n",
      "Epoch 8/400\n",
      "\u001b[1m244/244\u001b[0m \u001b[32m━━━━━━━━━━━━━━━━━━━━\u001b[0m\u001b[37m\u001b[0m \u001b[1m2s\u001b[0m 9ms/step - loss: 1.0669 - mean_squared_error: 1.0668 - val_loss: 0.6334 - val_mean_squared_error: 0.6333\n",
      "Epoch 9/400\n",
      "\u001b[1m244/244\u001b[0m \u001b[32m━━━━━━━━━━━━━━━━━━━━\u001b[0m\u001b[37m\u001b[0m \u001b[1m2s\u001b[0m 8ms/step - loss: 0.9907 - mean_squared_error: 0.9907 - val_loss: 1.2295 - val_mean_squared_error: 1.2292\n",
      "Epoch 10/400\n",
      "\u001b[1m244/244\u001b[0m \u001b[32m━━━━━━━━━━━━━━━━━━━━\u001b[0m\u001b[37m\u001b[0m \u001b[1m2s\u001b[0m 9ms/step - loss: 0.9842 - mean_squared_error: 0.9841 - val_loss: 0.6557 - val_mean_squared_error: 0.6558\n",
      "Epoch 11/400\n",
      "\u001b[1m244/244\u001b[0m \u001b[32m━━━━━━━━━━━━━━━━━━━━\u001b[0m\u001b[37m\u001b[0m \u001b[1m2s\u001b[0m 9ms/step - loss: 1.1085 - mean_squared_error: 1.1084 - val_loss: 0.8192 - val_mean_squared_error: 0.8193\n",
      "Epoch 12/400\n",
      "\u001b[1m244/244\u001b[0m \u001b[32m━━━━━━━━━━━━━━━━━━━━\u001b[0m\u001b[37m\u001b[0m \u001b[1m2s\u001b[0m 9ms/step - loss: 1.0552 - mean_squared_error: 1.0552 - val_loss: 0.5877 - val_mean_squared_error: 0.5877\n",
      "Epoch 13/400\n",
      "\u001b[1m244/244\u001b[0m \u001b[32m━━━━━━━━━━━━━━━━━━━━\u001b[0m\u001b[37m\u001b[0m \u001b[1m2s\u001b[0m 8ms/step - loss: 1.1082 - mean_squared_error: 1.1081 - val_loss: 1.4419 - val_mean_squared_error: 1.4413\n",
      "Epoch 14/400\n",
      "\u001b[1m244/244\u001b[0m \u001b[32m━━━━━━━━━━━━━━━━━━━━\u001b[0m\u001b[37m\u001b[0m \u001b[1m2s\u001b[0m 9ms/step - loss: 1.0669 - mean_squared_error: 1.0666 - val_loss: 0.6091 - val_mean_squared_error: 0.6091\n",
      "Epoch 15/400\n",
      "\u001b[1m244/244\u001b[0m \u001b[32m━━━━━━━━━━━━━━━━━━━━\u001b[0m\u001b[37m\u001b[0m \u001b[1m2s\u001b[0m 9ms/step - loss: 1.1150 - mean_squared_error: 1.1148 - val_loss: 0.8963 - val_mean_squared_error: 0.8963\n",
      "Epoch 16/400\n",
      "\u001b[1m244/244\u001b[0m \u001b[32m━━━━━━━━━━━━━━━━━━━━\u001b[0m\u001b[37m\u001b[0m \u001b[1m2s\u001b[0m 9ms/step - loss: 1.1108 - mean_squared_error: 1.1106 - val_loss: 0.7709 - val_mean_squared_error: 0.7709\n",
      "Epoch 17/400\n",
      "\u001b[1m244/244\u001b[0m \u001b[32m━━━━━━━━━━━━━━━━━━━━\u001b[0m\u001b[37m\u001b[0m \u001b[1m2s\u001b[0m 9ms/step - loss: 1.0773 - mean_squared_error: 1.0770 - val_loss: 0.8172 - val_mean_squared_error: 0.8172\n",
      "Epoch 18/400\n",
      "\u001b[1m244/244\u001b[0m \u001b[32m━━━━━━━━━━━━━━━━━━━━\u001b[0m\u001b[37m\u001b[0m \u001b[1m2s\u001b[0m 9ms/step - loss: 1.1133 - mean_squared_error: 1.1133 - val_loss: 0.6830 - val_mean_squared_error: 0.6829\n",
      "Epoch 19/400\n",
      "\u001b[1m244/244\u001b[0m \u001b[32m━━━━━━━━━━━━━━━━━━━━\u001b[0m\u001b[37m\u001b[0m \u001b[1m2s\u001b[0m 9ms/step - loss: 0.8195 - mean_squared_error: 0.8195 - val_loss: 1.1611 - val_mean_squared_error: 1.1606\n",
      "Epoch 20/400\n",
      "\u001b[1m244/244\u001b[0m \u001b[32m━━━━━━━━━━━━━━━━━━━━\u001b[0m\u001b[37m\u001b[0m \u001b[1m2s\u001b[0m 9ms/step - loss: 0.9921 - mean_squared_error: 0.9921 - val_loss: 0.7672 - val_mean_squared_error: 0.7673\n",
      "Epoch 21/400\n",
      "\u001b[1m244/244\u001b[0m \u001b[32m━━━━━━━━━━━━━━━━━━━━\u001b[0m\u001b[37m\u001b[0m \u001b[1m2s\u001b[0m 9ms/step - loss: 0.8634 - mean_squared_error: 0.8633 - val_loss: 0.5555 - val_mean_squared_error: 0.5556\n",
      "Epoch 22/400\n",
      "\u001b[1m244/244\u001b[0m \u001b[32m━━━━━━━━━━━━━━━━━━━━\u001b[0m\u001b[37m\u001b[0m \u001b[1m2s\u001b[0m 9ms/step - loss: 0.9542 - mean_squared_error: 0.9541 - val_loss: 1.0624 - val_mean_squared_error: 1.0627\n",
      "Epoch 23/400\n",
      "\u001b[1m244/244\u001b[0m \u001b[32m━━━━━━━━━━━━━━━━━━━━\u001b[0m\u001b[37m\u001b[0m \u001b[1m2s\u001b[0m 9ms/step - loss: 0.8049 - mean_squared_error: 0.8049 - val_loss: 1.1559 - val_mean_squared_error: 1.1560\n",
      "Epoch 24/400\n",
      "\u001b[1m244/244\u001b[0m \u001b[32m━━━━━━━━━━━━━━━━━━━━\u001b[0m\u001b[37m\u001b[0m \u001b[1m2s\u001b[0m 9ms/step - loss: 1.0930 - mean_squared_error: 1.0931 - val_loss: 0.7036 - val_mean_squared_error: 0.7041\n",
      "Epoch 25/400\n",
      "\u001b[1m244/244\u001b[0m \u001b[32m━━━━━━━━━━━━━━━━━━━━\u001b[0m\u001b[37m\u001b[0m \u001b[1m2s\u001b[0m 9ms/step - loss: 1.0988 - mean_squared_error: 1.0989 - val_loss: 1.1089 - val_mean_squared_error: 1.1088\n",
      "Epoch 26/400\n",
      "\u001b[1m244/244\u001b[0m \u001b[32m━━━━━━━━━━━━━━━━━━━━\u001b[0m\u001b[37m\u001b[0m \u001b[1m2s\u001b[0m 9ms/step - loss: 0.9351 - mean_squared_error: 0.9350 - val_loss: 0.6366 - val_mean_squared_error: 0.6367\n",
      "Epoch 27/400\n",
      "\u001b[1m244/244\u001b[0m \u001b[32m━━━━━━━━━━━━━━━━━━━━\u001b[0m\u001b[37m\u001b[0m \u001b[1m2s\u001b[0m 9ms/step - loss: 0.8662 - mean_squared_error: 0.8661 - val_loss: 1.2167 - val_mean_squared_error: 1.2164\n",
      "Epoch 28/400\n",
      "\u001b[1m244/244\u001b[0m \u001b[32m━━━━━━━━━━━━━━━━━━━━\u001b[0m\u001b[37m\u001b[0m \u001b[1m2s\u001b[0m 9ms/step - loss: 1.1072 - mean_squared_error: 1.1070 - val_loss: 1.8160 - val_mean_squared_error: 1.8156\n",
      "Epoch 29/400\n",
      "\u001b[1m244/244\u001b[0m \u001b[32m━━━━━━━━━━━━━━━━━━━━\u001b[0m\u001b[37m\u001b[0m \u001b[1m2s\u001b[0m 8ms/step - loss: 0.8437 - mean_squared_error: 0.8437 - val_loss: 0.9694 - val_mean_squared_error: 0.9692\n",
      "Epoch 30/400\n",
      "\u001b[1m244/244\u001b[0m \u001b[32m━━━━━━━━━━━━━━━━━━━━\u001b[0m\u001b[37m\u001b[0m \u001b[1m2s\u001b[0m 9ms/step - loss: 0.8924 - mean_squared_error: 0.8923 - val_loss: 2.8528 - val_mean_squared_error: 2.8520\n",
      "Epoch 31/400\n",
      "\u001b[1m244/244\u001b[0m \u001b[32m━━━━━━━━━━━━━━━━━━━━\u001b[0m\u001b[37m\u001b[0m \u001b[1m2s\u001b[0m 9ms/step - loss: 0.8517 - mean_squared_error: 0.8515 - val_loss: 1.7196 - val_mean_squared_error: 1.7191\n",
      "Epoch 32/400\n",
      "\u001b[1m244/244\u001b[0m \u001b[32m━━━━━━━━━━━━━━━━━━━━\u001b[0m\u001b[37m\u001b[0m \u001b[1m2s\u001b[0m 9ms/step - loss: 0.9075 - mean_squared_error: 0.9075 - val_loss: 0.6103 - val_mean_squared_error: 0.6103\n",
      "Epoch 33/400\n",
      "\u001b[1m244/244\u001b[0m \u001b[32m━━━━━━━━━━━━━━━━━━━━\u001b[0m\u001b[37m\u001b[0m \u001b[1m2s\u001b[0m 9ms/step - loss: 0.8949 - mean_squared_error: 0.8949 - val_loss: 0.7154 - val_mean_squared_error: 0.7154\n",
      "Epoch 34/400\n",
      "\u001b[1m244/244\u001b[0m \u001b[32m━━━━━━━━━━━━━━━━━━━━\u001b[0m\u001b[37m\u001b[0m \u001b[1m2s\u001b[0m 9ms/step - loss: 0.9549 - mean_squared_error: 0.9547 - val_loss: 0.5334 - val_mean_squared_error: 0.5335\n",
      "Epoch 35/400\n",
      "\u001b[1m244/244\u001b[0m \u001b[32m━━━━━━━━━━━━━━━━━━━━\u001b[0m\u001b[37m\u001b[0m \u001b[1m2s\u001b[0m 9ms/step - loss: 0.8359 - mean_squared_error: 0.8359 - val_loss: 1.8884 - val_mean_squared_error: 1.8887\n",
      "Epoch 36/400\n",
      "\u001b[1m244/244\u001b[0m \u001b[32m━━━━━━━━━━━━━━━━━━━━\u001b[0m\u001b[37m\u001b[0m \u001b[1m2s\u001b[0m 9ms/step - loss: 1.1802 - mean_squared_error: 1.1800 - val_loss: 0.6885 - val_mean_squared_error: 0.6883\n",
      "Epoch 37/400\n",
      "\u001b[1m244/244\u001b[0m \u001b[32m━━━━━━━━━━━━━━━━━━━━\u001b[0m\u001b[37m\u001b[0m \u001b[1m2s\u001b[0m 9ms/step - loss: 0.7427 - mean_squared_error: 0.7427 - val_loss: 1.2005 - val_mean_squared_error: 1.2008\n",
      "Epoch 38/400\n",
      "\u001b[1m244/244\u001b[0m \u001b[32m━━━━━━━━━━━━━━━━━━━━\u001b[0m\u001b[37m\u001b[0m \u001b[1m2s\u001b[0m 9ms/step - loss: 0.9585 - mean_squared_error: 0.9584 - val_loss: 0.5578 - val_mean_squared_error: 0.5579\n",
      "Epoch 39/400\n",
      "\u001b[1m244/244\u001b[0m \u001b[32m━━━━━━━━━━━━━━━━━━━━\u001b[0m\u001b[37m\u001b[0m \u001b[1m2s\u001b[0m 9ms/step - loss: 0.8106 - mean_squared_error: 0.8105 - val_loss: 1.0026 - val_mean_squared_error: 1.0025\n",
      "Epoch 40/400\n",
      "\u001b[1m244/244\u001b[0m \u001b[32m━━━━━━━━━━━━━━━━━━━━\u001b[0m\u001b[37m\u001b[0m \u001b[1m2s\u001b[0m 9ms/step - loss: 0.9851 - mean_squared_error: 0.9850 - val_loss: 0.7318 - val_mean_squared_error: 0.7318\n",
      "Epoch 41/400\n",
      "\u001b[1m244/244\u001b[0m \u001b[32m━━━━━━━━━━━━━━━━━━━━\u001b[0m\u001b[37m\u001b[0m \u001b[1m2s\u001b[0m 9ms/step - loss: 0.8827 - mean_squared_error: 0.8827 - val_loss: 0.7274 - val_mean_squared_error: 0.7274\n",
      "Epoch 42/400\n",
      "\u001b[1m244/244\u001b[0m \u001b[32m━━━━━━━━━━━━━━━━━━━━\u001b[0m\u001b[37m\u001b[0m \u001b[1m2s\u001b[0m 9ms/step - loss: 1.0572 - mean_squared_error: 1.0570 - val_loss: 0.5094 - val_mean_squared_error: 0.5095\n",
      "Epoch 43/400\n",
      "\u001b[1m244/244\u001b[0m \u001b[32m━━━━━━━━━━━━━━━━━━━━\u001b[0m\u001b[37m\u001b[0m \u001b[1m2s\u001b[0m 8ms/step - loss: 0.8908 - mean_squared_error: 0.8907 - val_loss: 0.6589 - val_mean_squared_error: 0.6589\n",
      "Epoch 44/400\n",
      "\u001b[1m244/244\u001b[0m \u001b[32m━━━━━━━━━━━━━━━━━━━━\u001b[0m\u001b[37m\u001b[0m \u001b[1m2s\u001b[0m 8ms/step - loss: 0.7569 - mean_squared_error: 0.7569 - val_loss: 0.6937 - val_mean_squared_error: 0.6936\n",
      "Epoch 45/400\n",
      "\u001b[1m244/244\u001b[0m \u001b[32m━━━━━━━━━━━━━━━━━━━━\u001b[0m\u001b[37m\u001b[0m \u001b[1m2s\u001b[0m 8ms/step - loss: 0.9613 - mean_squared_error: 0.9611 - val_loss: 0.7419 - val_mean_squared_error: 0.7420\n",
      "Epoch 46/400\n",
      "\u001b[1m244/244\u001b[0m \u001b[32m━━━━━━━━━━━━━━━━━━━━\u001b[0m\u001b[37m\u001b[0m \u001b[1m2s\u001b[0m 9ms/step - loss: 0.8900 - mean_squared_error: 0.8900 - val_loss: 0.5138 - val_mean_squared_error: 0.5138\n",
      "Epoch 47/400\n",
      "\u001b[1m244/244\u001b[0m \u001b[32m━━━━━━━━━━━━━━━━━━━━\u001b[0m\u001b[37m\u001b[0m \u001b[1m2s\u001b[0m 8ms/step - loss: 0.8060 - mean_squared_error: 0.8060 - val_loss: 1.0761 - val_mean_squared_error: 1.0762\n",
      "Epoch 48/400\n",
      "\u001b[1m244/244\u001b[0m \u001b[32m━━━━━━━━━━━━━━━━━━━━\u001b[0m\u001b[37m\u001b[0m \u001b[1m2s\u001b[0m 8ms/step - loss: 0.9350 - mean_squared_error: 0.9350 - val_loss: 0.7812 - val_mean_squared_error: 0.7812\n",
      "Epoch 49/400\n",
      "\u001b[1m244/244\u001b[0m \u001b[32m━━━━━━━━━━━━━━━━━━━━\u001b[0m\u001b[37m\u001b[0m \u001b[1m2s\u001b[0m 8ms/step - loss: 0.8248 - mean_squared_error: 0.8248 - val_loss: 0.6674 - val_mean_squared_error: 0.6674\n",
      "Epoch 50/400\n",
      "\u001b[1m244/244\u001b[0m \u001b[32m━━━━━━━━━━━━━━━━━━━━\u001b[0m\u001b[37m\u001b[0m \u001b[1m2s\u001b[0m 8ms/step - loss: 0.8934 - mean_squared_error: 0.8933 - val_loss: 1.2647 - val_mean_squared_error: 1.2639\n",
      "Epoch 51/400\n",
      "\u001b[1m244/244\u001b[0m \u001b[32m━━━━━━━━━━━━━━━━━━━━\u001b[0m\u001b[37m\u001b[0m \u001b[1m2s\u001b[0m 8ms/step - loss: 0.7599 - mean_squared_error: 0.7599 - val_loss: 1.5757 - val_mean_squared_error: 1.5754\n",
      "Epoch 52/400\n",
      "\u001b[1m244/244\u001b[0m \u001b[32m━━━━━━━━━━━━━━━━━━━━\u001b[0m\u001b[37m\u001b[0m \u001b[1m2s\u001b[0m 8ms/step - loss: 0.8184 - mean_squared_error: 0.8185 - val_loss: 0.6816 - val_mean_squared_error: 0.6816\n",
      "Epoch 53/400\n",
      "\u001b[1m244/244\u001b[0m \u001b[32m━━━━━━━━━━━━━━━━━━━━\u001b[0m\u001b[37m\u001b[0m \u001b[1m2s\u001b[0m 8ms/step - loss: 0.8010 - mean_squared_error: 0.8009 - val_loss: 0.6769 - val_mean_squared_error: 0.6768\n",
      "Epoch 54/400\n",
      "\u001b[1m244/244\u001b[0m \u001b[32m━━━━━━━━━━━━━━━━━━━━\u001b[0m\u001b[37m\u001b[0m \u001b[1m2s\u001b[0m 8ms/step - loss: 0.9195 - mean_squared_error: 0.9193 - val_loss: 0.9667 - val_mean_squared_error: 0.9664\n",
      "Epoch 55/400\n",
      "\u001b[1m244/244\u001b[0m \u001b[32m━━━━━━━━━━━━━━━━━━━━\u001b[0m\u001b[37m\u001b[0m \u001b[1m2s\u001b[0m 8ms/step - loss: 0.8004 - mean_squared_error: 0.8004 - val_loss: 1.5357 - val_mean_squared_error: 1.5355\n",
      "Epoch 56/400\n",
      "\u001b[1m244/244\u001b[0m \u001b[32m━━━━━━━━━━━━━━━━━━━━\u001b[0m\u001b[37m\u001b[0m \u001b[1m2s\u001b[0m 8ms/step - loss: 0.9221 - mean_squared_error: 0.9220 - val_loss: 0.5388 - val_mean_squared_error: 0.5388\n",
      "Epoch 57/400\n",
      "\u001b[1m244/244\u001b[0m \u001b[32m━━━━━━━━━━━━━━━━━━━━\u001b[0m\u001b[37m\u001b[0m \u001b[1m2s\u001b[0m 8ms/step - loss: 0.8256 - mean_squared_error: 0.8256 - val_loss: 0.5264 - val_mean_squared_error: 0.5264\n",
      "Epoch 58/400\n",
      "\u001b[1m244/244\u001b[0m \u001b[32m━━━━━━━━━━━━━━━━━━━━\u001b[0m\u001b[37m\u001b[0m \u001b[1m2s\u001b[0m 8ms/step - loss: 0.9133 - mean_squared_error: 0.9133 - val_loss: 0.5223 - val_mean_squared_error: 0.5223\n",
      "Epoch 59/400\n",
      "\u001b[1m244/244\u001b[0m \u001b[32m━━━━━━━━━━━━━━━━━━━━\u001b[0m\u001b[37m\u001b[0m \u001b[1m2s\u001b[0m 8ms/step - loss: 0.8132 - mean_squared_error: 0.8132 - val_loss: 0.8424 - val_mean_squared_error: 0.8424\n",
      "Epoch 60/400\n",
      "\u001b[1m244/244\u001b[0m \u001b[32m━━━━━━━━━━━━━━━━━━━━\u001b[0m\u001b[37m\u001b[0m \u001b[1m2s\u001b[0m 8ms/step - loss: 0.7908 - mean_squared_error: 0.7907 - val_loss: 0.4764 - val_mean_squared_error: 0.4765\n",
      "Epoch 61/400\n",
      "\u001b[1m244/244\u001b[0m \u001b[32m━━━━━━━━━━━━━━━━━━━━\u001b[0m\u001b[37m\u001b[0m \u001b[1m2s\u001b[0m 8ms/step - loss: 0.7514 - mean_squared_error: 0.7514 - val_loss: 0.9318 - val_mean_squared_error: 0.9316\n",
      "Epoch 62/400\n",
      "\u001b[1m244/244\u001b[0m \u001b[32m━━━━━━━━━━━━━━━━━━━━\u001b[0m\u001b[37m\u001b[0m \u001b[1m2s\u001b[0m 8ms/step - loss: 0.7922 - mean_squared_error: 0.7922 - val_loss: 0.6788 - val_mean_squared_error: 0.6787\n",
      "Epoch 63/400\n",
      "\u001b[1m244/244\u001b[0m \u001b[32m━━━━━━━━━━━━━━━━━━━━\u001b[0m\u001b[37m\u001b[0m \u001b[1m2s\u001b[0m 8ms/step - loss: 0.8062 - mean_squared_error: 0.8061 - val_loss: 1.1637 - val_mean_squared_error: 1.1634\n",
      "Epoch 64/400\n",
      "\u001b[1m244/244\u001b[0m \u001b[32m━━━━━━━━━━━━━━━━━━━━\u001b[0m\u001b[37m\u001b[0m \u001b[1m2s\u001b[0m 8ms/step - loss: 0.6638 - mean_squared_error: 0.6638 - val_loss: 0.6021 - val_mean_squared_error: 0.6022\n",
      "Epoch 65/400\n",
      "\u001b[1m244/244\u001b[0m \u001b[32m━━━━━━━━━━━━━━━━━━━━\u001b[0m\u001b[37m\u001b[0m \u001b[1m2s\u001b[0m 8ms/step - loss: 0.8412 - mean_squared_error: 0.8411 - val_loss: 2.0715 - val_mean_squared_error: 2.0719\n",
      "Epoch 66/400\n",
      "\u001b[1m244/244\u001b[0m \u001b[32m━━━━━━━━━━━━━━━━━━━━\u001b[0m\u001b[37m\u001b[0m \u001b[1m2s\u001b[0m 8ms/step - loss: 0.6711 - mean_squared_error: 0.6711 - val_loss: 0.7165 - val_mean_squared_error: 0.7166\n",
      "Epoch 67/400\n",
      "\u001b[1m244/244\u001b[0m \u001b[32m━━━━━━━━━━━━━━━━━━━━\u001b[0m\u001b[37m\u001b[0m \u001b[1m2s\u001b[0m 8ms/step - loss: 0.6414 - mean_squared_error: 0.6414 - val_loss: 0.6214 - val_mean_squared_error: 0.6213\n",
      "Epoch 68/400\n",
      "\u001b[1m244/244\u001b[0m \u001b[32m━━━━━━━━━━━━━━━━━━━━\u001b[0m\u001b[37m\u001b[0m \u001b[1m2s\u001b[0m 8ms/step - loss: 0.8175 - mean_squared_error: 0.8175 - val_loss: 0.5979 - val_mean_squared_error: 0.5979\n",
      "Epoch 69/400\n",
      "\u001b[1m244/244\u001b[0m \u001b[32m━━━━━━━━━━━━━━━━━━━━\u001b[0m\u001b[37m\u001b[0m \u001b[1m2s\u001b[0m 8ms/step - loss: 0.8249 - mean_squared_error: 0.8249 - val_loss: 0.6801 - val_mean_squared_error: 0.6801\n",
      "Epoch 70/400\n",
      "\u001b[1m244/244\u001b[0m \u001b[32m━━━━━━━━━━━━━━━━━━━━\u001b[0m\u001b[37m\u001b[0m \u001b[1m2s\u001b[0m 8ms/step - loss: 0.6047 - mean_squared_error: 0.6046 - val_loss: 0.6336 - val_mean_squared_error: 0.6337\n",
      "Epoch 71/400\n",
      "\u001b[1m244/244\u001b[0m \u001b[32m━━━━━━━━━━━━━━━━━━━━\u001b[0m\u001b[37m\u001b[0m \u001b[1m2s\u001b[0m 8ms/step - loss: 0.6810 - mean_squared_error: 0.6810 - val_loss: 0.5336 - val_mean_squared_error: 0.5336\n",
      "Epoch 72/400\n",
      "\u001b[1m244/244\u001b[0m \u001b[32m━━━━━━━━━━━━━━━━━━━━\u001b[0m\u001b[37m\u001b[0m \u001b[1m2s\u001b[0m 8ms/step - loss: 0.6555 - mean_squared_error: 0.6555 - val_loss: 0.6020 - val_mean_squared_error: 0.6019\n",
      "Epoch 73/400\n",
      "\u001b[1m244/244\u001b[0m \u001b[32m━━━━━━━━━━━━━━━━━━━━\u001b[0m\u001b[37m\u001b[0m \u001b[1m2s\u001b[0m 8ms/step - loss: 0.7055 - mean_squared_error: 0.7055 - val_loss: 0.8756 - val_mean_squared_error: 0.8755\n",
      "Epoch 74/400\n",
      "\u001b[1m244/244\u001b[0m \u001b[32m━━━━━━━━━━━━━━━━━━━━\u001b[0m\u001b[37m\u001b[0m \u001b[1m2s\u001b[0m 8ms/step - loss: 0.6032 - mean_squared_error: 0.6032 - val_loss: 0.6569 - val_mean_squared_error: 0.6570\n",
      "Epoch 75/400\n",
      "\u001b[1m244/244\u001b[0m \u001b[32m━━━━━━━━━━━━━━━━━━━━\u001b[0m\u001b[37m\u001b[0m \u001b[1m2s\u001b[0m 8ms/step - loss: 0.7104 - mean_squared_error: 0.7104 - val_loss: 0.5401 - val_mean_squared_error: 0.5401\n",
      "Epoch 76/400\n",
      "\u001b[1m244/244\u001b[0m \u001b[32m━━━━━━━━━━━━━━━━━━━━\u001b[0m\u001b[37m\u001b[0m \u001b[1m2s\u001b[0m 8ms/step - loss: 0.7161 - mean_squared_error: 0.7161 - val_loss: 0.5536 - val_mean_squared_error: 0.5535\n",
      "Epoch 77/400\n",
      "\u001b[1m244/244\u001b[0m \u001b[32m━━━━━━━━━━━━━━━━━━━━\u001b[0m\u001b[37m\u001b[0m \u001b[1m2s\u001b[0m 8ms/step - loss: 0.6586 - mean_squared_error: 0.6586 - val_loss: 0.5531 - val_mean_squared_error: 0.5532\n",
      "Epoch 78/400\n",
      "\u001b[1m244/244\u001b[0m \u001b[32m━━━━━━━━━━━━━━━━━━━━\u001b[0m\u001b[37m\u001b[0m \u001b[1m2s\u001b[0m 8ms/step - loss: 0.6975 - mean_squared_error: 0.6975 - val_loss: 1.1762 - val_mean_squared_error: 1.1760\n",
      "Epoch 79/400\n",
      "\u001b[1m244/244\u001b[0m \u001b[32m━━━━━━━━━━━━━━━━━━━━\u001b[0m\u001b[37m\u001b[0m \u001b[1m2s\u001b[0m 8ms/step - loss: 0.5928 - mean_squared_error: 0.5928 - val_loss: 0.6935 - val_mean_squared_error: 0.6935\n",
      "Epoch 80/400\n",
      "\u001b[1m244/244\u001b[0m \u001b[32m━━━━━━━━━━━━━━━━━━━━\u001b[0m\u001b[37m\u001b[0m \u001b[1m2s\u001b[0m 8ms/step - loss: 0.7091 - mean_squared_error: 0.7089 - val_loss: 0.4984 - val_mean_squared_error: 0.4984\n",
      "Epoch 81/400\n",
      "\u001b[1m244/244\u001b[0m \u001b[32m━━━━━━━━━━━━━━━━━━━━\u001b[0m\u001b[37m\u001b[0m \u001b[1m2s\u001b[0m 8ms/step - loss: 0.6606 - mean_squared_error: 0.6606 - val_loss: 0.5926 - val_mean_squared_error: 0.5927\n",
      "Epoch 82/400\n",
      "\u001b[1m244/244\u001b[0m \u001b[32m━━━━━━━━━━━━━━━━━━━━\u001b[0m\u001b[37m\u001b[0m \u001b[1m2s\u001b[0m 8ms/step - loss: 0.6151 - mean_squared_error: 0.6151 - val_loss: 0.5128 - val_mean_squared_error: 0.5128\n",
      "Epoch 83/400\n",
      "\u001b[1m244/244\u001b[0m \u001b[32m━━━━━━━━━━━━━━━━━━━━\u001b[0m\u001b[37m\u001b[0m \u001b[1m2s\u001b[0m 8ms/step - loss: 0.8648 - mean_squared_error: 0.8648 - val_loss: 0.6201 - val_mean_squared_error: 0.6200\n",
      "Epoch 84/400\n",
      "\u001b[1m244/244\u001b[0m \u001b[32m━━━━━━━━━━━━━━━━━━━━\u001b[0m\u001b[37m\u001b[0m \u001b[1m2s\u001b[0m 8ms/step - loss: 0.5971 - mean_squared_error: 0.5971 - val_loss: 0.5675 - val_mean_squared_error: 0.5675\n",
      "Epoch 85/400\n",
      "\u001b[1m244/244\u001b[0m \u001b[32m━━━━━━━━━━━━━━━━━━━━\u001b[0m\u001b[37m\u001b[0m \u001b[1m2s\u001b[0m 8ms/step - loss: 0.6063 - mean_squared_error: 0.6063 - val_loss: 0.3962 - val_mean_squared_error: 0.3962\n",
      "Epoch 86/400\n",
      "\u001b[1m244/244\u001b[0m \u001b[32m━━━━━━━━━━━━━━━━━━━━\u001b[0m\u001b[37m\u001b[0m \u001b[1m2s\u001b[0m 8ms/step - loss: 0.7803 - mean_squared_error: 0.7801 - val_loss: 0.5645 - val_mean_squared_error: 0.5645\n",
      "Epoch 87/400\n",
      "\u001b[1m244/244\u001b[0m \u001b[32m━━━━━━━━━━━━━━━━━━━━\u001b[0m\u001b[37m\u001b[0m \u001b[1m2s\u001b[0m 8ms/step - loss: 0.5573 - mean_squared_error: 0.5573 - val_loss: 0.5625 - val_mean_squared_error: 0.5625\n",
      "Epoch 88/400\n",
      "\u001b[1m244/244\u001b[0m \u001b[32m━━━━━━━━━━━━━━━━━━━━\u001b[0m\u001b[37m\u001b[0m \u001b[1m2s\u001b[0m 8ms/step - loss: 0.5844 - mean_squared_error: 0.5844 - val_loss: 0.5663 - val_mean_squared_error: 0.5663\n",
      "Epoch 89/400\n",
      "\u001b[1m244/244\u001b[0m \u001b[32m━━━━━━━━━━━━━━━━━━━━\u001b[0m\u001b[37m\u001b[0m \u001b[1m2s\u001b[0m 8ms/step - loss: 0.6774 - mean_squared_error: 0.6774 - val_loss: 0.5307 - val_mean_squared_error: 0.5307\n",
      "Epoch 90/400\n",
      "\u001b[1m244/244\u001b[0m \u001b[32m━━━━━━━━━━━━━━━━━━━━\u001b[0m\u001b[37m\u001b[0m \u001b[1m2s\u001b[0m 8ms/step - loss: 0.5752 - mean_squared_error: 0.5752 - val_loss: 0.5259 - val_mean_squared_error: 0.5258\n",
      "Epoch 91/400\n",
      "\u001b[1m244/244\u001b[0m \u001b[32m━━━━━━━━━━━━━━━━━━━━\u001b[0m\u001b[37m\u001b[0m \u001b[1m2s\u001b[0m 8ms/step - loss: 0.6216 - mean_squared_error: 0.6216 - val_loss: 0.5308 - val_mean_squared_error: 0.5308\n",
      "Epoch 92/400\n",
      "\u001b[1m244/244\u001b[0m \u001b[32m━━━━━━━━━━━━━━━━━━━━\u001b[0m\u001b[37m\u001b[0m \u001b[1m2s\u001b[0m 8ms/step - loss: 0.7104 - mean_squared_error: 0.7104 - val_loss: 0.4640 - val_mean_squared_error: 0.4640\n",
      "Epoch 93/400\n",
      "\u001b[1m244/244\u001b[0m \u001b[32m━━━━━━━━━━━━━━━━━━━━\u001b[0m\u001b[37m\u001b[0m \u001b[1m2s\u001b[0m 8ms/step - loss: 0.5806 - mean_squared_error: 0.5806 - val_loss: 0.4269 - val_mean_squared_error: 0.4269\n",
      "Epoch 94/400\n",
      "\u001b[1m244/244\u001b[0m \u001b[32m━━━━━━━━━━━━━━━━━━━━\u001b[0m\u001b[37m\u001b[0m \u001b[1m2s\u001b[0m 8ms/step - loss: 0.5864 - mean_squared_error: 0.5864 - val_loss: 0.7207 - val_mean_squared_error: 0.7206\n",
      "Epoch 95/400\n",
      "\u001b[1m244/244\u001b[0m \u001b[32m━━━━━━━━━━━━━━━━━━━━\u001b[0m\u001b[37m\u001b[0m \u001b[1m2s\u001b[0m 8ms/step - loss: 0.5771 - mean_squared_error: 0.5771 - val_loss: 0.5546 - val_mean_squared_error: 0.5545\n",
      "Epoch 96/400\n",
      "\u001b[1m244/244\u001b[0m \u001b[32m━━━━━━━━━━━━━━━━━━━━\u001b[0m\u001b[37m\u001b[0m \u001b[1m2s\u001b[0m 8ms/step - loss: 0.6208 - mean_squared_error: 0.6208 - val_loss: 0.5004 - val_mean_squared_error: 0.5004\n",
      "Epoch 97/400\n",
      "\u001b[1m244/244\u001b[0m \u001b[32m━━━━━━━━━━━━━━━━━━━━\u001b[0m\u001b[37m\u001b[0m \u001b[1m2s\u001b[0m 8ms/step - loss: 0.6169 - mean_squared_error: 0.6169 - val_loss: 0.4447 - val_mean_squared_error: 0.4446\n",
      "Epoch 98/400\n",
      "\u001b[1m244/244\u001b[0m \u001b[32m━━━━━━━━━━━━━━━━━━━━\u001b[0m\u001b[37m\u001b[0m \u001b[1m2s\u001b[0m 8ms/step - loss: 0.5431 - mean_squared_error: 0.5432 - val_loss: 0.5028 - val_mean_squared_error: 0.5027\n",
      "Epoch 99/400\n",
      "\u001b[1m244/244\u001b[0m \u001b[32m━━━━━━━━━━━━━━━━━━━━\u001b[0m\u001b[37m\u001b[0m \u001b[1m2s\u001b[0m 8ms/step - loss: 0.5920 - mean_squared_error: 0.5920 - val_loss: 0.4688 - val_mean_squared_error: 0.4687\n",
      "Epoch 100/400\n",
      "\u001b[1m244/244\u001b[0m \u001b[32m━━━━━━━━━━━━━━━━━━━━\u001b[0m\u001b[37m\u001b[0m \u001b[1m2s\u001b[0m 8ms/step - loss: 0.5725 - mean_squared_error: 0.5724 - val_loss: 0.5385 - val_mean_squared_error: 0.5384\n",
      "Epoch 101/400\n",
      "\u001b[1m244/244\u001b[0m \u001b[32m━━━━━━━━━━━━━━━━━━━━\u001b[0m\u001b[37m\u001b[0m \u001b[1m2s\u001b[0m 8ms/step - loss: 0.6273 - mean_squared_error: 0.6271 - val_loss: 0.4096 - val_mean_squared_error: 0.4096\n",
      "Epoch 102/400\n",
      "\u001b[1m244/244\u001b[0m \u001b[32m━━━━━━━━━━━━━━━━━━━━\u001b[0m\u001b[37m\u001b[0m \u001b[1m2s\u001b[0m 8ms/step - loss: 0.5529 - mean_squared_error: 0.5529 - val_loss: 0.4797 - val_mean_squared_error: 0.4797\n",
      "Epoch 103/400\n",
      "\u001b[1m244/244\u001b[0m \u001b[32m━━━━━━━━━━━━━━━━━━━━\u001b[0m\u001b[37m\u001b[0m \u001b[1m2s\u001b[0m 8ms/step - loss: 0.5050 - mean_squared_error: 0.5051 - val_loss: 0.4776 - val_mean_squared_error: 0.4776\n",
      "Epoch 104/400\n",
      "\u001b[1m244/244\u001b[0m \u001b[32m━━━━━━━━━━━━━━━━━━━━\u001b[0m\u001b[37m\u001b[0m \u001b[1m2s\u001b[0m 8ms/step - loss: 0.5356 - mean_squared_error: 0.5356 - val_loss: 0.4442 - val_mean_squared_error: 0.4442\n",
      "Epoch 105/400\n",
      "\u001b[1m244/244\u001b[0m \u001b[32m━━━━━━━━━━━━━━━━━━━━\u001b[0m\u001b[37m\u001b[0m \u001b[1m2s\u001b[0m 8ms/step - loss: 0.6015 - mean_squared_error: 0.6015 - val_loss: 0.4038 - val_mean_squared_error: 0.4038\n",
      "Epoch 106/400\n",
      "\u001b[1m244/244\u001b[0m \u001b[32m━━━━━━━━━━━━━━━━━━━━\u001b[0m\u001b[37m\u001b[0m \u001b[1m2s\u001b[0m 8ms/step - loss: 0.5426 - mean_squared_error: 0.5426 - val_loss: 0.5881 - val_mean_squared_error: 0.5881\n",
      "Epoch 107/400\n",
      "\u001b[1m244/244\u001b[0m \u001b[32m━━━━━━━━━━━━━━━━━━━━\u001b[0m\u001b[37m\u001b[0m \u001b[1m2s\u001b[0m 8ms/step - loss: 0.5121 - mean_squared_error: 0.5121 - val_loss: 0.4805 - val_mean_squared_error: 0.4806\n",
      "Epoch 108/400\n",
      "\u001b[1m244/244\u001b[0m \u001b[32m━━━━━━━━━━━━━━━━━━━━\u001b[0m\u001b[37m\u001b[0m \u001b[1m2s\u001b[0m 8ms/step - loss: 0.6254 - mean_squared_error: 0.6254 - val_loss: 0.4727 - val_mean_squared_error: 0.4728\n",
      "Epoch 109/400\n",
      "\u001b[1m244/244\u001b[0m \u001b[32m━━━━━━━━━━━━━━━━━━━━\u001b[0m\u001b[37m\u001b[0m \u001b[1m2s\u001b[0m 8ms/step - loss: 0.5631 - mean_squared_error: 0.5631 - val_loss: 0.5273 - val_mean_squared_error: 0.5273\n",
      "Epoch 110/400\n",
      "\u001b[1m244/244\u001b[0m \u001b[32m━━━━━━━━━━━━━━━━━━━━\u001b[0m\u001b[37m\u001b[0m \u001b[1m2s\u001b[0m 8ms/step - loss: 0.5152 - mean_squared_error: 0.5152 - val_loss: 0.3933 - val_mean_squared_error: 0.3933\n",
      "Epoch 111/400\n",
      "\u001b[1m244/244\u001b[0m \u001b[32m━━━━━━━━━━━━━━━━━━━━\u001b[0m\u001b[37m\u001b[0m \u001b[1m2s\u001b[0m 8ms/step - loss: 0.5574 - mean_squared_error: 0.5574 - val_loss: 0.4321 - val_mean_squared_error: 0.4322\n",
      "Epoch 112/400\n",
      "\u001b[1m244/244\u001b[0m \u001b[32m━━━━━━━━━━━━━━━━━━━━\u001b[0m\u001b[37m\u001b[0m \u001b[1m2s\u001b[0m 8ms/step - loss: 0.6471 - mean_squared_error: 0.6470 - val_loss: 0.5401 - val_mean_squared_error: 0.5401\n",
      "Epoch 113/400\n",
      "\u001b[1m244/244\u001b[0m \u001b[32m━━━━━━━━━━━━━━━━━━━━\u001b[0m\u001b[37m\u001b[0m \u001b[1m2s\u001b[0m 8ms/step - loss: 0.5538 - mean_squared_error: 0.5538 - val_loss: 0.5276 - val_mean_squared_error: 0.5276\n",
      "Epoch 114/400\n",
      "\u001b[1m244/244\u001b[0m \u001b[32m━━━━━━━━━━━━━━━━━━━━\u001b[0m\u001b[37m\u001b[0m \u001b[1m2s\u001b[0m 8ms/step - loss: 0.5471 - mean_squared_error: 0.5471 - val_loss: 0.5758 - val_mean_squared_error: 0.5758\n",
      "Epoch 115/400\n",
      "\u001b[1m244/244\u001b[0m \u001b[32m━━━━━━━━━━━━━━━━━━━━\u001b[0m\u001b[37m\u001b[0m \u001b[1m2s\u001b[0m 8ms/step - loss: 0.5906 - mean_squared_error: 0.5906 - val_loss: 0.5177 - val_mean_squared_error: 0.5176\n",
      "Epoch 116/400\n",
      "\u001b[1m244/244\u001b[0m \u001b[32m━━━━━━━━━━━━━━━━━━━━\u001b[0m\u001b[37m\u001b[0m \u001b[1m2s\u001b[0m 8ms/step - loss: 0.4665 - mean_squared_error: 0.4665 - val_loss: 0.5047 - val_mean_squared_error: 0.5048\n",
      "Epoch 117/400\n",
      "\u001b[1m244/244\u001b[0m \u001b[32m━━━━━━━━━━━━━━━━━━━━\u001b[0m\u001b[37m\u001b[0m \u001b[1m2s\u001b[0m 8ms/step - loss: 0.4370 - mean_squared_error: 0.4370 - val_loss: 0.4837 - val_mean_squared_error: 0.4837\n",
      "Epoch 118/400\n",
      "\u001b[1m244/244\u001b[0m \u001b[32m━━━━━━━━━━━━━━━━━━━━\u001b[0m\u001b[37m\u001b[0m \u001b[1m2s\u001b[0m 8ms/step - loss: 0.5161 - mean_squared_error: 0.5161 - val_loss: 0.4941 - val_mean_squared_error: 0.4941\n",
      "Epoch 119/400\n",
      "\u001b[1m244/244\u001b[0m \u001b[32m━━━━━━━━━━━━━━━━━━━━\u001b[0m\u001b[37m\u001b[0m \u001b[1m2s\u001b[0m 9ms/step - loss: 0.4512 - mean_squared_error: 0.4512 - val_loss: 0.5293 - val_mean_squared_error: 0.5293\n",
      "Epoch 120/400\n",
      "\u001b[1m244/244\u001b[0m \u001b[32m━━━━━━━━━━━━━━━━━━━━\u001b[0m\u001b[37m\u001b[0m \u001b[1m2s\u001b[0m 8ms/step - loss: 0.5226 - mean_squared_error: 0.5226 - val_loss: 0.5001 - val_mean_squared_error: 0.5000\n",
      "Epoch 121/400\n",
      "\u001b[1m244/244\u001b[0m \u001b[32m━━━━━━━━━━━━━━━━━━━━\u001b[0m\u001b[37m\u001b[0m \u001b[1m2s\u001b[0m 8ms/step - loss: 0.4400 - mean_squared_error: 0.4399 - val_loss: 0.4795 - val_mean_squared_error: 0.4795\n",
      "Epoch 122/400\n",
      "\u001b[1m244/244\u001b[0m \u001b[32m━━━━━━━━━━━━━━━━━━━━\u001b[0m\u001b[37m\u001b[0m \u001b[1m2s\u001b[0m 9ms/step - loss: 0.5061 - mean_squared_error: 0.5061 - val_loss: 0.4063 - val_mean_squared_error: 0.4062\n",
      "Epoch 123/400\n",
      "\u001b[1m244/244\u001b[0m \u001b[32m━━━━━━━━━━━━━━━━━━━━\u001b[0m\u001b[37m\u001b[0m \u001b[1m2s\u001b[0m 9ms/step - loss: 0.4221 - mean_squared_error: 0.4221 - val_loss: 0.3973 - val_mean_squared_error: 0.3973\n",
      "Epoch 124/400\n",
      "\u001b[1m244/244\u001b[0m \u001b[32m━━━━━━━━━━━━━━━━━━━━\u001b[0m\u001b[37m\u001b[0m \u001b[1m2s\u001b[0m 9ms/step - loss: 0.4688 - mean_squared_error: 0.4689 - val_loss: 0.4252 - val_mean_squared_error: 0.4253\n",
      "Epoch 125/400\n",
      "\u001b[1m244/244\u001b[0m \u001b[32m━━━━━━━━━━━━━━━━━━━━\u001b[0m\u001b[37m\u001b[0m \u001b[1m2s\u001b[0m 9ms/step - loss: 0.4936 - mean_squared_error: 0.4936 - val_loss: 0.3794 - val_mean_squared_error: 0.3794\n",
      "Epoch 126/400\n",
      "\u001b[1m244/244\u001b[0m \u001b[32m━━━━━━━━━━━━━━━━━━━━\u001b[0m\u001b[37m\u001b[0m \u001b[1m2s\u001b[0m 9ms/step - loss: 0.4864 - mean_squared_error: 0.4864 - val_loss: 0.4405 - val_mean_squared_error: 0.4406\n",
      "Epoch 127/400\n",
      "\u001b[1m244/244\u001b[0m \u001b[32m━━━━━━━━━━━━━━━━━━━━\u001b[0m\u001b[37m\u001b[0m \u001b[1m2s\u001b[0m 8ms/step - loss: 0.4400 - mean_squared_error: 0.4400 - val_loss: 0.4170 - val_mean_squared_error: 0.4170\n",
      "Epoch 128/400\n",
      "\u001b[1m244/244\u001b[0m \u001b[32m━━━━━━━━━━━━━━━━━━━━\u001b[0m\u001b[37m\u001b[0m \u001b[1m2s\u001b[0m 9ms/step - loss: 0.4811 - mean_squared_error: 0.4811 - val_loss: 0.4379 - val_mean_squared_error: 0.4379\n",
      "Epoch 129/400\n",
      "\u001b[1m244/244\u001b[0m \u001b[32m━━━━━━━━━━━━━━━━━━━━\u001b[0m\u001b[37m\u001b[0m \u001b[1m2s\u001b[0m 9ms/step - loss: 0.4451 - mean_squared_error: 0.4451 - val_loss: 0.3865 - val_mean_squared_error: 0.3865\n",
      "Epoch 130/400\n",
      "\u001b[1m244/244\u001b[0m \u001b[32m━━━━━━━━━━━━━━━━━━━━\u001b[0m\u001b[37m\u001b[0m \u001b[1m2s\u001b[0m 9ms/step - loss: 0.5405 - mean_squared_error: 0.5405 - val_loss: 0.3729 - val_mean_squared_error: 0.3730\n",
      "Epoch 131/400\n",
      "\u001b[1m244/244\u001b[0m \u001b[32m━━━━━━━━━━━━━━━━━━━━\u001b[0m\u001b[37m\u001b[0m \u001b[1m2s\u001b[0m 9ms/step - loss: 0.4555 - mean_squared_error: 0.4554 - val_loss: 1.1221 - val_mean_squared_error: 1.1220\n",
      "Epoch 132/400\n",
      "\u001b[1m244/244\u001b[0m \u001b[32m━━━━━━━━━━━━━━━━━━━━\u001b[0m\u001b[37m\u001b[0m \u001b[1m2s\u001b[0m 9ms/step - loss: 0.4639 - mean_squared_error: 0.4639 - val_loss: 0.6605 - val_mean_squared_error: 0.6605\n",
      "Epoch 133/400\n",
      "\u001b[1m244/244\u001b[0m \u001b[32m━━━━━━━━━━━━━━━━━━━━\u001b[0m\u001b[37m\u001b[0m \u001b[1m2s\u001b[0m 9ms/step - loss: 0.4676 - mean_squared_error: 0.4676 - val_loss: 0.4439 - val_mean_squared_error: 0.4438\n",
      "Epoch 134/400\n",
      "\u001b[1m244/244\u001b[0m \u001b[32m━━━━━━━━━━━━━━━━━━━━\u001b[0m\u001b[37m\u001b[0m \u001b[1m2s\u001b[0m 9ms/step - loss: 0.4333 - mean_squared_error: 0.4333 - val_loss: 0.3928 - val_mean_squared_error: 0.3927\n",
      "Epoch 135/400\n",
      "\u001b[1m244/244\u001b[0m \u001b[32m━━━━━━━━━━━━━━━━━━━━\u001b[0m\u001b[37m\u001b[0m \u001b[1m2s\u001b[0m 9ms/step - loss: 0.4287 - mean_squared_error: 0.4287 - val_loss: 0.6463 - val_mean_squared_error: 0.6459\n",
      "Epoch 136/400\n",
      "\u001b[1m244/244\u001b[0m \u001b[32m━━━━━━━━━━━━━━━━━━━━\u001b[0m\u001b[37m\u001b[0m \u001b[1m2s\u001b[0m 9ms/step - loss: 0.4617 - mean_squared_error: 0.4617 - val_loss: 0.4081 - val_mean_squared_error: 0.4081\n",
      "Epoch 137/400\n",
      "\u001b[1m244/244\u001b[0m \u001b[32m━━━━━━━━━━━━━━━━━━━━\u001b[0m\u001b[37m\u001b[0m \u001b[1m2s\u001b[0m 9ms/step - loss: 0.4226 - mean_squared_error: 0.4227 - val_loss: 0.5351 - val_mean_squared_error: 0.5351\n",
      "Epoch 138/400\n",
      "\u001b[1m244/244\u001b[0m \u001b[32m━━━━━━━━━━━━━━━━━━━━\u001b[0m\u001b[37m\u001b[0m \u001b[1m2s\u001b[0m 9ms/step - loss: 0.4491 - mean_squared_error: 0.4491 - val_loss: 0.4394 - val_mean_squared_error: 0.4394\n",
      "Epoch 139/400\n",
      "\u001b[1m244/244\u001b[0m \u001b[32m━━━━━━━━━━━━━━━━━━━━\u001b[0m\u001b[37m\u001b[0m \u001b[1m2s\u001b[0m 9ms/step - loss: 0.4202 - mean_squared_error: 0.4202 - val_loss: 0.4562 - val_mean_squared_error: 0.4563\n",
      "Epoch 140/400\n",
      "\u001b[1m244/244\u001b[0m \u001b[32m━━━━━━━━━━━━━━━━━━━━\u001b[0m\u001b[37m\u001b[0m \u001b[1m2s\u001b[0m 9ms/step - loss: 0.4385 - mean_squared_error: 0.4385 - val_loss: 0.3428 - val_mean_squared_error: 0.3428\n",
      "Epoch 141/400\n",
      "\u001b[1m244/244\u001b[0m \u001b[32m━━━━━━━━━━━━━━━━━━━━\u001b[0m\u001b[37m\u001b[0m \u001b[1m2s\u001b[0m 9ms/step - loss: 0.4430 - mean_squared_error: 0.4430 - val_loss: 0.3975 - val_mean_squared_error: 0.3975\n",
      "Epoch 142/400\n",
      "\u001b[1m244/244\u001b[0m \u001b[32m━━━━━━━━━━━━━━━━━━━━\u001b[0m\u001b[37m\u001b[0m \u001b[1m2s\u001b[0m 9ms/step - loss: 0.4300 - mean_squared_error: 0.4300 - val_loss: 0.6237 - val_mean_squared_error: 0.6237\n",
      "Epoch 143/400\n",
      "\u001b[1m244/244\u001b[0m \u001b[32m━━━━━━━━━━━━━━━━━━━━\u001b[0m\u001b[37m\u001b[0m \u001b[1m2s\u001b[0m 9ms/step - loss: 0.5291 - mean_squared_error: 0.5291 - val_loss: 0.3520 - val_mean_squared_error: 0.3519\n",
      "Epoch 144/400\n",
      "\u001b[1m244/244\u001b[0m \u001b[32m━━━━━━━━━━━━━━━━━━━━\u001b[0m\u001b[37m\u001b[0m \u001b[1m2s\u001b[0m 9ms/step - loss: 0.4074 - mean_squared_error: 0.4074 - val_loss: 0.4108 - val_mean_squared_error: 0.4108\n",
      "Epoch 145/400\n",
      "\u001b[1m244/244\u001b[0m \u001b[32m━━━━━━━━━━━━━━━━━━━━\u001b[0m\u001b[37m\u001b[0m \u001b[1m2s\u001b[0m 9ms/step - loss: 0.4177 - mean_squared_error: 0.4178 - val_loss: 0.3796 - val_mean_squared_error: 0.3795\n",
      "Epoch 146/400\n",
      "\u001b[1m244/244\u001b[0m \u001b[32m━━━━━━━━━━━━━━━━━━━━\u001b[0m\u001b[37m\u001b[0m \u001b[1m2s\u001b[0m 8ms/step - loss: 0.4383 - mean_squared_error: 0.4383 - val_loss: 0.4198 - val_mean_squared_error: 0.4197\n",
      "Epoch 147/400\n",
      "\u001b[1m244/244\u001b[0m \u001b[32m━━━━━━━━━━━━━━━━━━━━\u001b[0m\u001b[37m\u001b[0m \u001b[1m2s\u001b[0m 9ms/step - loss: 0.4204 - mean_squared_error: 0.4204 - val_loss: 0.4153 - val_mean_squared_error: 0.4153\n",
      "Epoch 148/400\n",
      "\u001b[1m244/244\u001b[0m \u001b[32m━━━━━━━━━━━━━━━━━━━━\u001b[0m\u001b[37m\u001b[0m \u001b[1m2s\u001b[0m 9ms/step - loss: 0.4058 - mean_squared_error: 0.4058 - val_loss: 0.3791 - val_mean_squared_error: 0.3790\n",
      "Epoch 149/400\n",
      "\u001b[1m244/244\u001b[0m \u001b[32m━━━━━━━━━━━━━━━━━━━━\u001b[0m\u001b[37m\u001b[0m \u001b[1m2s\u001b[0m 9ms/step - loss: 0.3896 - mean_squared_error: 0.3896 - val_loss: 0.3925 - val_mean_squared_error: 0.3924\n",
      "Epoch 150/400\n",
      "\u001b[1m244/244\u001b[0m \u001b[32m━━━━━━━━━━━━━━━━━━━━\u001b[0m\u001b[37m\u001b[0m \u001b[1m2s\u001b[0m 9ms/step - loss: 0.4907 - mean_squared_error: 0.4907 - val_loss: 0.3752 - val_mean_squared_error: 0.3752\n",
      "Epoch 151/400\n",
      "\u001b[1m244/244\u001b[0m \u001b[32m━━━━━━━━━━━━━━━━━━━━\u001b[0m\u001b[37m\u001b[0m \u001b[1m2s\u001b[0m 9ms/step - loss: 0.3918 - mean_squared_error: 0.3918 - val_loss: 0.3102 - val_mean_squared_error: 0.3102\n",
      "Epoch 152/400\n",
      "\u001b[1m244/244\u001b[0m \u001b[32m━━━━━━━━━━━━━━━━━━━━\u001b[0m\u001b[37m\u001b[0m \u001b[1m2s\u001b[0m 9ms/step - loss: 0.3946 - mean_squared_error: 0.3946 - val_loss: 0.3805 - val_mean_squared_error: 0.3806\n",
      "Epoch 153/400\n",
      "\u001b[1m244/244\u001b[0m \u001b[32m━━━━━━━━━━━━━━━━━━━━\u001b[0m\u001b[37m\u001b[0m \u001b[1m2s\u001b[0m 9ms/step - loss: 0.4101 - mean_squared_error: 0.4101 - val_loss: 0.3648 - val_mean_squared_error: 0.3649\n",
      "Epoch 154/400\n",
      "\u001b[1m244/244\u001b[0m \u001b[32m━━━━━━━━━━━━━━━━━━━━\u001b[0m\u001b[37m\u001b[0m \u001b[1m2s\u001b[0m 9ms/step - loss: 0.4636 - mean_squared_error: 0.4636 - val_loss: 0.9912 - val_mean_squared_error: 0.9908\n",
      "Epoch 155/400\n",
      "\u001b[1m244/244\u001b[0m \u001b[32m━━━━━━━━━━━━━━━━━━━━\u001b[0m\u001b[37m\u001b[0m \u001b[1m2s\u001b[0m 9ms/step - loss: 0.4711 - mean_squared_error: 0.4710 - val_loss: 0.4240 - val_mean_squared_error: 0.4241\n",
      "Epoch 156/400\n",
      "\u001b[1m244/244\u001b[0m \u001b[32m━━━━━━━━━━━━━━━━━━━━\u001b[0m\u001b[37m\u001b[0m \u001b[1m2s\u001b[0m 9ms/step - loss: 0.3750 - mean_squared_error: 0.3750 - val_loss: 0.2918 - val_mean_squared_error: 0.2917\n",
      "Epoch 157/400\n",
      "\u001b[1m244/244\u001b[0m \u001b[32m━━━━━━━━━━━━━━━━━━━━\u001b[0m\u001b[37m\u001b[0m \u001b[1m2s\u001b[0m 9ms/step - loss: 0.4323 - mean_squared_error: 0.4323 - val_loss: 0.3247 - val_mean_squared_error: 0.3247\n",
      "Epoch 158/400\n",
      "\u001b[1m244/244\u001b[0m \u001b[32m━━━━━━━━━━━━━━━━━━━━\u001b[0m\u001b[37m\u001b[0m \u001b[1m2s\u001b[0m 9ms/step - loss: 0.3824 - mean_squared_error: 0.3824 - val_loss: 0.4642 - val_mean_squared_error: 0.4641\n",
      "Epoch 159/400\n",
      "\u001b[1m244/244\u001b[0m \u001b[32m━━━━━━━━━━━━━━━━━━━━\u001b[0m\u001b[37m\u001b[0m \u001b[1m2s\u001b[0m 9ms/step - loss: 0.4038 - mean_squared_error: 0.4038 - val_loss: 0.3244 - val_mean_squared_error: 0.3245\n",
      "Epoch 160/400\n",
      "\u001b[1m244/244\u001b[0m \u001b[32m━━━━━━━━━━━━━━━━━━━━\u001b[0m\u001b[37m\u001b[0m \u001b[1m2s\u001b[0m 9ms/step - loss: 0.3717 - mean_squared_error: 0.3717 - val_loss: 0.3408 - val_mean_squared_error: 0.3408\n",
      "Epoch 161/400\n",
      "\u001b[1m244/244\u001b[0m \u001b[32m━━━━━━━━━━━━━━━━━━━━\u001b[0m\u001b[37m\u001b[0m \u001b[1m2s\u001b[0m 9ms/step - loss: 0.4795 - mean_squared_error: 0.4795 - val_loss: 0.3985 - val_mean_squared_error: 0.3986\n",
      "Epoch 162/400\n",
      "\u001b[1m244/244\u001b[0m \u001b[32m━━━━━━━━━━━━━━━━━━━━\u001b[0m\u001b[37m\u001b[0m \u001b[1m2s\u001b[0m 9ms/step - loss: 0.3756 - mean_squared_error: 0.3756 - val_loss: 0.3816 - val_mean_squared_error: 0.3815\n",
      "Epoch 163/400\n",
      "\u001b[1m244/244\u001b[0m \u001b[32m━━━━━━━━━━━━━━━━━━━━\u001b[0m\u001b[37m\u001b[0m \u001b[1m2s\u001b[0m 9ms/step - loss: 0.3835 - mean_squared_error: 0.3835 - val_loss: 0.3702 - val_mean_squared_error: 0.3702\n",
      "Epoch 164/400\n",
      "\u001b[1m244/244\u001b[0m \u001b[32m━━━━━━━━━━━━━━━━━━━━\u001b[0m\u001b[37m\u001b[0m \u001b[1m2s\u001b[0m 9ms/step - loss: 0.3708 - mean_squared_error: 0.3709 - val_loss: 0.4070 - val_mean_squared_error: 0.4068\n",
      "Epoch 165/400\n",
      "\u001b[1m244/244\u001b[0m \u001b[32m━━━━━━━━━━━━━━━━━━━━\u001b[0m\u001b[37m\u001b[0m \u001b[1m2s\u001b[0m 9ms/step - loss: 0.3644 - mean_squared_error: 0.3644 - val_loss: 0.2797 - val_mean_squared_error: 0.2797\n",
      "Epoch 166/400\n",
      "\u001b[1m244/244\u001b[0m \u001b[32m━━━━━━━━━━━━━━━━━━━━\u001b[0m\u001b[37m\u001b[0m \u001b[1m2s\u001b[0m 9ms/step - loss: 0.3685 - mean_squared_error: 0.3685 - val_loss: 0.3446 - val_mean_squared_error: 0.3446\n",
      "Epoch 167/400\n",
      "\u001b[1m244/244\u001b[0m \u001b[32m━━━━━━━━━━━━━━━━━━━━\u001b[0m\u001b[37m\u001b[0m \u001b[1m2s\u001b[0m 9ms/step - loss: 0.3703 - mean_squared_error: 0.3703 - val_loss: 0.3072 - val_mean_squared_error: 0.3072\n",
      "Epoch 168/400\n",
      "\u001b[1m244/244\u001b[0m \u001b[32m━━━━━━━━━━━━━━━━━━━━\u001b[0m\u001b[37m\u001b[0m \u001b[1m2s\u001b[0m 9ms/step - loss: 0.3703 - mean_squared_error: 0.3703 - val_loss: 0.3401 - val_mean_squared_error: 0.3401\n",
      "Epoch 169/400\n",
      "\u001b[1m244/244\u001b[0m \u001b[32m━━━━━━━━━━━━━━━━━━━━\u001b[0m\u001b[37m\u001b[0m \u001b[1m2s\u001b[0m 9ms/step - loss: 0.3322 - mean_squared_error: 0.3322 - val_loss: 0.3099 - val_mean_squared_error: 0.3100\n",
      "Epoch 170/400\n",
      "\u001b[1m244/244\u001b[0m \u001b[32m━━━━━━━━━━━━━━━━━━━━\u001b[0m\u001b[37m\u001b[0m \u001b[1m2s\u001b[0m 9ms/step - loss: 0.3384 - mean_squared_error: 0.3384 - val_loss: 0.4071 - val_mean_squared_error: 0.4070\n",
      "Epoch 171/400\n",
      "\u001b[1m244/244\u001b[0m \u001b[32m━━━━━━━━━━━━━━━━━━━━\u001b[0m\u001b[37m\u001b[0m \u001b[1m2s\u001b[0m 9ms/step - loss: 0.5770 - mean_squared_error: 0.5769 - val_loss: 0.7791 - val_mean_squared_error: 0.7791\n",
      "Epoch 172/400\n",
      "\u001b[1m244/244\u001b[0m \u001b[32m━━━━━━━━━━━━━━━━━━━━\u001b[0m\u001b[37m\u001b[0m \u001b[1m2s\u001b[0m 9ms/step - loss: 0.3645 - mean_squared_error: 0.3645 - val_loss: 0.3069 - val_mean_squared_error: 0.3069\n",
      "Epoch 173/400\n",
      "\u001b[1m244/244\u001b[0m \u001b[32m━━━━━━━━━━━━━━━━━━━━\u001b[0m\u001b[37m\u001b[0m \u001b[1m2s\u001b[0m 9ms/step - loss: 0.3698 - mean_squared_error: 0.3698 - val_loss: 0.4074 - val_mean_squared_error: 0.4074\n",
      "Epoch 174/400\n",
      "\u001b[1m244/244\u001b[0m \u001b[32m━━━━━━━━━━━━━━━━━━━━\u001b[0m\u001b[37m\u001b[0m \u001b[1m2s\u001b[0m 9ms/step - loss: 0.3708 - mean_squared_error: 0.3708 - val_loss: 0.3243 - val_mean_squared_error: 0.3243\n",
      "Epoch 175/400\n",
      "\u001b[1m244/244\u001b[0m \u001b[32m━━━━━━━━━━━━━━━━━━━━\u001b[0m\u001b[37m\u001b[0m \u001b[1m2s\u001b[0m 9ms/step - loss: 0.3682 - mean_squared_error: 0.3682 - val_loss: 1.5392 - val_mean_squared_error: 1.5375\n",
      "Epoch 176/400\n",
      "\u001b[1m244/244\u001b[0m \u001b[32m━━━━━━━━━━━━━━━━━━━━\u001b[0m\u001b[37m\u001b[0m \u001b[1m2s\u001b[0m 9ms/step - loss: 0.3406 - mean_squared_error: 0.3406 - val_loss: 0.3361 - val_mean_squared_error: 0.3361\n",
      "Epoch 177/400\n",
      "\u001b[1m244/244\u001b[0m \u001b[32m━━━━━━━━━━━━━━━━━━━━\u001b[0m\u001b[37m\u001b[0m \u001b[1m2s\u001b[0m 9ms/step - loss: 0.3792 - mean_squared_error: 0.3792 - val_loss: 0.3177 - val_mean_squared_error: 0.3177\n",
      "Epoch 178/400\n",
      "\u001b[1m244/244\u001b[0m \u001b[32m━━━━━━━━━━━━━━━━━━━━\u001b[0m\u001b[37m\u001b[0m \u001b[1m2s\u001b[0m 9ms/step - loss: 0.3085 - mean_squared_error: 0.3085 - val_loss: 0.2649 - val_mean_squared_error: 0.2648\n",
      "Epoch 179/400\n",
      "\u001b[1m244/244\u001b[0m \u001b[32m━━━━━━━━━━━━━━━━━━━━\u001b[0m\u001b[37m\u001b[0m \u001b[1m2s\u001b[0m 9ms/step - loss: 0.3550 - mean_squared_error: 0.3550 - val_loss: 0.3699 - val_mean_squared_error: 0.3698\n",
      "Epoch 180/400\n",
      "\u001b[1m244/244\u001b[0m \u001b[32m━━━━━━━━━━━━━━━━━━━━\u001b[0m\u001b[37m\u001b[0m \u001b[1m2s\u001b[0m 9ms/step - loss: 0.3373 - mean_squared_error: 0.3373 - val_loss: 0.3248 - val_mean_squared_error: 0.3248\n",
      "Epoch 181/400\n",
      "\u001b[1m244/244\u001b[0m \u001b[32m━━━━━━━━━━━━━━━━━━━━\u001b[0m\u001b[37m\u001b[0m \u001b[1m2s\u001b[0m 9ms/step - loss: 0.3787 - mean_squared_error: 0.3787 - val_loss: 0.3372 - val_mean_squared_error: 0.3372\n",
      "Epoch 182/400\n",
      "\u001b[1m244/244\u001b[0m \u001b[32m━━━━━━━━━━━━━━━━━━━━\u001b[0m\u001b[37m\u001b[0m \u001b[1m2s\u001b[0m 9ms/step - loss: 0.3356 - mean_squared_error: 0.3357 - val_loss: 0.3439 - val_mean_squared_error: 0.3440\n",
      "Epoch 183/400\n",
      "\u001b[1m244/244\u001b[0m \u001b[32m━━━━━━━━━━━━━━━━━━━━\u001b[0m\u001b[37m\u001b[0m \u001b[1m2s\u001b[0m 9ms/step - loss: 0.4124 - mean_squared_error: 0.4124 - val_loss: 0.2752 - val_mean_squared_error: 0.2752\n",
      "Epoch 184/400\n",
      "\u001b[1m244/244\u001b[0m \u001b[32m━━━━━━━━━━━━━━━━━━━━\u001b[0m\u001b[37m\u001b[0m \u001b[1m2s\u001b[0m 9ms/step - loss: 0.3373 - mean_squared_error: 0.3373 - val_loss: 0.3465 - val_mean_squared_error: 0.3465\n",
      "Epoch 185/400\n",
      "\u001b[1m244/244\u001b[0m \u001b[32m━━━━━━━━━━━━━━━━━━━━\u001b[0m\u001b[37m\u001b[0m \u001b[1m2s\u001b[0m 9ms/step - loss: 0.3477 - mean_squared_error: 0.3476 - val_loss: 0.3612 - val_mean_squared_error: 0.3613\n",
      "Epoch 186/400\n",
      "\u001b[1m244/244\u001b[0m \u001b[32m━━━━━━━━━━━━━━━━━━━━\u001b[0m\u001b[37m\u001b[0m \u001b[1m2s\u001b[0m 9ms/step - loss: 0.3497 - mean_squared_error: 0.3497 - val_loss: 0.4114 - val_mean_squared_error: 0.4115\n",
      "Epoch 187/400\n",
      "\u001b[1m244/244\u001b[0m \u001b[32m━━━━━━━━━━━━━━━━━━━━\u001b[0m\u001b[37m\u001b[0m \u001b[1m2s\u001b[0m 9ms/step - loss: 0.4033 - mean_squared_error: 0.4032 - val_loss: 0.3549 - val_mean_squared_error: 0.3549\n",
      "Epoch 188/400\n",
      "\u001b[1m244/244\u001b[0m \u001b[32m━━━━━━━━━━━━━━━━━━━━\u001b[0m\u001b[37m\u001b[0m \u001b[1m2s\u001b[0m 9ms/step - loss: 0.3179 - mean_squared_error: 0.3179 - val_loss: 0.2985 - val_mean_squared_error: 0.2984\n",
      "Epoch 189/400\n",
      "\u001b[1m244/244\u001b[0m \u001b[32m━━━━━━━━━━━━━━━━━━━━\u001b[0m\u001b[37m\u001b[0m \u001b[1m2s\u001b[0m 9ms/step - loss: 0.3192 - mean_squared_error: 0.3192 - val_loss: 0.2191 - val_mean_squared_error: 0.2191\n",
      "Epoch 190/400\n",
      "\u001b[1m244/244\u001b[0m \u001b[32m━━━━━━━━━━━━━━━━━━━━\u001b[0m\u001b[37m\u001b[0m \u001b[1m2s\u001b[0m 9ms/step - loss: 0.3516 - mean_squared_error: 0.3516 - val_loss: 0.2548 - val_mean_squared_error: 0.2548\n",
      "Epoch 191/400\n",
      "\u001b[1m244/244\u001b[0m \u001b[32m━━━━━━━━━━━━━━━━━━━━\u001b[0m\u001b[37m\u001b[0m \u001b[1m2s\u001b[0m 9ms/step - loss: 0.3202 - mean_squared_error: 0.3202 - val_loss: 0.2955 - val_mean_squared_error: 0.2955\n",
      "Epoch 192/400\n",
      "\u001b[1m244/244\u001b[0m \u001b[32m━━━━━━━━━━━━━━━━━━━━\u001b[0m\u001b[37m\u001b[0m \u001b[1m2s\u001b[0m 9ms/step - loss: 0.3218 - mean_squared_error: 0.3218 - val_loss: 0.2775 - val_mean_squared_error: 0.2776\n",
      "Epoch 193/400\n",
      "\u001b[1m244/244\u001b[0m \u001b[32m━━━━━━━━━━━━━━━━━━━━\u001b[0m\u001b[37m\u001b[0m \u001b[1m2s\u001b[0m 9ms/step - loss: 0.3878 - mean_squared_error: 0.3878 - val_loss: 0.2887 - val_mean_squared_error: 0.2887\n",
      "Epoch 194/400\n",
      "\u001b[1m244/244\u001b[0m \u001b[32m━━━━━━━━━━━━━━━━━━━━\u001b[0m\u001b[37m\u001b[0m \u001b[1m2s\u001b[0m 9ms/step - loss: 0.3095 - mean_squared_error: 0.3095 - val_loss: 0.3242 - val_mean_squared_error: 0.3243\n",
      "Epoch 195/400\n",
      "\u001b[1m244/244\u001b[0m \u001b[32m━━━━━━━━━━━━━━━━━━━━\u001b[0m\u001b[37m\u001b[0m \u001b[1m2s\u001b[0m 9ms/step - loss: 0.2916 - mean_squared_error: 0.2916 - val_loss: 0.3258 - val_mean_squared_error: 0.3258\n",
      "Epoch 196/400\n",
      "\u001b[1m244/244\u001b[0m \u001b[32m━━━━━━━━━━━━━━━━━━━━\u001b[0m\u001b[37m\u001b[0m \u001b[1m2s\u001b[0m 9ms/step - loss: 0.3014 - mean_squared_error: 0.3014 - val_loss: 0.2963 - val_mean_squared_error: 0.2964\n",
      "Epoch 197/400\n",
      "\u001b[1m244/244\u001b[0m \u001b[32m━━━━━━━━━━━━━━━━━━━━\u001b[0m\u001b[37m\u001b[0m \u001b[1m2s\u001b[0m 9ms/step - loss: 0.2716 - mean_squared_error: 0.2716 - val_loss: 0.2441 - val_mean_squared_error: 0.2441\n",
      "Epoch 198/400\n",
      "\u001b[1m244/244\u001b[0m \u001b[32m━━━━━━━━━━━━━━━━━━━━\u001b[0m\u001b[37m\u001b[0m \u001b[1m2s\u001b[0m 9ms/step - loss: 0.3235 - mean_squared_error: 0.3235 - val_loss: 0.4167 - val_mean_squared_error: 0.4167\n",
      "Epoch 199/400\n",
      "\u001b[1m244/244\u001b[0m \u001b[32m━━━━━━━━━━━━━━━━━━━━\u001b[0m\u001b[37m\u001b[0m \u001b[1m2s\u001b[0m 9ms/step - loss: 0.3071 - mean_squared_error: 0.3071 - val_loss: 0.3713 - val_mean_squared_error: 0.3713\n",
      "Epoch 200/400\n",
      "\u001b[1m244/244\u001b[0m \u001b[32m━━━━━━━━━━━━━━━━━━━━\u001b[0m\u001b[37m\u001b[0m \u001b[1m2s\u001b[0m 9ms/step - loss: 0.3543 - mean_squared_error: 0.3543 - val_loss: 0.2395 - val_mean_squared_error: 0.2395\n",
      "Epoch 201/400\n",
      "\u001b[1m244/244\u001b[0m \u001b[32m━━━━━━━━━━━━━━━━━━━━\u001b[0m\u001b[37m\u001b[0m \u001b[1m2s\u001b[0m 9ms/step - loss: 0.2741 - mean_squared_error: 0.2741 - val_loss: 0.2447 - val_mean_squared_error: 0.2446\n",
      "Epoch 202/400\n",
      "\u001b[1m244/244\u001b[0m \u001b[32m━━━━━━━━━━━━━━━━━━━━\u001b[0m\u001b[37m\u001b[0m \u001b[1m2s\u001b[0m 9ms/step - loss: 0.2781 - mean_squared_error: 0.2781 - val_loss: 0.2590 - val_mean_squared_error: 0.2590\n",
      "Epoch 203/400\n",
      "\u001b[1m244/244\u001b[0m \u001b[32m━━━━━━━━━━━━━━━━━━━━\u001b[0m\u001b[37m\u001b[0m \u001b[1m2s\u001b[0m 9ms/step - loss: 0.2879 - mean_squared_error: 0.2879 - val_loss: 0.2906 - val_mean_squared_error: 0.2906\n",
      "Epoch 204/400\n",
      "\u001b[1m244/244\u001b[0m \u001b[32m━━━━━━━━━━━━━━━━━━━━\u001b[0m\u001b[37m\u001b[0m \u001b[1m2s\u001b[0m 9ms/step - loss: 0.3107 - mean_squared_error: 0.3107 - val_loss: 0.3546 - val_mean_squared_error: 0.3546\n",
      "Epoch 205/400\n",
      "\u001b[1m244/244\u001b[0m \u001b[32m━━━━━━━━━━━━━━━━━━━━\u001b[0m\u001b[37m\u001b[0m \u001b[1m2s\u001b[0m 9ms/step - loss: 0.3068 - mean_squared_error: 0.3069 - val_loss: 0.6958 - val_mean_squared_error: 0.6960\n",
      "Epoch 206/400\n",
      "\u001b[1m244/244\u001b[0m \u001b[32m━━━━━━━━━━━━━━━━━━━━\u001b[0m\u001b[37m\u001b[0m \u001b[1m2s\u001b[0m 9ms/step - loss: 0.2823 - mean_squared_error: 0.2823 - val_loss: 0.2826 - val_mean_squared_error: 0.2826\n",
      "Epoch 207/400\n",
      "\u001b[1m244/244\u001b[0m \u001b[32m━━━━━━━━━━━━━━━━━━━━\u001b[0m\u001b[37m\u001b[0m \u001b[1m2s\u001b[0m 9ms/step - loss: 0.2982 - mean_squared_error: 0.2982 - val_loss: 0.2890 - val_mean_squared_error: 0.2890\n",
      "Epoch 208/400\n",
      "\u001b[1m244/244\u001b[0m \u001b[32m━━━━━━━━━━━━━━━━━━━━\u001b[0m\u001b[37m\u001b[0m \u001b[1m2s\u001b[0m 9ms/step - loss: 0.3194 - mean_squared_error: 0.3194 - val_loss: 0.2485 - val_mean_squared_error: 0.2486\n",
      "Epoch 209/400\n",
      "\u001b[1m244/244\u001b[0m \u001b[32m━━━━━━━━━━━━━━━━━━━━\u001b[0m\u001b[37m\u001b[0m \u001b[1m2s\u001b[0m 9ms/step - loss: 0.3037 - mean_squared_error: 0.3037 - val_loss: 0.3311 - val_mean_squared_error: 0.3311\n",
      "Epoch 210/400\n",
      "\u001b[1m244/244\u001b[0m \u001b[32m━━━━━━━━━━━━━━━━━━━━\u001b[0m\u001b[37m\u001b[0m \u001b[1m2s\u001b[0m 9ms/step - loss: 0.2927 - mean_squared_error: 0.2927 - val_loss: 0.2513 - val_mean_squared_error: 0.2513\n",
      "Epoch 211/400\n",
      "\u001b[1m244/244\u001b[0m \u001b[32m━━━━━━━━━━━━━━━━━━━━\u001b[0m\u001b[37m\u001b[0m \u001b[1m2s\u001b[0m 9ms/step - loss: 0.2917 - mean_squared_error: 0.2917 - val_loss: 0.2905 - val_mean_squared_error: 0.2905\n",
      "Epoch 212/400\n",
      "\u001b[1m244/244\u001b[0m \u001b[32m━━━━━━━━━━━━━━━━━━━━\u001b[0m\u001b[37m\u001b[0m \u001b[1m2s\u001b[0m 9ms/step - loss: 0.2909 - mean_squared_error: 0.2909 - val_loss: 0.3082 - val_mean_squared_error: 0.3082\n",
      "Epoch 213/400\n",
      "\u001b[1m244/244\u001b[0m \u001b[32m━━━━━━━━━━━━━━━━━━━━\u001b[0m\u001b[37m\u001b[0m \u001b[1m2s\u001b[0m 9ms/step - loss: 0.2899 - mean_squared_error: 0.2899 - val_loss: 0.3027 - val_mean_squared_error: 0.3027\n",
      "Epoch 214/400\n",
      "\u001b[1m244/244\u001b[0m \u001b[32m━━━━━━━━━━━━━━━━━━━━\u001b[0m\u001b[37m\u001b[0m \u001b[1m2s\u001b[0m 9ms/step - loss: 0.2902 - mean_squared_error: 0.2902 - val_loss: 0.3241 - val_mean_squared_error: 0.3240\n",
      "Epoch 215/400\n",
      "\u001b[1m244/244\u001b[0m \u001b[32m━━━━━━━━━━━━━━━━━━━━\u001b[0m\u001b[37m\u001b[0m \u001b[1m2s\u001b[0m 9ms/step - loss: 0.2703 - mean_squared_error: 0.2703 - val_loss: 0.2557 - val_mean_squared_error: 0.2557\n",
      "Epoch 216/400\n",
      "\u001b[1m244/244\u001b[0m \u001b[32m━━━━━━━━━━━━━━━━━━━━\u001b[0m\u001b[37m\u001b[0m \u001b[1m2s\u001b[0m 8ms/step - loss: 0.2976 - mean_squared_error: 0.2975 - val_loss: 0.2212 - val_mean_squared_error: 0.2212\n",
      "Epoch 217/400\n",
      "\u001b[1m244/244\u001b[0m \u001b[32m━━━━━━━━━━━━━━━━━━━━\u001b[0m\u001b[37m\u001b[0m \u001b[1m2s\u001b[0m 9ms/step - loss: 0.2899 - mean_squared_error: 0.2899 - val_loss: 0.2621 - val_mean_squared_error: 0.2621\n",
      "Epoch 218/400\n",
      "\u001b[1m244/244\u001b[0m \u001b[32m━━━━━━━━━━━━━━━━━━━━\u001b[0m\u001b[37m\u001b[0m \u001b[1m2s\u001b[0m 9ms/step - loss: 0.2768 - mean_squared_error: 0.2768 - val_loss: 0.2574 - val_mean_squared_error: 0.2574\n",
      "Epoch 219/400\n",
      "\u001b[1m244/244\u001b[0m \u001b[32m━━━━━━━━━━━━━━━━━━━━\u001b[0m\u001b[37m\u001b[0m \u001b[1m2s\u001b[0m 9ms/step - loss: 0.2865 - mean_squared_error: 0.2865 - val_loss: 0.2386 - val_mean_squared_error: 0.2387\n",
      "Epoch 220/400\n",
      "\u001b[1m244/244\u001b[0m \u001b[32m━━━━━━━━━━━━━━━━━━━━\u001b[0m\u001b[37m\u001b[0m \u001b[1m2s\u001b[0m 9ms/step - loss: 0.2890 - mean_squared_error: 0.2890 - val_loss: 0.2928 - val_mean_squared_error: 0.2928\n",
      "Epoch 221/400\n",
      "\u001b[1m244/244\u001b[0m \u001b[32m━━━━━━━━━━━━━━━━━━━━\u001b[0m\u001b[37m\u001b[0m \u001b[1m2s\u001b[0m 9ms/step - loss: 0.2689 - mean_squared_error: 0.2689 - val_loss: 0.2841 - val_mean_squared_error: 0.2841\n",
      "Epoch 222/400\n",
      "\u001b[1m244/244\u001b[0m \u001b[32m━━━━━━━━━━━━━━━━━━━━\u001b[0m\u001b[37m\u001b[0m \u001b[1m2s\u001b[0m 9ms/step - loss: 0.3082 - mean_squared_error: 0.3082 - val_loss: 0.2535 - val_mean_squared_error: 0.2535\n",
      "Epoch 223/400\n",
      "\u001b[1m244/244\u001b[0m \u001b[32m━━━━━━━━━━━━━━━━━━━━\u001b[0m\u001b[37m\u001b[0m \u001b[1m2s\u001b[0m 9ms/step - loss: 0.2873 - mean_squared_error: 0.2872 - val_loss: 0.2655 - val_mean_squared_error: 0.2655\n",
      "Epoch 224/400\n",
      "\u001b[1m244/244\u001b[0m \u001b[32m━━━━━━━━━━━━━━━━━━━━\u001b[0m\u001b[37m\u001b[0m \u001b[1m2s\u001b[0m 9ms/step - loss: 0.2577 - mean_squared_error: 0.2577 - val_loss: 0.2492 - val_mean_squared_error: 0.2492\n",
      "Epoch 225/400\n",
      "\u001b[1m244/244\u001b[0m \u001b[32m━━━━━━━━━━━━━━━━━━━━\u001b[0m\u001b[37m\u001b[0m \u001b[1m2s\u001b[0m 9ms/step - loss: 0.2563 - mean_squared_error: 0.2563 - val_loss: 0.2926 - val_mean_squared_error: 0.2927\n",
      "Epoch 226/400\n",
      "\u001b[1m244/244\u001b[0m \u001b[32m━━━━━━━━━━━━━━━━━━━━\u001b[0m\u001b[37m\u001b[0m \u001b[1m2s\u001b[0m 9ms/step - loss: 0.2637 - mean_squared_error: 0.2637 - val_loss: 0.2113 - val_mean_squared_error: 0.2113\n",
      "Epoch 227/400\n",
      "\u001b[1m244/244\u001b[0m \u001b[32m━━━━━━━━━━━━━━━━━━━━\u001b[0m\u001b[37m\u001b[0m \u001b[1m2s\u001b[0m 9ms/step - loss: 0.2753 - mean_squared_error: 0.2753 - val_loss: 0.2694 - val_mean_squared_error: 0.2694\n",
      "Epoch 228/400\n",
      "\u001b[1m244/244\u001b[0m \u001b[32m━━━━━━━━━━━━━━━━━━━━\u001b[0m\u001b[37m\u001b[0m \u001b[1m2s\u001b[0m 9ms/step - loss: 0.2724 - mean_squared_error: 0.2725 - val_loss: 0.2575 - val_mean_squared_error: 0.2576\n",
      "Epoch 229/400\n",
      "\u001b[1m244/244\u001b[0m \u001b[32m━━━━━━━━━━━━━━━━━━━━\u001b[0m\u001b[37m\u001b[0m \u001b[1m2s\u001b[0m 9ms/step - loss: 0.2504 - mean_squared_error: 0.2504 - val_loss: 0.2546 - val_mean_squared_error: 0.2546\n",
      "Epoch 230/400\n",
      "\u001b[1m244/244\u001b[0m \u001b[32m━━━━━━━━━━━━━━━━━━━━\u001b[0m\u001b[37m\u001b[0m \u001b[1m2s\u001b[0m 9ms/step - loss: 0.3349 - mean_squared_error: 0.3350 - val_loss: 0.2186 - val_mean_squared_error: 0.2185\n",
      "Epoch 231/400\n",
      "\u001b[1m244/244\u001b[0m \u001b[32m━━━━━━━━━━━━━━━━━━━━\u001b[0m\u001b[37m\u001b[0m \u001b[1m2s\u001b[0m 9ms/step - loss: 0.2845 - mean_squared_error: 0.2845 - val_loss: 0.2210 - val_mean_squared_error: 0.2210\n",
      "Epoch 232/400\n",
      "\u001b[1m244/244\u001b[0m \u001b[32m━━━━━━━━━━━━━━━━━━━━\u001b[0m\u001b[37m\u001b[0m \u001b[1m2s\u001b[0m 9ms/step - loss: 0.2781 - mean_squared_error: 0.2781 - val_loss: 0.2098 - val_mean_squared_error: 0.2098\n",
      "Epoch 233/400\n",
      "\u001b[1m244/244\u001b[0m \u001b[32m━━━━━━━━━━━━━━━━━━━━\u001b[0m\u001b[37m\u001b[0m \u001b[1m2s\u001b[0m 9ms/step - loss: 0.2560 - mean_squared_error: 0.2561 - val_loss: 0.1931 - val_mean_squared_error: 0.1931\n",
      "Epoch 234/400\n",
      "\u001b[1m244/244\u001b[0m \u001b[32m━━━━━━━━━━━━━━━━━━━━\u001b[0m\u001b[37m\u001b[0m \u001b[1m2s\u001b[0m 9ms/step - loss: 0.2628 - mean_squared_error: 0.2628 - val_loss: 0.2142 - val_mean_squared_error: 0.2142\n",
      "Epoch 235/400\n",
      "\u001b[1m244/244\u001b[0m \u001b[32m━━━━━━━━━━━━━━━━━━━━\u001b[0m\u001b[37m\u001b[0m \u001b[1m2s\u001b[0m 9ms/step - loss: 0.2425 - mean_squared_error: 0.2425 - val_loss: 0.1959 - val_mean_squared_error: 0.1959\n",
      "Epoch 236/400\n",
      "\u001b[1m244/244\u001b[0m \u001b[32m━━━━━━━━━━━━━━━━━━━━\u001b[0m\u001b[37m\u001b[0m \u001b[1m2s\u001b[0m 9ms/step - loss: 0.2360 - mean_squared_error: 0.2359 - val_loss: 0.2486 - val_mean_squared_error: 0.2486\n",
      "Epoch 237/400\n",
      "\u001b[1m244/244\u001b[0m \u001b[32m━━━━━━━━━━━━━━━━━━━━\u001b[0m\u001b[37m\u001b[0m \u001b[1m2s\u001b[0m 9ms/step - loss: 0.2415 - mean_squared_error: 0.2415 - val_loss: 0.3047 - val_mean_squared_error: 0.3048\n",
      "Epoch 238/400\n",
      "\u001b[1m244/244\u001b[0m \u001b[32m━━━━━━━━━━━━━━━━━━━━\u001b[0m\u001b[37m\u001b[0m \u001b[1m2s\u001b[0m 9ms/step - loss: 0.2408 - mean_squared_error: 0.2408 - val_loss: 0.6887 - val_mean_squared_error: 0.6884\n",
      "Epoch 239/400\n",
      "\u001b[1m244/244\u001b[0m \u001b[32m━━━━━━━━━━━━━━━━━━━━\u001b[0m\u001b[37m\u001b[0m \u001b[1m2s\u001b[0m 9ms/step - loss: 0.2649 - mean_squared_error: 0.2649 - val_loss: 0.2081 - val_mean_squared_error: 0.2080\n",
      "Epoch 240/400\n",
      "\u001b[1m244/244\u001b[0m \u001b[32m━━━━━━━━━━━━━━━━━━━━\u001b[0m\u001b[37m\u001b[0m \u001b[1m2s\u001b[0m 9ms/step - loss: 0.2547 - mean_squared_error: 0.2547 - val_loss: 0.2215 - val_mean_squared_error: 0.2215\n",
      "Epoch 241/400\n",
      "\u001b[1m244/244\u001b[0m \u001b[32m━━━━━━━━━━━━━━━━━━━━\u001b[0m\u001b[37m\u001b[0m \u001b[1m2s\u001b[0m 9ms/step - loss: 0.2332 - mean_squared_error: 0.2332 - val_loss: 0.2301 - val_mean_squared_error: 0.2301\n",
      "Epoch 242/400\n",
      "\u001b[1m244/244\u001b[0m \u001b[32m━━━━━━━━━━━━━━━━━━━━\u001b[0m\u001b[37m\u001b[0m \u001b[1m2s\u001b[0m 9ms/step - loss: 0.2535 - mean_squared_error: 0.2535 - val_loss: 0.2210 - val_mean_squared_error: 0.2210\n",
      "Epoch 243/400\n",
      "\u001b[1m244/244\u001b[0m \u001b[32m━━━━━━━━━━━━━━━━━━━━\u001b[0m\u001b[37m\u001b[0m \u001b[1m2s\u001b[0m 9ms/step - loss: 0.2848 - mean_squared_error: 0.2848 - val_loss: 0.2540 - val_mean_squared_error: 0.2539\n",
      "Epoch 244/400\n",
      "\u001b[1m244/244\u001b[0m \u001b[32m━━━━━━━━━━━━━━━━━━━━\u001b[0m\u001b[37m\u001b[0m \u001b[1m2s\u001b[0m 9ms/step - loss: 0.2276 - mean_squared_error: 0.2276 - val_loss: 0.1862 - val_mean_squared_error: 0.1862\n",
      "Epoch 245/400\n",
      "\u001b[1m244/244\u001b[0m \u001b[32m━━━━━━━━━━━━━━━━━━━━\u001b[0m\u001b[37m\u001b[0m \u001b[1m2s\u001b[0m 9ms/step - loss: 0.2290 - mean_squared_error: 0.2290 - val_loss: 0.1630 - val_mean_squared_error: 0.1630\n",
      "Epoch 246/400\n",
      "\u001b[1m244/244\u001b[0m \u001b[32m━━━━━━━━━━━━━━━━━━━━\u001b[0m\u001b[37m\u001b[0m \u001b[1m2s\u001b[0m 9ms/step - loss: 0.2509 - mean_squared_error: 0.2509 - val_loss: 0.4924 - val_mean_squared_error: 0.4922\n",
      "Epoch 247/400\n",
      "\u001b[1m244/244\u001b[0m \u001b[32m━━━━━━━━━━━━━━━━━━━━\u001b[0m\u001b[37m\u001b[0m \u001b[1m2s\u001b[0m 9ms/step - loss: 0.2510 - mean_squared_error: 0.2510 - val_loss: 0.1954 - val_mean_squared_error: 0.1954\n",
      "Epoch 248/400\n",
      "\u001b[1m244/244\u001b[0m \u001b[32m━━━━━━━━━━━━━━━━━━━━\u001b[0m\u001b[37m\u001b[0m \u001b[1m2s\u001b[0m 9ms/step - loss: 0.2515 - mean_squared_error: 0.2515 - val_loss: 0.1998 - val_mean_squared_error: 0.1998\n",
      "Epoch 249/400\n",
      "\u001b[1m244/244\u001b[0m \u001b[32m━━━━━━━━━━━━━━━━━━━━\u001b[0m\u001b[37m\u001b[0m \u001b[1m2s\u001b[0m 9ms/step - loss: 0.2316 - mean_squared_error: 0.2316 - val_loss: 0.2064 - val_mean_squared_error: 0.2064\n",
      "Epoch 250/400\n",
      "\u001b[1m244/244\u001b[0m \u001b[32m━━━━━━━━━━━━━━━━━━━━\u001b[0m\u001b[37m\u001b[0m \u001b[1m2s\u001b[0m 9ms/step - loss: 0.2388 - mean_squared_error: 0.2388 - val_loss: 0.2233 - val_mean_squared_error: 0.2233\n",
      "Epoch 251/400\n",
      "\u001b[1m244/244\u001b[0m \u001b[32m━━━━━━━━━━━━━━━━━━━━\u001b[0m\u001b[37m\u001b[0m \u001b[1m2s\u001b[0m 9ms/step - loss: 0.2520 - mean_squared_error: 0.2520 - val_loss: 0.1910 - val_mean_squared_error: 0.1910\n",
      "Epoch 252/400\n",
      "\u001b[1m244/244\u001b[0m \u001b[32m━━━━━━━━━━━━━━━━━━━━\u001b[0m\u001b[37m\u001b[0m \u001b[1m2s\u001b[0m 9ms/step - loss: 0.2303 - mean_squared_error: 0.2303 - val_loss: 0.1854 - val_mean_squared_error: 0.1854\n",
      "Epoch 253/400\n",
      "\u001b[1m244/244\u001b[0m \u001b[32m━━━━━━━━━━━━━━━━━━━━\u001b[0m\u001b[37m\u001b[0m \u001b[1m2s\u001b[0m 9ms/step - loss: 0.2317 - mean_squared_error: 0.2317 - val_loss: 0.1931 - val_mean_squared_error: 0.1930\n",
      "Epoch 254/400\n",
      "\u001b[1m244/244\u001b[0m \u001b[32m━━━━━━━━━━━━━━━━━━━━\u001b[0m\u001b[37m\u001b[0m \u001b[1m2s\u001b[0m 9ms/step - loss: 0.2363 - mean_squared_error: 0.2363 - val_loss: 0.2241 - val_mean_squared_error: 0.2241\n",
      "Epoch 255/400\n",
      "\u001b[1m244/244\u001b[0m \u001b[32m━━━━━━━━━━━━━━━━━━━━\u001b[0m\u001b[37m\u001b[0m \u001b[1m2s\u001b[0m 9ms/step - loss: 0.2336 - mean_squared_error: 0.2336 - val_loss: 0.2616 - val_mean_squared_error: 0.2616\n",
      "Epoch 256/400\n",
      "\u001b[1m244/244\u001b[0m \u001b[32m━━━━━━━━━━━━━━━━━━━━\u001b[0m\u001b[37m\u001b[0m \u001b[1m2s\u001b[0m 9ms/step - loss: 0.2554 - mean_squared_error: 0.2554 - val_loss: 0.2163 - val_mean_squared_error: 0.2163\n",
      "Epoch 257/400\n",
      "\u001b[1m244/244\u001b[0m \u001b[32m━━━━━━━━━━━━━━━━━━━━\u001b[0m\u001b[37m\u001b[0m \u001b[1m2s\u001b[0m 9ms/step - loss: 0.2195 - mean_squared_error: 0.2195 - val_loss: 0.2184 - val_mean_squared_error: 0.2185\n",
      "Epoch 258/400\n",
      "\u001b[1m244/244\u001b[0m \u001b[32m━━━━━━━━━━━━━━━━━━━━\u001b[0m\u001b[37m\u001b[0m \u001b[1m2s\u001b[0m 9ms/step - loss: 0.2237 - mean_squared_error: 0.2237 - val_loss: 0.2486 - val_mean_squared_error: 0.2485\n",
      "Epoch 259/400\n",
      "\u001b[1m244/244\u001b[0m \u001b[32m━━━━━━━━━━━━━━━━━━━━\u001b[0m\u001b[37m\u001b[0m \u001b[1m2s\u001b[0m 9ms/step - loss: 0.2414 - mean_squared_error: 0.2414 - val_loss: 0.3408 - val_mean_squared_error: 0.3408\n",
      "Epoch 260/400\n",
      "\u001b[1m244/244\u001b[0m \u001b[32m━━━━━━━━━━━━━━━━━━━━\u001b[0m\u001b[37m\u001b[0m \u001b[1m2s\u001b[0m 9ms/step - loss: 0.2258 - mean_squared_error: 0.2258 - val_loss: 0.2016 - val_mean_squared_error: 0.2016\n",
      "Epoch 261/400\n",
      "\u001b[1m244/244\u001b[0m \u001b[32m━━━━━━━━━━━━━━━━━━━━\u001b[0m\u001b[37m\u001b[0m \u001b[1m2s\u001b[0m 9ms/step - loss: 0.2387 - mean_squared_error: 0.2387 - val_loss: 0.1907 - val_mean_squared_error: 0.1907\n",
      "Epoch 262/400\n",
      "\u001b[1m244/244\u001b[0m \u001b[32m━━━━━━━━━━━━━━━━━━━━\u001b[0m\u001b[37m\u001b[0m \u001b[1m2s\u001b[0m 9ms/step - loss: 0.2272 - mean_squared_error: 0.2272 - val_loss: 0.2149 - val_mean_squared_error: 0.2149\n",
      "Epoch 263/400\n",
      "\u001b[1m244/244\u001b[0m \u001b[32m━━━━━━━━━━━━━━━━━━━━\u001b[0m\u001b[37m\u001b[0m \u001b[1m2s\u001b[0m 9ms/step - loss: 0.2255 - mean_squared_error: 0.2255 - val_loss: 0.1642 - val_mean_squared_error: 0.1642\n",
      "Epoch 264/400\n",
      "\u001b[1m244/244\u001b[0m \u001b[32m━━━━━━━━━━━━━━━━━━━━\u001b[0m\u001b[37m\u001b[0m \u001b[1m2s\u001b[0m 9ms/step - loss: 0.2237 - mean_squared_error: 0.2237 - val_loss: 0.1924 - val_mean_squared_error: 0.1924\n",
      "Epoch 265/400\n",
      "\u001b[1m244/244\u001b[0m \u001b[32m━━━━━━━━━━━━━━━━━━━━\u001b[0m\u001b[37m\u001b[0m \u001b[1m2s\u001b[0m 9ms/step - loss: 0.4024 - mean_squared_error: 0.4024 - val_loss: 0.2060 - val_mean_squared_error: 0.2060\n",
      "Epoch 266/400\n",
      "\u001b[1m244/244\u001b[0m \u001b[32m━━━━━━━━━━━━━━━━━━━━\u001b[0m\u001b[37m\u001b[0m \u001b[1m2s\u001b[0m 9ms/step - loss: 0.2161 - mean_squared_error: 0.2161 - val_loss: 0.2139 - val_mean_squared_error: 0.2139\n",
      "Epoch 267/400\n",
      "\u001b[1m244/244\u001b[0m \u001b[32m━━━━━━━━━━━━━━━━━━━━\u001b[0m\u001b[37m\u001b[0m \u001b[1m2s\u001b[0m 9ms/step - loss: 0.2212 - mean_squared_error: 0.2212 - val_loss: 0.1896 - val_mean_squared_error: 0.1896\n",
      "Epoch 268/400\n",
      "\u001b[1m244/244\u001b[0m \u001b[32m━━━━━━━━━━━━━━━━━━━━\u001b[0m\u001b[37m\u001b[0m \u001b[1m2s\u001b[0m 9ms/step - loss: 0.2456 - mean_squared_error: 0.2456 - val_loss: 0.2369 - val_mean_squared_error: 0.2369\n",
      "Epoch 269/400\n",
      "\u001b[1m244/244\u001b[0m \u001b[32m━━━━━━━━━━━━━━━━━━━━\u001b[0m\u001b[37m\u001b[0m \u001b[1m2s\u001b[0m 9ms/step - loss: 0.2291 - mean_squared_error: 0.2291 - val_loss: 0.2087 - val_mean_squared_error: 0.2087\n",
      "Epoch 270/400\n",
      "\u001b[1m244/244\u001b[0m \u001b[32m━━━━━━━━━━━━━━━━━━━━\u001b[0m\u001b[37m\u001b[0m \u001b[1m2s\u001b[0m 9ms/step - loss: 0.2018 - mean_squared_error: 0.2018 - val_loss: 0.2152 - val_mean_squared_error: 0.2151\n",
      "Epoch 271/400\n",
      "\u001b[1m244/244\u001b[0m \u001b[32m━━━━━━━━━━━━━━━━━━━━\u001b[0m\u001b[37m\u001b[0m \u001b[1m2s\u001b[0m 9ms/step - loss: 0.2197 - mean_squared_error: 0.2197 - val_loss: 0.2146 - val_mean_squared_error: 0.2146\n",
      "Epoch 272/400\n",
      "\u001b[1m244/244\u001b[0m \u001b[32m━━━━━━━━━━━━━━━━━━━━\u001b[0m\u001b[37m\u001b[0m \u001b[1m2s\u001b[0m 9ms/step - loss: 0.2214 - mean_squared_error: 0.2214 - val_loss: 0.2017 - val_mean_squared_error: 0.2017\n",
      "Epoch 273/400\n",
      "\u001b[1m244/244\u001b[0m \u001b[32m━━━━━━━━━━━━━━━━━━━━\u001b[0m\u001b[37m\u001b[0m \u001b[1m2s\u001b[0m 9ms/step - loss: 0.2669 - mean_squared_error: 0.2669 - val_loss: 0.2196 - val_mean_squared_error: 0.2195\n",
      "Epoch 274/400\n",
      "\u001b[1m244/244\u001b[0m \u001b[32m━━━━━━━━━━━━━━━━━━━━\u001b[0m\u001b[37m\u001b[0m \u001b[1m2s\u001b[0m 9ms/step - loss: 0.2376 - mean_squared_error: 0.2376 - val_loss: 0.2393 - val_mean_squared_error: 0.2393\n",
      "Epoch 275/400\n",
      "\u001b[1m244/244\u001b[0m \u001b[32m━━━━━━━━━━━━━━━━━━━━\u001b[0m\u001b[37m\u001b[0m \u001b[1m2s\u001b[0m 9ms/step - loss: 0.2885 - mean_squared_error: 0.2885 - val_loss: 0.1871 - val_mean_squared_error: 0.1871\n",
      "Epoch 276/400\n",
      "\u001b[1m244/244\u001b[0m \u001b[32m━━━━━━━━━━━━━━━━━━━━\u001b[0m\u001b[37m\u001b[0m \u001b[1m2s\u001b[0m 9ms/step - loss: 0.3624 - mean_squared_error: 0.3624 - val_loss: 0.2380 - val_mean_squared_error: 0.2381\n",
      "Epoch 277/400\n",
      "\u001b[1m244/244\u001b[0m \u001b[32m━━━━━━━━━━━━━━━━━━━━\u001b[0m\u001b[37m\u001b[0m \u001b[1m2s\u001b[0m 9ms/step - loss: 0.3016 - mean_squared_error: 0.3016 - val_loss: 0.2142 - val_mean_squared_error: 0.2141\n",
      "Epoch 278/400\n",
      "\u001b[1m244/244\u001b[0m \u001b[32m━━━━━━━━━━━━━━━━━━━━\u001b[0m\u001b[37m\u001b[0m \u001b[1m2s\u001b[0m 9ms/step - loss: 0.2163 - mean_squared_error: 0.2163 - val_loss: 0.1644 - val_mean_squared_error: 0.1644\n",
      "Epoch 279/400\n",
      "\u001b[1m244/244\u001b[0m \u001b[32m━━━━━━━━━━━━━━━━━━━━\u001b[0m\u001b[37m\u001b[0m \u001b[1m2s\u001b[0m 9ms/step - loss: 0.2279 - mean_squared_error: 0.2279 - val_loss: 0.1760 - val_mean_squared_error: 0.1760\n",
      "Epoch 280/400\n",
      "\u001b[1m244/244\u001b[0m \u001b[32m━━━━━━━━━━━━━━━━━━━━\u001b[0m\u001b[37m\u001b[0m \u001b[1m2s\u001b[0m 9ms/step - loss: 0.1990 - mean_squared_error: 0.1990 - val_loss: 0.2034 - val_mean_squared_error: 0.2034\n",
      "Epoch 281/400\n",
      "\u001b[1m244/244\u001b[0m \u001b[32m━━━━━━━━━━━━━━━━━━━━\u001b[0m\u001b[37m\u001b[0m \u001b[1m2s\u001b[0m 9ms/step - loss: 0.2073 - mean_squared_error: 0.2073 - val_loss: 0.3402 - val_mean_squared_error: 0.3400\n",
      "Epoch 282/400\n",
      "\u001b[1m244/244\u001b[0m \u001b[32m━━━━━━━━━━━━━━━━━━━━\u001b[0m\u001b[37m\u001b[0m \u001b[1m2s\u001b[0m 9ms/step - loss: 0.2208 - mean_squared_error: 0.2208 - val_loss: 0.1646 - val_mean_squared_error: 0.1646\n",
      "Epoch 283/400\n",
      "\u001b[1m244/244\u001b[0m \u001b[32m━━━━━━━━━━━━━━━━━━━━\u001b[0m\u001b[37m\u001b[0m \u001b[1m2s\u001b[0m 9ms/step - loss: 0.1961 - mean_squared_error: 0.1961 - val_loss: 0.1588 - val_mean_squared_error: 0.1588\n",
      "Epoch 284/400\n",
      "\u001b[1m244/244\u001b[0m \u001b[32m━━━━━━━━━━━━━━━━━━━━\u001b[0m\u001b[37m\u001b[0m \u001b[1m2s\u001b[0m 9ms/step - loss: 0.2183 - mean_squared_error: 0.2183 - val_loss: 0.1406 - val_mean_squared_error: 0.1407\n",
      "Epoch 285/400\n",
      "\u001b[1m244/244\u001b[0m \u001b[32m━━━━━━━━━━━━━━━━━━━━\u001b[0m\u001b[37m\u001b[0m \u001b[1m2s\u001b[0m 9ms/step - loss: 0.2216 - mean_squared_error: 0.2216 - val_loss: 0.2567 - val_mean_squared_error: 0.2568\n",
      "Epoch 286/400\n",
      "\u001b[1m244/244\u001b[0m \u001b[32m━━━━━━━━━━━━━━━━━━━━\u001b[0m\u001b[37m\u001b[0m \u001b[1m2s\u001b[0m 9ms/step - loss: 0.2403 - mean_squared_error: 0.2403 - val_loss: 0.2528 - val_mean_squared_error: 0.2527\n",
      "Epoch 287/400\n",
      "\u001b[1m244/244\u001b[0m \u001b[32m━━━━━━━━━━━━━━━━━━━━\u001b[0m\u001b[37m\u001b[0m \u001b[1m2s\u001b[0m 9ms/step - loss: 0.1941 - mean_squared_error: 0.1941 - val_loss: 0.2740 - val_mean_squared_error: 0.2740\n",
      "Epoch 288/400\n",
      "\u001b[1m244/244\u001b[0m \u001b[32m━━━━━━━━━━━━━━━━━━━━\u001b[0m\u001b[37m\u001b[0m \u001b[1m2s\u001b[0m 9ms/step - loss: 0.2206 - mean_squared_error: 0.2206 - val_loss: 0.2070 - val_mean_squared_error: 0.2070\n",
      "Epoch 289/400\n",
      "\u001b[1m244/244\u001b[0m \u001b[32m━━━━━━━━━━━━━━━━━━━━\u001b[0m\u001b[37m\u001b[0m \u001b[1m2s\u001b[0m 9ms/step - loss: 0.2288 - mean_squared_error: 0.2288 - val_loss: 0.2127 - val_mean_squared_error: 0.2127\n",
      "Epoch 290/400\n",
      "\u001b[1m244/244\u001b[0m \u001b[32m━━━━━━━━━━━━━━━━━━━━\u001b[0m\u001b[37m\u001b[0m \u001b[1m2s\u001b[0m 8ms/step - loss: 0.1923 - mean_squared_error: 0.1923 - val_loss: 0.1573 - val_mean_squared_error: 0.1573\n",
      "Epoch 291/400\n",
      "\u001b[1m244/244\u001b[0m \u001b[32m━━━━━━━━━━━━━━━━━━━━\u001b[0m\u001b[37m\u001b[0m \u001b[1m2s\u001b[0m 8ms/step - loss: 0.1995 - mean_squared_error: 0.1995 - val_loss: 0.1525 - val_mean_squared_error: 0.1525\n",
      "Epoch 292/400\n",
      "\u001b[1m244/244\u001b[0m \u001b[32m━━━━━━━━━━━━━━━━━━━━\u001b[0m\u001b[37m\u001b[0m \u001b[1m2s\u001b[0m 8ms/step - loss: 0.1962 - mean_squared_error: 0.1962 - val_loss: 0.1558 - val_mean_squared_error: 0.1558\n",
      "Epoch 293/400\n",
      "\u001b[1m244/244\u001b[0m \u001b[32m━━━━━━━━━━━━━━━━━━━━\u001b[0m\u001b[37m\u001b[0m \u001b[1m2s\u001b[0m 8ms/step - loss: 0.2089 - mean_squared_error: 0.2089 - val_loss: 0.1897 - val_mean_squared_error: 0.1896\n",
      "Epoch 294/400\n",
      "\u001b[1m244/244\u001b[0m \u001b[32m━━━━━━━━━━━━━━━━━━━━\u001b[0m\u001b[37m\u001b[0m \u001b[1m2s\u001b[0m 8ms/step - loss: 0.2246 - mean_squared_error: 0.2246 - val_loss: 0.1642 - val_mean_squared_error: 0.1642\n",
      "Epoch 295/400\n",
      "\u001b[1m244/244\u001b[0m \u001b[32m━━━━━━━━━━━━━━━━━━━━\u001b[0m\u001b[37m\u001b[0m \u001b[1m2s\u001b[0m 8ms/step - loss: 0.3072 - mean_squared_error: 0.3071 - val_loss: 0.1718 - val_mean_squared_error: 0.1718\n",
      "Epoch 296/400\n",
      "\u001b[1m244/244\u001b[0m \u001b[32m━━━━━━━━━━━━━━━━━━━━\u001b[0m\u001b[37m\u001b[0m \u001b[1m2s\u001b[0m 9ms/step - loss: 0.2100 - mean_squared_error: 0.2100 - val_loss: 0.1924 - val_mean_squared_error: 0.1924\n",
      "Epoch 297/400\n",
      "\u001b[1m244/244\u001b[0m \u001b[32m━━━━━━━━━━━━━━━━━━━━\u001b[0m\u001b[37m\u001b[0m \u001b[1m2s\u001b[0m 8ms/step - loss: 0.2203 - mean_squared_error: 0.2203 - val_loss: 0.1927 - val_mean_squared_error: 0.1927\n",
      "Epoch 298/400\n",
      "\u001b[1m244/244\u001b[0m \u001b[32m━━━━━━━━━━━━━━━━━━━━\u001b[0m\u001b[37m\u001b[0m \u001b[1m2s\u001b[0m 8ms/step - loss: 0.1950 - mean_squared_error: 0.1950 - val_loss: 0.1590 - val_mean_squared_error: 0.1590\n",
      "Epoch 299/400\n",
      "\u001b[1m244/244\u001b[0m \u001b[32m━━━━━━━━━━━━━━━━━━━━\u001b[0m\u001b[37m\u001b[0m \u001b[1m2s\u001b[0m 9ms/step - loss: 0.2006 - mean_squared_error: 0.2006 - val_loss: 0.1644 - val_mean_squared_error: 0.1644\n",
      "Epoch 300/400\n",
      "\u001b[1m244/244\u001b[0m \u001b[32m━━━━━━━━━━━━━━━━━━━━\u001b[0m\u001b[37m\u001b[0m \u001b[1m2s\u001b[0m 8ms/step - loss: 0.2002 - mean_squared_error: 0.2002 - val_loss: 0.1683 - val_mean_squared_error: 0.1683\n",
      "Epoch 301/400\n",
      "\u001b[1m244/244\u001b[0m \u001b[32m━━━━━━━━━━━━━━━━━━━━\u001b[0m\u001b[37m\u001b[0m \u001b[1m2s\u001b[0m 8ms/step - loss: 0.3172 - mean_squared_error: 0.3172 - val_loss: 0.1867 - val_mean_squared_error: 0.1867\n",
      "Epoch 302/400\n",
      "\u001b[1m244/244\u001b[0m \u001b[32m━━━━━━━━━━━━━━━━━━━━\u001b[0m\u001b[37m\u001b[0m \u001b[1m2s\u001b[0m 8ms/step - loss: 0.1950 - mean_squared_error: 0.1950 - val_loss: 0.1982 - val_mean_squared_error: 0.1982\n",
      "Epoch 303/400\n",
      "\u001b[1m244/244\u001b[0m \u001b[32m━━━━━━━━━━━━━━━━━━━━\u001b[0m\u001b[37m\u001b[0m \u001b[1m2s\u001b[0m 8ms/step - loss: 0.2027 - mean_squared_error: 0.2028 - val_loss: 0.2401 - val_mean_squared_error: 0.2401\n",
      "Epoch 304/400\n",
      "\u001b[1m244/244\u001b[0m \u001b[32m━━━━━━━━━━━━━━━━━━━━\u001b[0m\u001b[37m\u001b[0m \u001b[1m2s\u001b[0m 8ms/step - loss: 0.1947 - mean_squared_error: 0.1946 - val_loss: 0.1817 - val_mean_squared_error: 0.1817\n",
      "Epoch 305/400\n",
      "\u001b[1m244/244\u001b[0m \u001b[32m━━━━━━━━━━━━━━━━━━━━\u001b[0m\u001b[37m\u001b[0m \u001b[1m2s\u001b[0m 8ms/step - loss: 0.2069 - mean_squared_error: 0.2069 - val_loss: 0.1571 - val_mean_squared_error: 0.1571\n",
      "Epoch 306/400\n",
      "\u001b[1m244/244\u001b[0m \u001b[32m━━━━━━━━━━━━━━━━━━━━\u001b[0m\u001b[37m\u001b[0m \u001b[1m2s\u001b[0m 9ms/step - loss: 0.2038 - mean_squared_error: 0.2038 - val_loss: 0.1578 - val_mean_squared_error: 0.1578\n",
      "Epoch 307/400\n",
      "\u001b[1m244/244\u001b[0m \u001b[32m━━━━━━━━━━━━━━━━━━━━\u001b[0m\u001b[37m\u001b[0m \u001b[1m2s\u001b[0m 9ms/step - loss: 0.2002 - mean_squared_error: 0.2002 - val_loss: 0.2106 - val_mean_squared_error: 0.2106\n",
      "Epoch 308/400\n",
      "\u001b[1m244/244\u001b[0m \u001b[32m━━━━━━━━━━━━━━━━━━━━\u001b[0m\u001b[37m\u001b[0m \u001b[1m2s\u001b[0m 9ms/step - loss: 0.2330 - mean_squared_error: 0.2330 - val_loss: 0.1984 - val_mean_squared_error: 0.1984\n",
      "Epoch 309/400\n",
      "\u001b[1m244/244\u001b[0m \u001b[32m━━━━━━━━━━━━━━━━━━━━\u001b[0m\u001b[37m\u001b[0m \u001b[1m2s\u001b[0m 9ms/step - loss: 0.2792 - mean_squared_error: 0.2792 - val_loss: 0.1831 - val_mean_squared_error: 0.1831\n",
      "Epoch 310/400\n",
      "\u001b[1m244/244\u001b[0m \u001b[32m━━━━━━━━━━━━━━━━━━━━\u001b[0m\u001b[37m\u001b[0m \u001b[1m2s\u001b[0m 9ms/step - loss: 0.2132 - mean_squared_error: 0.2132 - val_loss: 0.2402 - val_mean_squared_error: 0.2402\n",
      "Epoch 311/400\n",
      "\u001b[1m244/244\u001b[0m \u001b[32m━━━━━━━━━━━━━━━━━━━━\u001b[0m\u001b[37m\u001b[0m \u001b[1m2s\u001b[0m 9ms/step - loss: 0.2010 - mean_squared_error: 0.2010 - val_loss: 0.1560 - val_mean_squared_error: 0.1560\n",
      "Epoch 312/400\n",
      "\u001b[1m244/244\u001b[0m \u001b[32m━━━━━━━━━━━━━━━━━━━━\u001b[0m\u001b[37m\u001b[0m \u001b[1m2s\u001b[0m 9ms/step - loss: 0.1961 - mean_squared_error: 0.1961 - val_loss: 0.1727 - val_mean_squared_error: 0.1727\n",
      "Epoch 313/400\n",
      "\u001b[1m244/244\u001b[0m \u001b[32m━━━━━━━━━━━━━━━━━━━━\u001b[0m\u001b[37m\u001b[0m \u001b[1m2s\u001b[0m 9ms/step - loss: 0.1982 - mean_squared_error: 0.1982 - val_loss: 0.1777 - val_mean_squared_error: 0.1777\n",
      "Epoch 314/400\n",
      "\u001b[1m244/244\u001b[0m \u001b[32m━━━━━━━━━━━━━━━━━━━━\u001b[0m\u001b[37m\u001b[0m \u001b[1m2s\u001b[0m 8ms/step - loss: 0.1963 - mean_squared_error: 0.1963 - val_loss: 0.1865 - val_mean_squared_error: 0.1866\n",
      "Epoch 315/400\n",
      "\u001b[1m244/244\u001b[0m \u001b[32m━━━━━━━━━━━━━━━━━━━━\u001b[0m\u001b[37m\u001b[0m \u001b[1m2s\u001b[0m 9ms/step - loss: 0.2016 - mean_squared_error: 0.2016 - val_loss: 0.1754 - val_mean_squared_error: 0.1754\n",
      "Epoch 316/400\n",
      "\u001b[1m244/244\u001b[0m \u001b[32m━━━━━━━━━━━━━━━━━━━━\u001b[0m\u001b[37m\u001b[0m \u001b[1m2s\u001b[0m 9ms/step - loss: 0.1982 - mean_squared_error: 0.1982 - val_loss: 0.1891 - val_mean_squared_error: 0.1891\n",
      "Epoch 317/400\n",
      "\u001b[1m244/244\u001b[0m \u001b[32m━━━━━━━━━━━━━━━━━━━━\u001b[0m\u001b[37m\u001b[0m \u001b[1m2s\u001b[0m 9ms/step - loss: 0.1787 - mean_squared_error: 0.1787 - val_loss: 0.1531 - val_mean_squared_error: 0.1531\n",
      "Epoch 318/400\n",
      "\u001b[1m244/244\u001b[0m \u001b[32m━━━━━━━━━━━━━━━━━━━━\u001b[0m\u001b[37m\u001b[0m \u001b[1m2s\u001b[0m 9ms/step - loss: 0.2372 - mean_squared_error: 0.2371 - val_loss: 0.1515 - val_mean_squared_error: 0.1515\n",
      "Epoch 319/400\n",
      "\u001b[1m244/244\u001b[0m \u001b[32m━━━━━━━━━━━━━━━━━━━━\u001b[0m\u001b[37m\u001b[0m \u001b[1m2s\u001b[0m 8ms/step - loss: 0.2017 - mean_squared_error: 0.2018 - val_loss: 0.1836 - val_mean_squared_error: 0.1836\n",
      "Epoch 320/400\n",
      "\u001b[1m244/244\u001b[0m \u001b[32m━━━━━━━━━━━━━━━━━━━━\u001b[0m\u001b[37m\u001b[0m \u001b[1m2s\u001b[0m 8ms/step - loss: 0.1887 - mean_squared_error: 0.1887 - val_loss: 0.1385 - val_mean_squared_error: 0.1385\n",
      "Epoch 321/400\n",
      "\u001b[1m244/244\u001b[0m \u001b[32m━━━━━━━━━━━━━━━━━━━━\u001b[0m\u001b[37m\u001b[0m \u001b[1m2s\u001b[0m 8ms/step - loss: 0.1934 - mean_squared_error: 0.1934 - val_loss: 0.1541 - val_mean_squared_error: 0.1541\n",
      "Epoch 322/400\n",
      "\u001b[1m244/244\u001b[0m \u001b[32m━━━━━━━━━━━━━━━━━━━━\u001b[0m\u001b[37m\u001b[0m \u001b[1m2s\u001b[0m 8ms/step - loss: 0.1848 - mean_squared_error: 0.1848 - val_loss: 0.1604 - val_mean_squared_error: 0.1604\n",
      "Epoch 323/400\n",
      "\u001b[1m244/244\u001b[0m \u001b[32m━━━━━━━━━━━━━━━━━━━━\u001b[0m\u001b[37m\u001b[0m \u001b[1m2s\u001b[0m 8ms/step - loss: 0.1833 - mean_squared_error: 0.1833 - val_loss: 0.1841 - val_mean_squared_error: 0.1841\n",
      "Epoch 324/400\n",
      "\u001b[1m244/244\u001b[0m \u001b[32m━━━━━━━━━━━━━━━━━━━━\u001b[0m\u001b[37m\u001b[0m \u001b[1m2s\u001b[0m 8ms/step - loss: 0.2769 - mean_squared_error: 0.2769 - val_loss: 0.2308 - val_mean_squared_error: 0.2307\n",
      "Epoch 325/400\n",
      "\u001b[1m244/244\u001b[0m \u001b[32m━━━━━━━━━━━━━━━━━━━━\u001b[0m\u001b[37m\u001b[0m \u001b[1m2s\u001b[0m 9ms/step - loss: 0.2112 - mean_squared_error: 0.2112 - val_loss: 0.1802 - val_mean_squared_error: 0.1803\n",
      "Epoch 326/400\n",
      "\u001b[1m244/244\u001b[0m \u001b[32m━━━━━━━━━━━━━━━━━━━━\u001b[0m\u001b[37m\u001b[0m \u001b[1m2s\u001b[0m 8ms/step - loss: 0.1948 - mean_squared_error: 0.1948 - val_loss: 0.1578 - val_mean_squared_error: 0.1578\n",
      "Epoch 327/400\n",
      "\u001b[1m244/244\u001b[0m \u001b[32m━━━━━━━━━━━━━━━━━━━━\u001b[0m\u001b[37m\u001b[0m \u001b[1m2s\u001b[0m 9ms/step - loss: 0.1905 - mean_squared_error: 0.1904 - val_loss: 0.1712 - val_mean_squared_error: 0.1712\n",
      "Epoch 328/400\n",
      "\u001b[1m244/244\u001b[0m \u001b[32m━━━━━━━━━━━━━━━━━━━━\u001b[0m\u001b[37m\u001b[0m \u001b[1m2s\u001b[0m 9ms/step - loss: 0.1804 - mean_squared_error: 0.1804 - val_loss: 0.2118 - val_mean_squared_error: 0.2118\n",
      "Epoch 329/400\n",
      "\u001b[1m244/244\u001b[0m \u001b[32m━━━━━━━━━━━━━━━━━━━━\u001b[0m\u001b[37m\u001b[0m \u001b[1m2s\u001b[0m 9ms/step - loss: 0.1806 - mean_squared_error: 0.1806 - val_loss: 0.1835 - val_mean_squared_error: 0.1835\n",
      "Epoch 330/400\n",
      "\u001b[1m244/244\u001b[0m \u001b[32m━━━━━━━━━━━━━━━━━━━━\u001b[0m\u001b[37m\u001b[0m \u001b[1m2s\u001b[0m 9ms/step - loss: 0.1843 - mean_squared_error: 0.1843 - val_loss: 0.1427 - val_mean_squared_error: 0.1427\n",
      "Epoch 331/400\n",
      "\u001b[1m244/244\u001b[0m \u001b[32m━━━━━━━━━━━━━━━━━━━━\u001b[0m\u001b[37m\u001b[0m \u001b[1m2s\u001b[0m 9ms/step - loss: 0.1743 - mean_squared_error: 0.1743 - val_loss: 0.1865 - val_mean_squared_error: 0.1864\n",
      "Epoch 332/400\n",
      "\u001b[1m244/244\u001b[0m \u001b[32m━━━━━━━━━━━━━━━━━━━━\u001b[0m\u001b[37m\u001b[0m \u001b[1m2s\u001b[0m 9ms/step - loss: 0.2081 - mean_squared_error: 0.2081 - val_loss: 0.1853 - val_mean_squared_error: 0.1852\n",
      "Epoch 333/400\n",
      "\u001b[1m244/244\u001b[0m \u001b[32m━━━━━━━━━━━━━━━━━━━━\u001b[0m\u001b[37m\u001b[0m \u001b[1m2s\u001b[0m 9ms/step - loss: 0.2138 - mean_squared_error: 0.2138 - val_loss: 0.1518 - val_mean_squared_error: 0.1518\n",
      "Epoch 334/400\n",
      "\u001b[1m244/244\u001b[0m \u001b[32m━━━━━━━━━━━━━━━━━━━━\u001b[0m\u001b[37m\u001b[0m \u001b[1m2s\u001b[0m 9ms/step - loss: 0.2093 - mean_squared_error: 0.2093 - val_loss: 0.5960 - val_mean_squared_error: 0.5959\n",
      "Epoch 335/400\n",
      "\u001b[1m244/244\u001b[0m \u001b[32m━━━━━━━━━━━━━━━━━━━━\u001b[0m\u001b[37m\u001b[0m \u001b[1m2s\u001b[0m 9ms/step - loss: 0.2015 - mean_squared_error: 0.2015 - val_loss: 0.1574 - val_mean_squared_error: 0.1574\n",
      "Epoch 336/400\n",
      "\u001b[1m244/244\u001b[0m \u001b[32m━━━━━━━━━━━━━━━━━━━━\u001b[0m\u001b[37m\u001b[0m \u001b[1m2s\u001b[0m 9ms/step - loss: 0.1675 - mean_squared_error: 0.1675 - val_loss: 0.1423 - val_mean_squared_error: 0.1423\n",
      "Epoch 337/400\n",
      "\u001b[1m244/244\u001b[0m \u001b[32m━━━━━━━━━━━━━━━━━━━━\u001b[0m\u001b[37m\u001b[0m \u001b[1m2s\u001b[0m 9ms/step - loss: 0.2094 - mean_squared_error: 0.2094 - val_loss: 0.1585 - val_mean_squared_error: 0.1586\n",
      "Epoch 338/400\n",
      "\u001b[1m244/244\u001b[0m \u001b[32m━━━━━━━━━━━━━━━━━━━━\u001b[0m\u001b[37m\u001b[0m \u001b[1m2s\u001b[0m 9ms/step - loss: 0.1967 - mean_squared_error: 0.1967 - val_loss: 0.1345 - val_mean_squared_error: 0.1345\n",
      "Epoch 339/400\n",
      "\u001b[1m244/244\u001b[0m \u001b[32m━━━━━━━━━━━━━━━━━━━━\u001b[0m\u001b[37m\u001b[0m \u001b[1m2s\u001b[0m 9ms/step - loss: 0.1771 - mean_squared_error: 0.1771 - val_loss: 0.1454 - val_mean_squared_error: 0.1455\n",
      "Epoch 340/400\n",
      "\u001b[1m244/244\u001b[0m \u001b[32m━━━━━━━━━━━━━━━━━━━━\u001b[0m\u001b[37m\u001b[0m \u001b[1m2s\u001b[0m 9ms/step - loss: 0.2284 - mean_squared_error: 0.2284 - val_loss: 0.1733 - val_mean_squared_error: 0.1733\n",
      "Epoch 341/400\n",
      "\u001b[1m244/244\u001b[0m \u001b[32m━━━━━━━━━━━━━━━━━━━━\u001b[0m\u001b[37m\u001b[0m \u001b[1m2s\u001b[0m 9ms/step - loss: 0.1825 - mean_squared_error: 0.1825 - val_loss: 0.1397 - val_mean_squared_error: 0.1397\n",
      "Epoch 342/400\n",
      "\u001b[1m244/244\u001b[0m \u001b[32m━━━━━━━━━━━━━━━━━━━━\u001b[0m\u001b[37m\u001b[0m \u001b[1m2s\u001b[0m 9ms/step - loss: 0.1866 - mean_squared_error: 0.1866 - val_loss: 0.1564 - val_mean_squared_error: 0.1564\n",
      "Epoch 343/400\n",
      "\u001b[1m244/244\u001b[0m \u001b[32m━━━━━━━━━━━━━━━━━━━━\u001b[0m\u001b[37m\u001b[0m \u001b[1m2s\u001b[0m 9ms/step - loss: 0.1702 - mean_squared_error: 0.1702 - val_loss: 0.1292 - val_mean_squared_error: 0.1291\n",
      "Epoch 344/400\n",
      "\u001b[1m244/244\u001b[0m \u001b[32m━━━━━━━━━━━━━━━━━━━━\u001b[0m\u001b[37m\u001b[0m \u001b[1m2s\u001b[0m 9ms/step - loss: 0.1892 - mean_squared_error: 0.1892 - val_loss: 0.1694 - val_mean_squared_error: 0.1694\n",
      "Epoch 345/400\n",
      "\u001b[1m244/244\u001b[0m \u001b[32m━━━━━━━━━━━━━━━━━━━━\u001b[0m\u001b[37m\u001b[0m \u001b[1m2s\u001b[0m 9ms/step - loss: 0.2091 - mean_squared_error: 0.2091 - val_loss: 0.1589 - val_mean_squared_error: 0.1589\n",
      "Epoch 346/400\n",
      "\u001b[1m244/244\u001b[0m \u001b[32m━━━━━━━━━━━━━━━━━━━━\u001b[0m\u001b[37m\u001b[0m \u001b[1m2s\u001b[0m 8ms/step - loss: 0.1669 - mean_squared_error: 0.1670 - val_loss: 0.1528 - val_mean_squared_error: 0.1528\n",
      "Epoch 347/400\n",
      "\u001b[1m244/244\u001b[0m \u001b[32m━━━━━━━━━━━━━━━━━━━━\u001b[0m\u001b[37m\u001b[0m \u001b[1m2s\u001b[0m 9ms/step - loss: 0.1841 - mean_squared_error: 0.1841 - val_loss: 0.1480 - val_mean_squared_error: 0.1481\n",
      "Epoch 348/400\n",
      "\u001b[1m244/244\u001b[0m \u001b[32m━━━━━━━━━━━━━━━━━━━━\u001b[0m\u001b[37m\u001b[0m \u001b[1m2s\u001b[0m 9ms/step - loss: 0.2890 - mean_squared_error: 0.2890 - val_loss: 0.1846 - val_mean_squared_error: 0.1847\n",
      "Epoch 349/400\n",
      "\u001b[1m244/244\u001b[0m \u001b[32m━━━━━━━━━━━━━━━━━━━━\u001b[0m\u001b[37m\u001b[0m \u001b[1m2s\u001b[0m 9ms/step - loss: 0.1562 - mean_squared_error: 0.1562 - val_loss: 0.1481 - val_mean_squared_error: 0.1481\n",
      "Epoch 350/400\n",
      "\u001b[1m244/244\u001b[0m \u001b[32m━━━━━━━━━━━━━━━━━━━━\u001b[0m\u001b[37m\u001b[0m \u001b[1m2s\u001b[0m 9ms/step - loss: 0.1796 - mean_squared_error: 0.1795 - val_loss: 0.1538 - val_mean_squared_error: 0.1539\n",
      "Epoch 351/400\n",
      "\u001b[1m244/244\u001b[0m \u001b[32m━━━━━━━━━━━━━━━━━━━━\u001b[0m\u001b[37m\u001b[0m \u001b[1m2s\u001b[0m 9ms/step - loss: 0.1841 - mean_squared_error: 0.1841 - val_loss: 0.1542 - val_mean_squared_error: 0.1542\n",
      "Epoch 352/400\n",
      "\u001b[1m244/244\u001b[0m \u001b[32m━━━━━━━━━━━━━━━━━━━━\u001b[0m\u001b[37m\u001b[0m \u001b[1m2s\u001b[0m 9ms/step - loss: 0.1705 - mean_squared_error: 0.1705 - val_loss: 0.3962 - val_mean_squared_error: 0.3965\n",
      "Epoch 353/400\n",
      "\u001b[1m244/244\u001b[0m \u001b[32m━━━━━━━━━━━━━━━━━━━━\u001b[0m\u001b[37m\u001b[0m \u001b[1m2s\u001b[0m 9ms/step - loss: 0.1886 - mean_squared_error: 0.1886 - val_loss: 0.1485 - val_mean_squared_error: 0.1485\n",
      "Epoch 354/400\n",
      "\u001b[1m244/244\u001b[0m \u001b[32m━━━━━━━━━━━━━━━━━━━━\u001b[0m\u001b[37m\u001b[0m \u001b[1m2s\u001b[0m 9ms/step - loss: 0.1861 - mean_squared_error: 0.1861 - val_loss: 0.2370 - val_mean_squared_error: 0.2371\n",
      "Epoch 355/400\n",
      "\u001b[1m244/244\u001b[0m \u001b[32m━━━━━━━━━━━━━━━━━━━━\u001b[0m\u001b[37m\u001b[0m \u001b[1m2s\u001b[0m 9ms/step - loss: 0.1729 - mean_squared_error: 0.1729 - val_loss: 0.1918 - val_mean_squared_error: 0.1918\n",
      "Epoch 356/400\n",
      "\u001b[1m244/244\u001b[0m \u001b[32m━━━━━━━━━━━━━━━━━━━━\u001b[0m\u001b[37m\u001b[0m \u001b[1m2s\u001b[0m 9ms/step - loss: 0.1788 - mean_squared_error: 0.1788 - val_loss: 0.1751 - val_mean_squared_error: 0.1750\n",
      "Epoch 357/400\n",
      "\u001b[1m244/244\u001b[0m \u001b[32m━━━━━━━━━━━━━━━━━━━━\u001b[0m\u001b[37m\u001b[0m \u001b[1m2s\u001b[0m 9ms/step - loss: 0.1679 - mean_squared_error: 0.1679 - val_loss: 0.1387 - val_mean_squared_error: 0.1386\n",
      "Epoch 358/400\n",
      "\u001b[1m244/244\u001b[0m \u001b[32m━━━━━━━━━━━━━━━━━━━━\u001b[0m\u001b[37m\u001b[0m \u001b[1m2s\u001b[0m 9ms/step - loss: 0.1586 - mean_squared_error: 0.1586 - val_loss: 0.1250 - val_mean_squared_error: 0.1250\n",
      "Epoch 359/400\n",
      "\u001b[1m244/244\u001b[0m \u001b[32m━━━━━━━━━━━━━━━━━━━━\u001b[0m\u001b[37m\u001b[0m \u001b[1m2s\u001b[0m 9ms/step - loss: 0.1712 - mean_squared_error: 0.1712 - val_loss: 0.1384 - val_mean_squared_error: 0.1385\n",
      "Epoch 360/400\n",
      "\u001b[1m244/244\u001b[0m \u001b[32m━━━━━━━━━━━━━━━━━━━━\u001b[0m\u001b[37m\u001b[0m \u001b[1m2s\u001b[0m 9ms/step - loss: 0.1661 - mean_squared_error: 0.1661 - val_loss: 0.1295 - val_mean_squared_error: 0.1295\n",
      "Epoch 361/400\n",
      "\u001b[1m244/244\u001b[0m \u001b[32m━━━━━━━━━━━━━━━━━━━━\u001b[0m\u001b[37m\u001b[0m \u001b[1m2s\u001b[0m 9ms/step - loss: 0.1867 - mean_squared_error: 0.1867 - val_loss: 0.1493 - val_mean_squared_error: 0.1493\n",
      "Epoch 362/400\n",
      "\u001b[1m244/244\u001b[0m \u001b[32m━━━━━━━━━━━━━━━━━━━━\u001b[0m\u001b[37m\u001b[0m \u001b[1m2s\u001b[0m 9ms/step - loss: 0.1734 - mean_squared_error: 0.1734 - val_loss: 0.1651 - val_mean_squared_error: 0.1651\n",
      "Epoch 363/400\n",
      "\u001b[1m244/244\u001b[0m \u001b[32m━━━━━━━━━━━━━━━━━━━━\u001b[0m\u001b[37m\u001b[0m \u001b[1m2s\u001b[0m 9ms/step - loss: 0.1913 - mean_squared_error: 0.1913 - val_loss: 0.1427 - val_mean_squared_error: 0.1427\n",
      "Epoch 364/400\n",
      "\u001b[1m244/244\u001b[0m \u001b[32m━━━━━━━━━━━━━━━━━━━━\u001b[0m\u001b[37m\u001b[0m \u001b[1m2s\u001b[0m 9ms/step - loss: 0.1664 - mean_squared_error: 0.1664 - val_loss: 0.1606 - val_mean_squared_error: 0.1606\n",
      "Epoch 365/400\n",
      "\u001b[1m244/244\u001b[0m \u001b[32m━━━━━━━━━━━━━━━━━━━━\u001b[0m\u001b[37m\u001b[0m \u001b[1m2s\u001b[0m 9ms/step - loss: 0.1745 - mean_squared_error: 0.1745 - val_loss: 0.2290 - val_mean_squared_error: 0.2291\n",
      "Epoch 366/400\n",
      "\u001b[1m244/244\u001b[0m \u001b[32m━━━━━━━━━━━━━━━━━━━━\u001b[0m\u001b[37m\u001b[0m \u001b[1m2s\u001b[0m 9ms/step - loss: 0.1748 - mean_squared_error: 0.1748 - val_loss: 0.1467 - val_mean_squared_error: 0.1467\n",
      "Epoch 367/400\n",
      "\u001b[1m244/244\u001b[0m \u001b[32m━━━━━━━━━━━━━━━━━━━━\u001b[0m\u001b[37m\u001b[0m \u001b[1m2s\u001b[0m 9ms/step - loss: 0.1885 - mean_squared_error: 0.1885 - val_loss: 0.1577 - val_mean_squared_error: 0.1577\n",
      "Epoch 368/400\n",
      "\u001b[1m244/244\u001b[0m \u001b[32m━━━━━━━━━━━━━━━━━━━━\u001b[0m\u001b[37m\u001b[0m \u001b[1m2s\u001b[0m 9ms/step - loss: 0.1889 - mean_squared_error: 0.1889 - val_loss: 0.1885 - val_mean_squared_error: 0.1885\n",
      "Epoch 369/400\n",
      "\u001b[1m244/244\u001b[0m \u001b[32m━━━━━━━━━━━━━━━━━━━━\u001b[0m\u001b[37m\u001b[0m \u001b[1m2s\u001b[0m 9ms/step - loss: 0.1884 - mean_squared_error: 0.1883 - val_loss: 0.1316 - val_mean_squared_error: 0.1316\n",
      "Epoch 370/400\n",
      "\u001b[1m244/244\u001b[0m \u001b[32m━━━━━━━━━━━━━━━━━━━━\u001b[0m\u001b[37m\u001b[0m \u001b[1m2s\u001b[0m 9ms/step - loss: 0.1743 - mean_squared_error: 0.1743 - val_loss: 0.1933 - val_mean_squared_error: 0.1933\n",
      "Epoch 371/400\n",
      "\u001b[1m244/244\u001b[0m \u001b[32m━━━━━━━━━━━━━━━━━━━━\u001b[0m\u001b[37m\u001b[0m \u001b[1m2s\u001b[0m 9ms/step - loss: 0.1541 - mean_squared_error: 0.1541 - val_loss: 0.1579 - val_mean_squared_error: 0.1579\n",
      "Epoch 372/400\n",
      "\u001b[1m244/244\u001b[0m \u001b[32m━━━━━━━━━━━━━━━━━━━━\u001b[0m\u001b[37m\u001b[0m \u001b[1m2s\u001b[0m 9ms/step - loss: 0.1646 - mean_squared_error: 0.1646 - val_loss: 0.1513 - val_mean_squared_error: 0.1512\n",
      "Epoch 373/400\n",
      "\u001b[1m244/244\u001b[0m \u001b[32m━━━━━━━━━━━━━━━━━━━━\u001b[0m\u001b[37m\u001b[0m \u001b[1m2s\u001b[0m 9ms/step - loss: 0.1831 - mean_squared_error: 0.1831 - val_loss: 0.1196 - val_mean_squared_error: 0.1196\n",
      "Epoch 374/400\n",
      "\u001b[1m244/244\u001b[0m \u001b[32m━━━━━━━━━━━━━━━━━━━━\u001b[0m\u001b[37m\u001b[0m \u001b[1m2s\u001b[0m 9ms/step - loss: 0.2119 - mean_squared_error: 0.2119 - val_loss: 0.1606 - val_mean_squared_error: 0.1606\n",
      "Epoch 375/400\n",
      "\u001b[1m244/244\u001b[0m \u001b[32m━━━━━━━━━━━━━━━━━━━━\u001b[0m\u001b[37m\u001b[0m \u001b[1m2s\u001b[0m 9ms/step - loss: 0.1675 - mean_squared_error: 0.1675 - val_loss: 0.1425 - val_mean_squared_error: 0.1425\n",
      "Epoch 376/400\n",
      "\u001b[1m244/244\u001b[0m \u001b[32m━━━━━━━━━━━━━━━━━━━━\u001b[0m\u001b[37m\u001b[0m \u001b[1m2s\u001b[0m 9ms/step - loss: 0.2366 - mean_squared_error: 0.2366 - val_loss: 0.1118 - val_mean_squared_error: 0.1118\n",
      "Epoch 377/400\n",
      "\u001b[1m244/244\u001b[0m \u001b[32m━━━━━━━━━━━━━━━━━━━━\u001b[0m\u001b[37m\u001b[0m \u001b[1m2s\u001b[0m 9ms/step - loss: 0.1966 - mean_squared_error: 0.1966 - val_loss: 0.1830 - val_mean_squared_error: 0.1830\n",
      "Epoch 378/400\n",
      "\u001b[1m244/244\u001b[0m \u001b[32m━━━━━━━━━━━━━━━━━━━━\u001b[0m\u001b[37m\u001b[0m \u001b[1m2s\u001b[0m 9ms/step - loss: 0.1971 - mean_squared_error: 0.1971 - val_loss: 0.1540 - val_mean_squared_error: 0.1540\n",
      "Epoch 379/400\n",
      "\u001b[1m244/244\u001b[0m \u001b[32m━━━━━━━━━━━━━━━━━━━━\u001b[0m\u001b[37m\u001b[0m \u001b[1m2s\u001b[0m 9ms/step - loss: 0.2467 - mean_squared_error: 0.2467 - val_loss: 0.1295 - val_mean_squared_error: 0.1295\n",
      "Epoch 380/400\n",
      "\u001b[1m244/244\u001b[0m \u001b[32m━━━━━━━━━━━━━━━━━━━━\u001b[0m\u001b[37m\u001b[0m \u001b[1m2s\u001b[0m 9ms/step - loss: 0.1689 - mean_squared_error: 0.1689 - val_loss: 0.1685 - val_mean_squared_error: 0.1685\n",
      "Epoch 381/400\n",
      "\u001b[1m244/244\u001b[0m \u001b[32m━━━━━━━━━━━━━━━━━━━━\u001b[0m\u001b[37m\u001b[0m \u001b[1m2s\u001b[0m 9ms/step - loss: 0.1855 - mean_squared_error: 0.1855 - val_loss: 0.1194 - val_mean_squared_error: 0.1194\n",
      "Epoch 382/400\n",
      "\u001b[1m244/244\u001b[0m \u001b[32m━━━━━━━━━━━━━━━━━━━━\u001b[0m\u001b[37m\u001b[0m \u001b[1m2s\u001b[0m 9ms/step - loss: 0.2087 - mean_squared_error: 0.2087 - val_loss: 0.1329 - val_mean_squared_error: 0.1329\n",
      "Epoch 383/400\n",
      "\u001b[1m244/244\u001b[0m \u001b[32m━━━━━━━━━━━━━━━━━━━━\u001b[0m\u001b[37m\u001b[0m \u001b[1m2s\u001b[0m 9ms/step - loss: 0.1718 - mean_squared_error: 0.1719 - val_loss: 0.1710 - val_mean_squared_error: 0.1709\n",
      "Epoch 384/400\n",
      "\u001b[1m244/244\u001b[0m \u001b[32m━━━━━━━━━━━━━━━━━━━━\u001b[0m\u001b[37m\u001b[0m \u001b[1m2s\u001b[0m 9ms/step - loss: 0.1732 - mean_squared_error: 0.1732 - val_loss: 0.1684 - val_mean_squared_error: 0.1685\n",
      "Epoch 385/400\n",
      "\u001b[1m244/244\u001b[0m \u001b[32m━━━━━━━━━━━━━━━━━━━━\u001b[0m\u001b[37m\u001b[0m \u001b[1m2s\u001b[0m 9ms/step - loss: 0.1688 - mean_squared_error: 0.1688 - val_loss: 0.1050 - val_mean_squared_error: 0.1050\n",
      "Epoch 386/400\n",
      "\u001b[1m244/244\u001b[0m \u001b[32m━━━━━━━━━━━━━━━━━━━━\u001b[0m\u001b[37m\u001b[0m \u001b[1m2s\u001b[0m 9ms/step - loss: 0.1556 - mean_squared_error: 0.1556 - val_loss: 0.1615 - val_mean_squared_error: 0.1615\n",
      "Epoch 387/400\n",
      "\u001b[1m244/244\u001b[0m \u001b[32m━━━━━━━━━━━━━━━━━━━━\u001b[0m\u001b[37m\u001b[0m \u001b[1m2s\u001b[0m 8ms/step - loss: 0.1695 - mean_squared_error: 0.1695 - val_loss: 0.1148 - val_mean_squared_error: 0.1148\n",
      "Epoch 388/400\n",
      "\u001b[1m244/244\u001b[0m \u001b[32m━━━━━━━━━━━━━━━━━━━━\u001b[0m\u001b[37m\u001b[0m \u001b[1m2s\u001b[0m 9ms/step - loss: 0.1819 - mean_squared_error: 0.1819 - val_loss: 0.1404 - val_mean_squared_error: 0.1404\n",
      "Epoch 389/400\n",
      "\u001b[1m244/244\u001b[0m \u001b[32m━━━━━━━━━━━━━━━━━━━━\u001b[0m\u001b[37m\u001b[0m \u001b[1m2s\u001b[0m 8ms/step - loss: 0.1576 - mean_squared_error: 0.1577 - val_loss: 0.1379 - val_mean_squared_error: 0.1379\n",
      "Epoch 390/400\n",
      "\u001b[1m244/244\u001b[0m \u001b[32m━━━━━━━━━━━━━━━━━━━━\u001b[0m\u001b[37m\u001b[0m \u001b[1m2s\u001b[0m 9ms/step - loss: 0.1546 - mean_squared_error: 0.1546 - val_loss: 0.1278 - val_mean_squared_error: 0.1278\n",
      "Epoch 391/400\n",
      "\u001b[1m244/244\u001b[0m \u001b[32m━━━━━━━━━━━━━━━━━━━━\u001b[0m\u001b[37m\u001b[0m \u001b[1m2s\u001b[0m 9ms/step - loss: 0.2009 - mean_squared_error: 0.2009 - val_loss: 0.1285 - val_mean_squared_error: 0.1285\n",
      "Epoch 392/400\n",
      "\u001b[1m244/244\u001b[0m \u001b[32m━━━━━━━━━━━━━━━━━━━━\u001b[0m\u001b[37m\u001b[0m \u001b[1m2s\u001b[0m 9ms/step - loss: 0.1804 - mean_squared_error: 0.1805 - val_loss: 0.1370 - val_mean_squared_error: 0.1370\n",
      "Epoch 393/400\n",
      "\u001b[1m244/244\u001b[0m \u001b[32m━━━━━━━━━━━━━━━━━━━━\u001b[0m\u001b[37m\u001b[0m \u001b[1m2s\u001b[0m 9ms/step - loss: 0.1461 - mean_squared_error: 0.1461 - val_loss: 0.1965 - val_mean_squared_error: 0.1965\n",
      "Epoch 394/400\n",
      "\u001b[1m244/244\u001b[0m \u001b[32m━━━━━━━━━━━━━━━━━━━━\u001b[0m\u001b[37m\u001b[0m \u001b[1m2s\u001b[0m 9ms/step - loss: 0.2367 - mean_squared_error: 0.2367 - val_loss: 0.1281 - val_mean_squared_error: 0.1281\n",
      "Epoch 395/400\n",
      "\u001b[1m244/244\u001b[0m \u001b[32m━━━━━━━━━━━━━━━━━━━━\u001b[0m\u001b[37m\u001b[0m \u001b[1m2s\u001b[0m 9ms/step - loss: 0.1668 - mean_squared_error: 0.1668 - val_loss: 0.1466 - val_mean_squared_error: 0.1466\n",
      "Epoch 396/400\n",
      "\u001b[1m244/244\u001b[0m \u001b[32m━━━━━━━━━━━━━━━━━━━━\u001b[0m\u001b[37m\u001b[0m \u001b[1m2s\u001b[0m 9ms/step - loss: 0.1556 - mean_squared_error: 0.1556 - val_loss: 0.1441 - val_mean_squared_error: 0.1442\n",
      "Epoch 397/400\n",
      "\u001b[1m244/244\u001b[0m \u001b[32m━━━━━━━━━━━━━━━━━━━━\u001b[0m\u001b[37m\u001b[0m \u001b[1m2s\u001b[0m 9ms/step - loss: 0.1411 - mean_squared_error: 0.1411 - val_loss: 0.1304 - val_mean_squared_error: 0.1304\n",
      "Epoch 398/400\n",
      "\u001b[1m244/244\u001b[0m \u001b[32m━━━━━━━━━━━━━━━━━━━━\u001b[0m\u001b[37m\u001b[0m \u001b[1m2s\u001b[0m 9ms/step - loss: 0.3124 - mean_squared_error: 0.3123 - val_loss: 0.1516 - val_mean_squared_error: 0.1516\n",
      "Epoch 399/400\n",
      "\u001b[1m244/244\u001b[0m \u001b[32m━━━━━━━━━━━━━━━━━━━━\u001b[0m\u001b[37m\u001b[0m \u001b[1m2s\u001b[0m 9ms/step - loss: 0.1533 - mean_squared_error: 0.1533 - val_loss: 0.1088 - val_mean_squared_error: 0.1088\n",
      "Epoch 400/400\n",
      "\u001b[1m244/244\u001b[0m \u001b[32m━━━━━━━━━━━━━━━━━━━━\u001b[0m\u001b[37m\u001b[0m \u001b[1m2s\u001b[0m 9ms/step - loss: 0.1808 - mean_squared_error: 0.1808 - val_loss: 0.1554 - val_mean_squared_error: 0.1554\n"
     ]
    }
   ],
   "source": [
    "history = model.fit(\n",
    "    train_dataset,  \n",
    "    validation_data=val_dataset, \n",
    "    epochs=epochs\n",
    ")"
   ]
  },
  {
   "cell_type": "code",
   "execution_count": 26,
   "metadata": {},
   "outputs": [
    {
     "data": {
      "image/png": "[encoded data removed]",
      "text/plain": [
       "<Figure size 1000x500 with 1 Axes>"
      ]
     },
     "metadata": {},
     "output_type": "display_data"
    }
   ],
   "source": [
    "# Plot training loss and validation loss\n",
    "plt.figure(figsize=(10, 5))\n",
    "plt.plot(history.history['loss'][:], label='Training Loss')\n",
    "plt.plot(history.history['val_loss'][:], label='Validation Loss')\n",
    "plt.title('Training and Validation Loss')\n",
    "plt.xlabel('Epoch')\n",
    "plt.ylabel('Loss')\n",
    "plt.legend()\n",
    "plt.show()"
   ]
  },
  {
   "cell_type": "code",
   "execution_count": 27,
   "metadata": {},
   "outputs": [
    {
     "name": "stdout",
     "output_type": "stream",
     "text": [
      "\u001b[1m14/14\u001b[0m \u001b[32m━━━━━━━━━━━━━━━━━━━━\u001b[0m\u001b[37m\u001b[0m \u001b[1m0s\u001b[0m 3ms/step - loss: 0.1229 - mean_squared_error: 0.1229 \n"
     ]
    },
    {
     "data": {
      "text/plain": [
       "[0.13443122804164886, 0.13442285358905792]"
      ]
     },
     "execution_count": 27,
     "metadata": {},
     "output_type": "execute_result"
    }
   ],
   "source": [
    "model.evaluate(test_dataset)"
   ]
  },
  {
   "cell_type": "code",
   "execution_count": 28,
   "metadata": {},
   "outputs": [],
   "source": [
    "model.save(os.path.join(os.path.dirname(os.getcwd()), 'models','avg_lstm_model.keras'))"
   ]
  },
  {
   "cell_type": "code",
   "execution_count": null,
   "metadata": {},
   "outputs": [],
   "source": []
  }
 ],
 "metadata": {
  "kernelspec": {
   "display_name": "env",
   "language": "python",
   "name": "python3"
  },
  "language_info": {
   "codemirror_mode": {
    "name": "ipython",
    "version": 3
   },
   "file_extension": ".py",
   "mimetype": "text/x-python",
   "name": "python",
   "nbconvert_exporter": "python",
   "pygments_lexer": "ipython3",
   "version": "3.12.3"
  }
 },
 "nbformat": 4,
 "nbformat_minor": 2
}
